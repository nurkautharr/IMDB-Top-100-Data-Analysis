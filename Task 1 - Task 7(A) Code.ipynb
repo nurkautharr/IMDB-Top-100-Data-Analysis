{
 "cells": [
  {
   "cell_type": "markdown",
   "id": "068dc3a4",
   "metadata": {},
   "source": [
    "# **<a id=\"Content\"></a>**\n",
    "<h2 style = \"font-size:27px; font-family:Montserrat ; font-weight : bold; background-color: #023e8a; color :#FEF1FE ; text-align: center; border-radius: 5px 5px; padding: 7px\">Table of Content</h2>\n",
    "\n",
    "[**<span style=\"color:#023e8a;\">1. Dataset Introduction</span>**](#1)  \n",
    "[**<span style=\"color:#023e8a;\">2. Exploratory Data Analysis</span>**](#2)  \n",
    "[**<span style=\"color:#023e8a;\">3. Data Preparation</span>**](#3)  \n",
    "[**<span style=\"color:#023e8a;\">4. Model Training and Evaluation</span>**](#4)  "
   ]
  },
  {
   "cell_type": "markdown",
   "id": "998f54bb",
   "metadata": {},
   "source": [
    "<a id=\"1\"></a>\n",
    "<h2 style = \"font-size:27px; font-family:Montserrat ; font-weight : bold; background-color: #023e8a; color :#FEF1FE   ; text-align: center; border-radius: 5px 5px; padding: 7px\">1. Dataset Introduction</h2>"
   ]
  },
  {
   "cell_type": "markdown",
   "id": "22cada25",
   "metadata": {},
   "source": [
    "The dataset contains information about the <b>top 1000 movies listed on the Internet Movie Database</b>, also known as <b>IMDb</b>. This website is the world's most popular and authoritative source for movie, TV and celebrity content. The website also includes ratings and reviews for each movie and TV shows. "
   ]
  },
  {
   "cell_type": "markdown",
   "id": "94cc9e58",
   "metadata": {},
   "source": [
    "<br>\n",
    "<img src = \"Table1.png\", style = \"width: 500px\";>"
   ]
  },
  {
   "cell_type": "markdown",
   "id": "321f26ad",
   "metadata": {},
   "source": [
    "Based on the dataset, here are the attributes that can be classify as categorical and numerical values:\n",
    "\n",
    "- Categorical:\n",
    "\n",
    "    * Certificate\n",
    "    * Genre\n",
    "\n",
    "- Numerical:\n",
    "\n",
    "    * Released_Year\n",
    "    * IMDB_Rating\n",
    "    * No_of_Votes\n",
    "    * Gross"
   ]
  },
  {
   "cell_type": "markdown",
   "id": "aa1bff7d",
   "metadata": {},
   "source": [
    "[**<span style=\"color:#FEF1FE;background-color:#023e8a;border-radius: 5px;padding: 2px\">Go to Table of Content</span>**](#Content)\n",
    "\n",
    "<a id=\"2\"></a>\n",
    "<h2 style = \"font-size:27px; font-family:Montserrat ; font-weight : bold; background-color: #023e8a; color :#FEF1FE   ; text-align: center; border-radius: 5px 5px; padding: 7px\">2. Exploratory Data Analysis</h2>"
   ]
  },
  {
   "cell_type": "code",
   "execution_count": 1,
   "id": "956e3c64",
   "metadata": {},
   "outputs": [],
   "source": [
    "# Import libraries\n",
    "import numpy as np\n",
    "import pandas as pd\n",
    "import seaborn as sns\n",
    "import matplotlib.pyplot as plt"
   ]
  },
  {
   "cell_type": "code",
   "execution_count": 2,
   "id": "be1465ce",
   "metadata": {},
   "outputs": [],
   "source": [
    "# Suppress warnings\n",
    "from warnings import filterwarnings\n",
    "filterwarnings(\"ignore\")"
   ]
  },
  {
   "cell_type": "code",
   "execution_count": 3,
   "id": "57dc3a99",
   "metadata": {},
   "outputs": [],
   "source": [
    "# Load csv file and save as dataframe 'df'\n",
    "df = pd.read_csv('imdb_top_1000.csv')"
   ]
  },
  {
   "cell_type": "code",
   "execution_count": 4,
   "id": "7f656ce3",
   "metadata": {},
   "outputs": [
    {
     "data": {
      "text/html": [
       "<div>\n",
       "<style scoped>\n",
       "    .dataframe tbody tr th:only-of-type {\n",
       "        vertical-align: middle;\n",
       "    }\n",
       "\n",
       "    .dataframe tbody tr th {\n",
       "        vertical-align: top;\n",
       "    }\n",
       "\n",
       "    .dataframe thead th {\n",
       "        text-align: right;\n",
       "    }\n",
       "</style>\n",
       "<table border=\"1\" class=\"dataframe\">\n",
       "  <thead>\n",
       "    <tr style=\"text-align: right;\">\n",
       "      <th></th>\n",
       "      <th>Poster_Link</th>\n",
       "      <th>Series_Title</th>\n",
       "      <th>Released_Year</th>\n",
       "      <th>Certificate</th>\n",
       "      <th>Runtime</th>\n",
       "      <th>Genre</th>\n",
       "      <th>IMDB_Rating</th>\n",
       "      <th>Overview</th>\n",
       "      <th>Meta_score</th>\n",
       "      <th>Director</th>\n",
       "      <th>Star1</th>\n",
       "      <th>Star2</th>\n",
       "      <th>Star3</th>\n",
       "      <th>Star4</th>\n",
       "      <th>No_of_Votes</th>\n",
       "      <th>Gross</th>\n",
       "    </tr>\n",
       "  </thead>\n",
       "  <tbody>\n",
       "    <tr>\n",
       "      <th>0</th>\n",
       "      <td>https://m.media-amazon.com/images/M/MV5BMDFkYT...</td>\n",
       "      <td>The Shawshank Redemption</td>\n",
       "      <td>1994</td>\n",
       "      <td>A</td>\n",
       "      <td>142 min</td>\n",
       "      <td>Drama</td>\n",
       "      <td>9.3</td>\n",
       "      <td>Two imprisoned men bond over a number of years...</td>\n",
       "      <td>80.0</td>\n",
       "      <td>Frank Darabont</td>\n",
       "      <td>Tim Robbins</td>\n",
       "      <td>Morgan Freeman</td>\n",
       "      <td>Bob Gunton</td>\n",
       "      <td>William Sadler</td>\n",
       "      <td>2343110</td>\n",
       "      <td>28,341,469</td>\n",
       "    </tr>\n",
       "    <tr>\n",
       "      <th>1</th>\n",
       "      <td>https://m.media-amazon.com/images/M/MV5BM2MyNj...</td>\n",
       "      <td>The Godfather</td>\n",
       "      <td>1972</td>\n",
       "      <td>A</td>\n",
       "      <td>175 min</td>\n",
       "      <td>Crime, Drama</td>\n",
       "      <td>9.2</td>\n",
       "      <td>An organized crime dynasty's aging patriarch t...</td>\n",
       "      <td>100.0</td>\n",
       "      <td>Francis Ford Coppola</td>\n",
       "      <td>Marlon Brando</td>\n",
       "      <td>Al Pacino</td>\n",
       "      <td>James Caan</td>\n",
       "      <td>Diane Keaton</td>\n",
       "      <td>1620367</td>\n",
       "      <td>134,966,411</td>\n",
       "    </tr>\n",
       "    <tr>\n",
       "      <th>2</th>\n",
       "      <td>https://m.media-amazon.com/images/M/MV5BMTMxNT...</td>\n",
       "      <td>The Dark Knight</td>\n",
       "      <td>2008</td>\n",
       "      <td>UA</td>\n",
       "      <td>152 min</td>\n",
       "      <td>Action, Crime, Drama</td>\n",
       "      <td>9.0</td>\n",
       "      <td>When the menace known as the Joker wreaks havo...</td>\n",
       "      <td>84.0</td>\n",
       "      <td>Christopher Nolan</td>\n",
       "      <td>Christian Bale</td>\n",
       "      <td>Heath Ledger</td>\n",
       "      <td>Aaron Eckhart</td>\n",
       "      <td>Michael Caine</td>\n",
       "      <td>2303232</td>\n",
       "      <td>534,858,444</td>\n",
       "    </tr>\n",
       "    <tr>\n",
       "      <th>3</th>\n",
       "      <td>https://m.media-amazon.com/images/M/MV5BMWMwMG...</td>\n",
       "      <td>The Godfather: Part II</td>\n",
       "      <td>1974</td>\n",
       "      <td>A</td>\n",
       "      <td>202 min</td>\n",
       "      <td>Crime, Drama</td>\n",
       "      <td>9.0</td>\n",
       "      <td>The early life and career of Vito Corleone in ...</td>\n",
       "      <td>90.0</td>\n",
       "      <td>Francis Ford Coppola</td>\n",
       "      <td>Al Pacino</td>\n",
       "      <td>Robert De Niro</td>\n",
       "      <td>Robert Duvall</td>\n",
       "      <td>Diane Keaton</td>\n",
       "      <td>1129952</td>\n",
       "      <td>57,300,000</td>\n",
       "    </tr>\n",
       "    <tr>\n",
       "      <th>4</th>\n",
       "      <td>https://m.media-amazon.com/images/M/MV5BMWU4N2...</td>\n",
       "      <td>12 Angry Men</td>\n",
       "      <td>1957</td>\n",
       "      <td>U</td>\n",
       "      <td>96 min</td>\n",
       "      <td>Crime, Drama</td>\n",
       "      <td>9.0</td>\n",
       "      <td>A jury holdout attempts to prevent a miscarria...</td>\n",
       "      <td>96.0</td>\n",
       "      <td>Sidney Lumet</td>\n",
       "      <td>Henry Fonda</td>\n",
       "      <td>Lee J. Cobb</td>\n",
       "      <td>Martin Balsam</td>\n",
       "      <td>John Fiedler</td>\n",
       "      <td>689845</td>\n",
       "      <td>4,360,000</td>\n",
       "    </tr>\n",
       "  </tbody>\n",
       "</table>\n",
       "</div>"
      ],
      "text/plain": [
       "                                         Poster_Link  \\\n",
       "0  https://m.media-amazon.com/images/M/MV5BMDFkYT...   \n",
       "1  https://m.media-amazon.com/images/M/MV5BM2MyNj...   \n",
       "2  https://m.media-amazon.com/images/M/MV5BMTMxNT...   \n",
       "3  https://m.media-amazon.com/images/M/MV5BMWMwMG...   \n",
       "4  https://m.media-amazon.com/images/M/MV5BMWU4N2...   \n",
       "\n",
       "               Series_Title Released_Year Certificate  Runtime  \\\n",
       "0  The Shawshank Redemption          1994           A  142 min   \n",
       "1             The Godfather          1972           A  175 min   \n",
       "2           The Dark Knight          2008          UA  152 min   \n",
       "3    The Godfather: Part II          1974           A  202 min   \n",
       "4              12 Angry Men          1957           U   96 min   \n",
       "\n",
       "                  Genre  IMDB_Rating  \\\n",
       "0                 Drama          9.3   \n",
       "1          Crime, Drama          9.2   \n",
       "2  Action, Crime, Drama          9.0   \n",
       "3          Crime, Drama          9.0   \n",
       "4          Crime, Drama          9.0   \n",
       "\n",
       "                                            Overview  Meta_score  \\\n",
       "0  Two imprisoned men bond over a number of years...        80.0   \n",
       "1  An organized crime dynasty's aging patriarch t...       100.0   \n",
       "2  When the menace known as the Joker wreaks havo...        84.0   \n",
       "3  The early life and career of Vito Corleone in ...        90.0   \n",
       "4  A jury holdout attempts to prevent a miscarria...        96.0   \n",
       "\n",
       "               Director           Star1           Star2          Star3  \\\n",
       "0        Frank Darabont     Tim Robbins  Morgan Freeman     Bob Gunton   \n",
       "1  Francis Ford Coppola   Marlon Brando       Al Pacino     James Caan   \n",
       "2     Christopher Nolan  Christian Bale    Heath Ledger  Aaron Eckhart   \n",
       "3  Francis Ford Coppola       Al Pacino  Robert De Niro  Robert Duvall   \n",
       "4          Sidney Lumet     Henry Fonda     Lee J. Cobb  Martin Balsam   \n",
       "\n",
       "            Star4  No_of_Votes        Gross  \n",
       "0  William Sadler      2343110   28,341,469  \n",
       "1    Diane Keaton      1620367  134,966,411  \n",
       "2   Michael Caine      2303232  534,858,444  \n",
       "3    Diane Keaton      1129952   57,300,000  \n",
       "4    John Fiedler       689845    4,360,000  "
      ]
     },
     "execution_count": 4,
     "metadata": {},
     "output_type": "execute_result"
    }
   ],
   "source": [
    "# Display the first 5 rows\n",
    "df.head()"
   ]
  },
  {
   "cell_type": "code",
   "execution_count": 5,
   "id": "cea4a204",
   "metadata": {},
   "outputs": [
    {
     "data": {
      "text/plain": [
       "(1000, 16)"
      ]
     },
     "execution_count": 5,
     "metadata": {},
     "output_type": "execute_result"
    }
   ],
   "source": [
    "# Shape of dataframe\n",
    "df.shape"
   ]
  },
  {
   "cell_type": "markdown",
   "id": "1e17fe72",
   "metadata": {},
   "source": [
    "The dataframe consists of 1000 rows and 16 columns."
   ]
  },
  {
   "cell_type": "code",
   "execution_count": 6,
   "id": "767452ad",
   "metadata": {},
   "outputs": [
    {
     "data": {
      "text/plain": [
       "Index(['Poster_Link', 'Series_Title', 'Released_Year', 'Certificate',\n",
       "       'Runtime', 'Genre', 'IMDB_Rating', 'Overview', 'Meta_score', 'Director',\n",
       "       'Star1', 'Star2', 'Star3', 'Star4', 'No_of_Votes', 'Gross'],\n",
       "      dtype='object')"
      ]
     },
     "execution_count": 6,
     "metadata": {},
     "output_type": "execute_result"
    }
   ],
   "source": [
    "# Column names of dataframe\n",
    "df.columns"
   ]
  },
  {
   "cell_type": "code",
   "execution_count": 7,
   "id": "bb320f57",
   "metadata": {},
   "outputs": [],
   "source": [
    "# Drop specified columns from the dataframe\n",
    "df.drop(['Poster_Link', 'Series_Title', 'Overview', 'Director', 'Star1', 'Star2', 'Star3', 'Star4', 'No_of_Votes', 'Gross'], \n",
    "        axis=1, inplace=True)"
   ]
  },
  {
   "cell_type": "markdown",
   "id": "ee9e389b",
   "metadata": {},
   "source": [
    "The columns are being dropped as they do not contribute meaningful information to the analysis. This helps to focus on the essential variables and simplify the dataset."
   ]
  },
  {
   "cell_type": "code",
   "execution_count": 8,
   "id": "e0394f9e",
   "metadata": {},
   "outputs": [
    {
     "data": {
      "text/plain": [
       "Index(['Released_Year', 'Certificate', 'Runtime', 'Genre', 'IMDB_Rating',\n",
       "       'Meta_score'],\n",
       "      dtype='object')"
      ]
     },
     "execution_count": 8,
     "metadata": {},
     "output_type": "execute_result"
    }
   ],
   "source": [
    "# Column names of dataframe\n",
    "df.columns"
   ]
  },
  {
   "cell_type": "markdown",
   "id": "92766c7c",
   "metadata": {},
   "source": [
    "These are the columns selected for further analysis."
   ]
  },
  {
   "cell_type": "code",
   "execution_count": 9,
   "id": "1742ffd6",
   "metadata": {
    "scrolled": true
   },
   "outputs": [
    {
     "name": "stdout",
     "output_type": "stream",
     "text": [
      "<class 'pandas.core.frame.DataFrame'>\n",
      "RangeIndex: 1000 entries, 0 to 999\n",
      "Data columns (total 6 columns):\n",
      " #   Column         Non-Null Count  Dtype  \n",
      "---  ------         --------------  -----  \n",
      " 0   Released_Year  1000 non-null   object \n",
      " 1   Certificate    899 non-null    object \n",
      " 2   Runtime        1000 non-null   object \n",
      " 3   Genre          1000 non-null   object \n",
      " 4   IMDB_Rating    1000 non-null   float64\n",
      " 5   Meta_score     843 non-null    float64\n",
      "dtypes: float64(2), object(4)\n",
      "memory usage: 47.0+ KB\n"
     ]
    }
   ],
   "source": [
    "# Summary of dataframe\n",
    "df.info()"
   ]
  },
  {
   "cell_type": "markdown",
   "id": "ca9d87a6",
   "metadata": {},
   "source": [
    "This indicates details such as the number of non-null values, data types of each column and memory usage for a better understanding on the dataframe structure."
   ]
  },
  {
   "cell_type": "code",
   "execution_count": 10,
   "id": "7dfa8b26",
   "metadata": {
    "scrolled": true
   },
   "outputs": [
    {
     "data": {
      "text/html": [
       "<div>\n",
       "<style scoped>\n",
       "    .dataframe tbody tr th:only-of-type {\n",
       "        vertical-align: middle;\n",
       "    }\n",
       "\n",
       "    .dataframe tbody tr th {\n",
       "        vertical-align: top;\n",
       "    }\n",
       "\n",
       "    .dataframe thead th {\n",
       "        text-align: right;\n",
       "    }\n",
       "</style>\n",
       "<table border=\"1\" class=\"dataframe\">\n",
       "  <thead>\n",
       "    <tr style=\"text-align: right;\">\n",
       "      <th></th>\n",
       "      <th>IMDB_Rating</th>\n",
       "      <th>Meta_score</th>\n",
       "    </tr>\n",
       "  </thead>\n",
       "  <tbody>\n",
       "    <tr>\n",
       "      <th>count</th>\n",
       "      <td>1000.000000</td>\n",
       "      <td>843.000000</td>\n",
       "    </tr>\n",
       "    <tr>\n",
       "      <th>mean</th>\n",
       "      <td>7.949300</td>\n",
       "      <td>77.971530</td>\n",
       "    </tr>\n",
       "    <tr>\n",
       "      <th>std</th>\n",
       "      <td>0.275491</td>\n",
       "      <td>12.376099</td>\n",
       "    </tr>\n",
       "    <tr>\n",
       "      <th>min</th>\n",
       "      <td>7.600000</td>\n",
       "      <td>28.000000</td>\n",
       "    </tr>\n",
       "    <tr>\n",
       "      <th>25%</th>\n",
       "      <td>7.700000</td>\n",
       "      <td>70.000000</td>\n",
       "    </tr>\n",
       "    <tr>\n",
       "      <th>50%</th>\n",
       "      <td>7.900000</td>\n",
       "      <td>79.000000</td>\n",
       "    </tr>\n",
       "    <tr>\n",
       "      <th>75%</th>\n",
       "      <td>8.100000</td>\n",
       "      <td>87.000000</td>\n",
       "    </tr>\n",
       "    <tr>\n",
       "      <th>max</th>\n",
       "      <td>9.300000</td>\n",
       "      <td>100.000000</td>\n",
       "    </tr>\n",
       "  </tbody>\n",
       "</table>\n",
       "</div>"
      ],
      "text/plain": [
       "       IMDB_Rating  Meta_score\n",
       "count  1000.000000  843.000000\n",
       "mean      7.949300   77.971530\n",
       "std       0.275491   12.376099\n",
       "min       7.600000   28.000000\n",
       "25%       7.700000   70.000000\n",
       "50%       7.900000   79.000000\n",
       "75%       8.100000   87.000000\n",
       "max       9.300000  100.000000"
      ]
     },
     "execution_count": 10,
     "metadata": {},
     "output_type": "execute_result"
    }
   ],
   "source": [
    "# Descriptive statistics of dataframe\n",
    "df.describe()"
   ]
  },
  {
   "cell_type": "markdown",
   "id": "f4b8b69b",
   "metadata": {},
   "source": [
    "The descriptive statistics provide a comprehensive overview of three numerical columns in the dataset: 'IMDB_Rating', 'Meta_score' and 'No_of_Votes'. This provide key insights into the distribution and central tendency of these variables.\n",
    "\n",
    "For 'IMDB_Rating,' the statistics reveal that the ratings range from 7.6 to 9.3, with an average rating of approximately 7.95. The majority of movies fall within the interquartile range (25th to 75th percentile) between 7.7 and 8.1.\n",
    "\n",
    "Regarding 'Meta_score,' the scores range from 28 to 100, with an average score of around 77.97. The interquartile range for meta-scores lies between 70 and 87, indicating the central tendency of critical ratings for the majority of movies."
   ]
  },
  {
   "cell_type": "markdown",
   "id": "58fa9d95",
   "metadata": {},
   "source": [
    "For 'No_of_Votes,' the count shows that all 1000 movies have recorded votes. The number of votes ranges from 25088 to 2343110, with an average of approximately 273693. The interquartile range spans from 55526 to 374161, representing the distribution of votes among the movies."
   ]
  },
  {
   "cell_type": "code",
   "execution_count": 11,
   "id": "dd60c723",
   "metadata": {
    "scrolled": true
   },
   "outputs": [
    {
     "data": {
      "text/html": [
       "<div>\n",
       "<style scoped>\n",
       "    .dataframe tbody tr th:only-of-type {\n",
       "        vertical-align: middle;\n",
       "    }\n",
       "\n",
       "    .dataframe tbody tr th {\n",
       "        vertical-align: top;\n",
       "    }\n",
       "\n",
       "    .dataframe thead th {\n",
       "        text-align: right;\n",
       "    }\n",
       "</style>\n",
       "<table border=\"1\" class=\"dataframe\">\n",
       "  <thead>\n",
       "    <tr style=\"text-align: right;\">\n",
       "      <th></th>\n",
       "      <th>Released_Year</th>\n",
       "      <th>Certificate</th>\n",
       "      <th>Runtime</th>\n",
       "      <th>Genre</th>\n",
       "      <th>IMDB_Rating</th>\n",
       "      <th>Meta_score</th>\n",
       "    </tr>\n",
       "  </thead>\n",
       "  <tbody>\n",
       "  </tbody>\n",
       "</table>\n",
       "</div>"
      ],
      "text/plain": [
       "Empty DataFrame\n",
       "Columns: [Released_Year, Certificate, Runtime, Genre, IMDB_Rating, Meta_score]\n",
       "Index: []"
      ]
     },
     "execution_count": 11,
     "metadata": {},
     "output_type": "execute_result"
    }
   ],
   "source": [
    "# Check for duplicated rows\n",
    "df[df.duplicated()]"
   ]
  },
  {
   "cell_type": "markdown",
   "id": "bc0b6a6b",
   "metadata": {},
   "source": [
    "No duplicated row in the dataframe that are identical to each other across all columns."
   ]
  },
  {
   "cell_type": "markdown",
   "id": "50e3b474",
   "metadata": {},
   "source": [
    "<h2 style = \"font-size:23px; font-family:Livvic ; font-weight : bold; background-color:  #023e8a; color :#FEF1FE ; text-align: center; border-radius: 5px 5px; padding: 5px\">Missing Data</h2>"
   ]
  },
  {
   "cell_type": "code",
   "execution_count": 12,
   "id": "f63a1685",
   "metadata": {},
   "outputs": [
    {
     "data": {
      "text/plain": [
       "Released_Year      0\n",
       "Certificate      101\n",
       "Runtime            0\n",
       "Genre              0\n",
       "IMDB_Rating        0\n",
       "Meta_score       157\n",
       "dtype: int64"
      ]
     },
     "execution_count": 12,
     "metadata": {},
     "output_type": "execute_result"
    }
   ],
   "source": [
    "# Check for missing values in each column\n",
    "df.isna().sum()"
   ]
  },
  {
   "cell_type": "markdown",
   "id": "bee9f012",
   "metadata": {},
   "source": [
    "This indicates the number of missing values for each respective column of a dataframe. 'Certificate' has 101 missing values, 'Meta_score' has 157 and 'Gross' has 169. "
   ]
  },
  {
   "cell_type": "code",
   "execution_count": 13,
   "id": "0a48c133",
   "metadata": {},
   "outputs": [
    {
     "data": {
      "text/plain": [
       "Released_Year     0.0\n",
       "Certificate      10.1\n",
       "Runtime           0.0\n",
       "Genre             0.0\n",
       "IMDB_Rating       0.0\n",
       "Meta_score       15.7\n",
       "dtype: float64"
      ]
     },
     "execution_count": 13,
     "metadata": {},
     "output_type": "execute_result"
    }
   ],
   "source": [
    "# Calculate the percentage of missing values in each column\n",
    "(df.isnull().sum() / len(df))*100"
   ]
  },
  {
   "cell_type": "markdown",
   "id": "e5f3fdad",
   "metadata": {},
   "source": [
    "This represents the percentage of missing values in each column which is a useful metric to understand the extent of missing data in dataset."
   ]
  },
  {
   "cell_type": "code",
   "execution_count": 14,
   "id": "90af3f04",
   "metadata": {
    "scrolled": true
   },
   "outputs": [
    {
     "data": {
      "text/plain": [
       "16"
      ]
     },
     "execution_count": 14,
     "metadata": {},
     "output_type": "execute_result"
    }
   ],
   "source": [
    "# Uniques values in 'Certificate' column\n",
    "df['Certificate'].nunique()"
   ]
  },
  {
   "cell_type": "code",
   "execution_count": 15,
   "id": "aa367b03",
   "metadata": {},
   "outputs": [
    {
     "data": {
      "text/plain": [
       "0    U\n",
       "Name: Certificate, dtype: object"
      ]
     },
     "execution_count": 15,
     "metadata": {},
     "output_type": "execute_result"
    }
   ],
   "source": [
    "# Mode of the 'Certificate' column\n",
    "df['Certificate'].mode()"
   ]
  },
  {
   "cell_type": "code",
   "execution_count": 16,
   "id": "ca2fcb13",
   "metadata": {},
   "outputs": [],
   "source": [
    "# Replace null values with 'U'\n",
    "df['Certificate'].fillna('U', inplace = True)"
   ]
  },
  {
   "cell_type": "markdown",
   "id": "f9361a8c",
   "metadata": {},
   "source": [
    "Since most of the movies or tv shows are 'U' (general viewing for all ages) certified, hence null values in 'Certificate' column are being replaced with 'U'."
   ]
  },
  {
   "cell_type": "code",
   "execution_count": 17,
   "id": "c628dfc3",
   "metadata": {},
   "outputs": [],
   "source": [
    "# Fill null values in the 'Meta_score' column with its mean value\n",
    "df['Meta_score'].fillna(df['Meta_score'].mean(), inplace=True)"
   ]
  },
  {
   "cell_type": "markdown",
   "id": "7e8da8bb",
   "metadata": {},
   "source": [
    "Fills the null values in this 'Meta_score' column with the mean value of the existing scores, this approach is a common strategy for handling missing data."
   ]
  },
  {
   "cell_type": "code",
   "execution_count": 18,
   "id": "8bce12bd",
   "metadata": {
    "scrolled": true
   },
   "outputs": [
    {
     "data": {
      "text/plain": [
       "Released_Year    0\n",
       "Certificate      0\n",
       "Runtime          0\n",
       "Genre            0\n",
       "IMDB_Rating      0\n",
       "Meta_score       0\n",
       "dtype: int64"
      ]
     },
     "execution_count": 18,
     "metadata": {},
     "output_type": "execute_result"
    }
   ],
   "source": [
    "# Check for missing values\n",
    "df.isna().sum()"
   ]
  },
  {
   "cell_type": "markdown",
   "id": "269ebe34",
   "metadata": {},
   "source": [
    "The dataset is already clean from missing values."
   ]
  },
  {
   "cell_type": "code",
   "execution_count": 19,
   "id": "978cc302",
   "metadata": {},
   "outputs": [],
   "source": [
    "# Extract the first word from the 'Runtime' column\n",
    "df['Runtime'] = df['Runtime'].str.extract('([^\\s]+)')"
   ]
  },
  {
   "cell_type": "code",
   "execution_count": 20,
   "id": "6e0ba131",
   "metadata": {},
   "outputs": [],
   "source": [
    "# Convert the 'Runtime' column to integer\n",
    "df['Runtime'] = df['Runtime'].astype(int)"
   ]
  },
  {
   "cell_type": "markdown",
   "id": "fbcb491c",
   "metadata": {},
   "source": [
    "This aims to clean the 'Runtime' column by extracting the first word and converting the data types into integer."
   ]
  },
  {
   "cell_type": "code",
   "execution_count": 21,
   "id": "df3f159e",
   "metadata": {
    "scrolled": true
   },
   "outputs": [
    {
     "data": {
      "text/plain": [
       "array(['1994', '1972', '2008', '1974', '1957', '2003', '1993', '2010',\n",
       "       '1999', '2001', '1966', '2002', '1990', '1980', '1975', '2020',\n",
       "       '2019', '2014', '1998', '1997', '1995', '1991', '1977', '1962',\n",
       "       '1954', '1946', '2011', '2006', '2000', '1988', '1985', '1968',\n",
       "       '1960', '1942', '1936', '1931', '2018', '2017', '2016', '2012',\n",
       "       '2009', '2007', '1984', '1981', '1979', '1971', '1963', '1964',\n",
       "       '1950', '1940', '2013', '2005', '2004', '1992', '1987', '1986',\n",
       "       '1983', '1976', '1973', '1965', '1959', '1958', '1952', '1948',\n",
       "       '1944', '1941', '1927', '1921', '2015', '1996', '1989', '1978',\n",
       "       '1961', '1955', '1953', '1925', '1924', '1982', '1967', '1951',\n",
       "       '1949', '1939', '1937', '1934', '1928', '1926', '1920', '1970',\n",
       "       '1969', '1956', '1947', '1945', '1930', '1938', '1935', '1933',\n",
       "       '1932', '1922', '1943', 'PG'], dtype=object)"
      ]
     },
     "execution_count": 21,
     "metadata": {},
     "output_type": "execute_result"
    }
   ],
   "source": [
    "# Unique values in the 'Released_Year' column\n",
    "df['Released_Year'].unique()"
   ]
  },
  {
   "cell_type": "code",
   "execution_count": 22,
   "id": "33a74c77",
   "metadata": {},
   "outputs": [],
   "source": [
    "# Remove rows where 'Released_Year' is equal to 'PG'\n",
    "df = df[df['Released_Year'] != 'PG']"
   ]
  },
  {
   "cell_type": "code",
   "execution_count": 23,
   "id": "59c94eaa",
   "metadata": {},
   "outputs": [],
   "source": [
    "# Convert the 'Released_Year' column to integer\n",
    "df['Released_Year'] = df['Released_Year'].astype(int)"
   ]
  },
  {
   "cell_type": "markdown",
   "id": "edfb2882",
   "metadata": {},
   "source": [
    "Filter out rows where 'Released_Year' is equal to the string 'PG' since 'PG' is not a valid year and should be excluded. Then, converting the data types into integer."
   ]
  },
  {
   "cell_type": "code",
   "execution_count": 24,
   "id": "d9b220c1",
   "metadata": {},
   "outputs": [],
   "source": [
    "# Split the multiple genres in 'Genre' column into a list of genres\n",
    "df['Genre'] = df['Genre'].str.split(',')"
   ]
  },
  {
   "cell_type": "code",
   "execution_count": 25,
   "id": "315aaacd",
   "metadata": {},
   "outputs": [],
   "source": [
    "# Removed any leading or trailing whitespace from each genre\n",
    "df['Genre'] = df['Genre'].apply(lambda x : [i.strip() for i in x])"
   ]
  },
  {
   "cell_type": "code",
   "execution_count": 26,
   "id": "3a7bb43a",
   "metadata": {},
   "outputs": [],
   "source": [
    "# Explode the lists in the 'Genre' column\n",
    "df_exploded = df.explode('Genre')"
   ]
  },
  {
   "cell_type": "code",
   "execution_count": 27,
   "id": "68603b45",
   "metadata": {},
   "outputs": [],
   "source": [
    "# Count and sort 'Genre'\n",
    "genre_counts = df_exploded['Genre'].value_counts()\n",
    "\n",
    "sorted_genres = genre_counts.sort_values(ascending=False).index"
   ]
  },
  {
   "cell_type": "markdown",
   "id": "39d477db",
   "metadata": {},
   "source": [
    "This sequence of operations on the 'Genre' column begins with splitting the comma-separated genres into lists, removing any leading or trailing whitespaces from each genre label and transform the lists into separate rows, duplicating the original rows as needed. Finally, creating a sorted list based on the genre frequencies in descending order, with the most prevalent genres listed first."
   ]
  },
  {
   "cell_type": "code",
   "execution_count": 28,
   "id": "542920df",
   "metadata": {},
   "outputs": [
    {
     "data": {
      "image/png": "[encoded data removed]",
      "text/plain": [
       "<Figure size 640x480 with 1 Axes>"
      ]
     },
     "metadata": {},
     "output_type": "display_data"
    }
   ],
   "source": [
    "# Count plot of distribution of movie genres\n",
    "color_palette = sns.color_palette(\"viridis\", n_colors = len(sorted_genres))\n",
    "sns.countplot(data = df_exploded, x = 'Genre', order = sorted_genres, palette = color_palette)\n",
    "plt.title('Distribution of Movie Genres')\n",
    "plt.xlabel('Genre')\n",
    "plt.ylabel('Count')\n",
    "plt.xticks(rotation=90)\n",
    "plt.show()"
   ]
  },
  {
   "cell_type": "markdown",
   "id": "70c2b0a3",
   "metadata": {},
   "source": [
    "The bar plot visually represents the distribution of movie genres in the dataset. Each bar on the graph corresponds to a specific genre, with the x-axis indicating the genres and the y-axis representing the count or frequency of movies belonging to each genre. The histogram reveals that the drama genre has the highest count among the top movies, suggesting it is the most prevalent genre. On the other hand, the musical genre exhibits the lowest count, indicating that it is less represented among the top movies.This information provides insights into the popularity of specific genres among the top movies."
   ]
  },
  {
   "cell_type": "code",
   "execution_count": 29,
   "id": "51a7c77b",
   "metadata": {
    "scrolled": true
   },
   "outputs": [],
   "source": [
    "# 'Released_Year' column in descending order\n",
    "released_year_desc = df['Released_Year'].sort_values(ascending=False)"
   ]
  },
  {
   "cell_type": "code",
   "execution_count": 30,
   "id": "156f9e36",
   "metadata": {},
   "outputs": [
    {
     "data": {
      "text/plain": [
       "613    2020\n",
       "18     2020\n",
       "464    2020\n",
       "205    2020\n",
       "612    2020\n",
       "       ... \n",
       "193    1925\n",
       "194    1924\n",
       "568    1922\n",
       "127    1921\n",
       "321    1920\n",
       "Name: Released_Year, Length: 999, dtype: int32"
      ]
     },
     "execution_count": 30,
     "metadata": {},
     "output_type": "execute_result"
    }
   ],
   "source": [
    "released_year_desc"
   ]
  },
  {
   "cell_type": "markdown",
   "id": "b2eccc3a",
   "metadata": {},
   "source": [
    "Sort the 'Released_Year' column in order to identify the range of year that the movies being released."
   ]
  },
  {
   "cell_type": "code",
   "execution_count": 31,
   "id": "07c4a855",
   "metadata": {},
   "outputs": [
    {
     "data": {
      "image/png": "[encoded data removed]",
      "text/plain": [
       "<Figure size 1200x600 with 1 Axes>"
      ]
     },
     "metadata": {},
     "output_type": "display_data"
    }
   ],
   "source": [
    "# Histogram of Distribution of top movies released over the years\n",
    "plt.figure(figsize=(12, 6))\n",
    "plt.hist(df['Released_Year'], bins=range(1920, 2020), color='c', edgecolor='black', alpha=0.7)\n",
    "plt.title('Distribution of Top Movies Released Over the Years (1920-2020)')\n",
    "plt.xlabel('Released Year')\n",
    "plt.ylabel('Number of Movies')\n",
    "plt.grid(False)\n",
    "plt.show()"
   ]
  },
  {
   "cell_type": "markdown",
   "id": "8e397264",
   "metadata": {},
   "source": [
    "The bar plot illustrates the distribution of top movies released over the years from 1920 to 2020. Each bar on the graph represents a specific year, with the x-axis denoting the released year and the y-axis representing the number of movies released. The histogram reveals a general increasing trend in the number of top movies released over the specified period, reaching its peak in 2020. This suggests a growth or surge in the production or recognition of noteworthy films in recent years, potentially influenced by evolving trends, technologies or audience preferences."
   ]
  },
  {
   "cell_type": "code",
   "execution_count": 32,
   "id": "930b7d4d",
   "metadata": {},
   "outputs": [
    {
     "data": {
      "image/png": "[encoded data removed]",
      "text/plain": [
       "<Figure size 640x480 with 1 Axes>"
      ]
     },
     "metadata": {},
     "output_type": "display_data"
    }
   ],
   "source": [
    "# Convert 'IMDB_Rating' column to the same scale as 'Meta_score'\n",
    "df['IMDB_Rating'] = df['IMDB_Rating'] * 10\n",
    "\n",
    "# Line plot of average audience and critic ratings of movies over the years\n",
    "plt.plot('IMDB_Rating',data = df.groupby('Released_Year')[['IMDB_Rating','Meta_score']].mean())\n",
    "plt.plot('Meta_score', data = df[df['Meta_score']!=0].groupby('Released_Year')[['IMDB_Rating','Meta_score']].mean())\n",
    "plt.title('Average Critic and Audience Ratings of Movies Over the Years')\n",
    "plt.xlabel('Released Year')\n",
    "plt.ylabel('Average Rating (0-100)')\n",
    "plt.legend()\n",
    "plt.show()"
   ]
  },
  {
   "cell_type": "markdown",
   "id": "ce77abf1",
   "metadata": {},
   "source": [
    "Metascore and IMDb rating are distinct metrics used to evaluate movies, reflecting the perspectives of professional critics and general audiences, respectively. Metascore aggregates reviews from reputable critics, providing a weighted average score on a scale of 0 to 100. It offers a critical consensus and categorizes movies into bands, such as Universal Acclaim or Generally Favorable Reviews. On the other hand, IMDb rating relies on user-generated scores ranging from 1 to 10, with each user's vote carrying equal weight. IMDb reflects the collective opinion of the general audience and while it lacks predefined categories, it offers a straightforward average of user scores. Filmmakers and viewers often consider both metrics to gain comprehensive insights into a movie's reception, considering the perspectives of both critics and the public.\n",
    "\n",
    "The line plot illustrating the average critic and audience ratings  of movies over the years. The output analysis indicates that over the years, there has been a decline in critic ratings, suggesting a general decrease in critical acclaim for movies. However, the plot reveals a trend in the 20th century, critic ratings began to rise again, potentially indicating a resurgence in critical appreciation for films during that period. On the other hand, audience ratings have remained relatively stable or experienced a positive trend over the years. The observed fluctuations in critic ratings may be indicative of changing critical standards or trends in the film industry, while the stability or improvement in audience ratings suggests consistent or growing appeal to moviegoers."
   ]
  },
  {
   "cell_type": "code",
   "execution_count": 33,
   "id": "af5c2412",
   "metadata": {},
   "outputs": [
    {
     "data": {
      "text/plain": [
       "Released_Year\n",
       "1930    152.0\n",
       "1965    151.5\n",
       "1970    143.0\n",
       "1956    140.8\n",
       "1996    137.2\n",
       "        ...  \n",
       "1932     78.5\n",
       "1920     76.0\n",
       "1921     68.0\n",
       "1926     67.0\n",
       "1924     45.0\n",
       "Name: Runtime, Length: 99, dtype: float64"
      ]
     },
     "execution_count": 33,
     "metadata": {},
     "output_type": "execute_result"
    }
   ],
   "source": [
    "# Calculate and sort the average runtime for each year\n",
    "average_runtime_by_year = df.groupby('Released_Year')['Runtime'].mean()\n",
    "\n",
    "sorted_runtime = average_runtime_by_year.sort_values(ascending=False)\n",
    "\n",
    "sorted_runtime"
   ]
  },
  {
   "cell_type": "code",
   "execution_count": 34,
   "id": "3ca075df",
   "metadata": {},
   "outputs": [
    {
     "data": {
      "image/png": "[encoded data removed]",
      "text/plain": [
       "<Figure size 640x480 with 1 Axes>"
      ]
     },
     "metadata": {},
     "output_type": "display_data"
    }
   ],
   "source": [
    "df.groupby('Released_Year')['Runtime'].mean().plot(kind='line')\n",
    "plt.xlabel('Year')\n",
    "plt.ylabel('Average runtime (min)')\n",
    "plt.title('Average Movie Runtimes Over the Years')\n",
    "plt.show()"
   ]
  },
  {
   "cell_type": "markdown",
   "id": "9012a23a",
   "metadata": {},
   "source": [
    "The line plot illustrates the evolution of average movie runtimes over the years. In the early 1900s, films tended to have shorter runtimes, possibly reflecting the cinematic norms and storytelling styles of that era. However, as time progressed there was a notable increase in average runtimes, reaching a peak around 1965 with an average of 149 minutes. From the 1960s onwards, movies generally maintained a consistent average runtime in the range of 120-140 minutes."
   ]
  },
  {
   "cell_type": "markdown",
   "id": "ca895281",
   "metadata": {},
   "source": [
    "<h2 style = \"font-size:23px; font-family:Livvic ; font-weight : bold; background-color:  #023e8a; color :#FEF1FE ; text-align: center; border-radius: 5px 5px; padding: 5px\">Outliers</h2>"
   ]
  },
  {
   "cell_type": "markdown",
   "id": "b8955b94",
   "metadata": {},
   "source": [
    "Outliers are data points that significantly differ from the rest of the data in a dataset. In other words, they are unusually large or small compared to the majority of the data points in a dataset.\n",
    "\n",
    "Identifying and handling outliers is an important step in the data preprocessing and analysis process because they can have a significant impact on statistical measures and machine learning models. Common methods for detecting outliers include statistical measures such as the Interquartile Range (IQR) and visual methods such as box plots or scatter plots."
   ]
  },
  {
   "cell_type": "code",
   "execution_count": 35,
   "id": "88eaf9e6",
   "metadata": {},
   "outputs": [
    {
     "data": {
      "image/png": "[encoded data removed]",
      "text/plain": [
       "<Figure size 1200x800 with 3 Axes>"
      ]
     },
     "metadata": {},
     "output_type": "display_data"
    }
   ],
   "source": [
    "# Selected columns for boxplots\n",
    "columns = ['Runtime', 'IMDB_Rating', 'Meta_score']\n",
    "\n",
    "plt.figure(figsize = (12, 8))\n",
    "for column in columns:\n",
    "    plt.subplot(2, 2, columns.index(column) + 1)\n",
    "    sns.boxplot(x = df[column])\n",
    "    plt.title(f'Boxplot of {column}')\n",
    "\n",
    "plt.tight_layout()\n",
    "plt.show()"
   ]
  },
  {
   "cell_type": "markdown",
   "id": "233adb89",
   "metadata": {},
   "source": [
    "In a boxplot, the presence of outliers is identified by individual data points that fall outside the \"whiskers\" of the box. Outliers are data values that deviate significantly from the central tendency of the dataset. Visually inspecting each boxplot, one can observe points beyond the whiskers, indicating the existence of outliers in the 'Runtime', 'IMDB_Rating' and 'Meta_score' columns."
   ]
  },
  {
   "cell_type": "markdown",
   "id": "b36e57fc",
   "metadata": {},
   "source": [
    "There are four techniques for managing outliers:\n",
    "- Complete removal of outliers, which can help maintain a cleaner dataset but may result in the loss of potentially valuable information. \n",
    "\n",
    "- Treating outliers as missing values and applying data imputation techniques offers a way to retain the entire dataset, relying on methods to estimate missing values accurately.\n",
    "\n",
    "- Discretization which involves grouping continuous data into discrete intervals. By applying discretization to the dataset, outliers are incorporated into specific bins, allowing for a balance between outlier inclusion and managing their impact on statistical analyses.\n",
    "\n",
    "- Capping or censoring outliers involves replacing extreme values with predefined upper and lower limits. This method aims to mitigate the influence of outliers without entirely removing them from the dataset."
   ]
  },
  {
   "cell_type": "markdown",
   "id": "654a5894",
   "metadata": {},
   "source": [
    "In this analysis, the capping method which utilizes the lower and upper bounds based on the quartiles and the calculated IQR is used to handle outliers as it provides a practical way by maintaining a balance between outlier removal and preserving the overall distribution of the data."
   ]
  },
  {
   "cell_type": "code",
   "execution_count": 36,
   "id": "1efab9a4",
   "metadata": {},
   "outputs": [],
   "source": [
    "# Handle outliers across multiple columns using IQR method\n",
    "for column in columns:\n",
    "    \n",
    "    # Calculate IQR\n",
    "    IQR = df[column].quantile(0.75) - df[column].quantile(0.25)\n",
    "\n",
    "    # Define lower and upper bounds\n",
    "    lower_limit = df[column].quantile(0.25) - (IQR * 1.5)\n",
    "    upper_limit = df[column].quantile(0.75) + (IQR * 1.5)\n",
    "\n",
    "    # Replace outliers with the upper/lower limit\n",
    "    df[column] = np.where(df[column] > upper_limit, upper_limit, np.where(df[column] < lower_limit, lower_limit, df[column]))"
   ]
  },
  {
   "cell_type": "code",
   "execution_count": 37,
   "id": "ef40bde4",
   "metadata": {},
   "outputs": [
    {
     "data": {
      "image/png": "[encoded data removed]",
      "text/plain": [
       "<Figure size 1200x800 with 3 Axes>"
      ]
     },
     "metadata": {},
     "output_type": "display_data"
    }
   ],
   "source": [
    "# Boxplots after capping outliers\n",
    "columns = ['Runtime', 'IMDB_Rating', 'Meta_score']\n",
    "\n",
    "plt.figure(figsize=(12, 8))\n",
    "for column in columns:\n",
    "    plt.subplot(2, 2, columns.index(column) + 1)\n",
    "    sns.boxplot(x=df[column])\n",
    "    plt.title(f'Boxplot of {column}')\n",
    "\n",
    "plt.tight_layout()\n",
    "plt.show()"
   ]
  },
  {
   "cell_type": "markdown",
   "id": "1fb4b6f4",
   "metadata": {},
   "source": [
    "The modified boxplots after outlier capping provide a clearer and more accurate representation of the central tendency and variability in the dataset, as extreme values that could skew the interpretation are addressed."
   ]
  },
  {
   "cell_type": "markdown",
   "id": "59d591cf",
   "metadata": {},
   "source": [
    "<h2 style = \"font-size:23px; font-family:Livvic ; font-weight : bold; background-color:  #023e8a; color :#FEF1FE ; text-align: center; border-radius: 5px 5px; padding: 5px\">Data Discretization</h2>"
   ]
  },
  {
   "cell_type": "markdown",
   "id": "441dadaa",
   "metadata": {},
   "source": [
    "Data discretization is a process in data preprocessing that involves converting continuous data into discrete categories or bins. It involves dividing a range of continuous values into a set of intervals or bins and assigning data points to these bins based on their values. This transformation is often done to simplify the analysis, reduce noise or meet the requirements of certain algorithms that work better with categorical or discrete data.\n",
    "\n",
    "There are two main types of data discretization:\n",
    "\n",
    "1. **Equal-Width Discretization (Binning):**\n",
    "   - This method divides the range of values into equal-width intervals or bins. The width of each bin is the same, but the number of data points in each bin may vary.\n",
    "\n",
    "<br>\n",
    "\n",
    "2. **Equal-Frequency Discretization:**\n",
    "   - This method divides data points into intervals in such a way that each bin contains approximately the same number of data points. The width of the intervals may vary, but the goal is to ensure equal frequency in each bin."
   ]
  },
  {
   "cell_type": "code",
   "execution_count": 38,
   "id": "ad8707a9",
   "metadata": {
    "scrolled": true
   },
   "outputs": [
    {
     "data": {
      "text/html": [
       "<div>\n",
       "<style scoped>\n",
       "    .dataframe tbody tr th:only-of-type {\n",
       "        vertical-align: middle;\n",
       "    }\n",
       "\n",
       "    .dataframe tbody tr th {\n",
       "        vertical-align: top;\n",
       "    }\n",
       "\n",
       "    .dataframe thead th {\n",
       "        text-align: right;\n",
       "    }\n",
       "</style>\n",
       "<table border=\"1\" class=\"dataframe\">\n",
       "  <thead>\n",
       "    <tr style=\"text-align: right;\">\n",
       "      <th></th>\n",
       "      <th>Meta_score</th>\n",
       "      <th>Meta_score_Category</th>\n",
       "    </tr>\n",
       "  </thead>\n",
       "  <tbody>\n",
       "    <tr>\n",
       "      <th>0</th>\n",
       "      <td>80.0</td>\n",
       "      <td>Average</td>\n",
       "    </tr>\n",
       "    <tr>\n",
       "      <th>1</th>\n",
       "      <td>100.0</td>\n",
       "      <td>Positive</td>\n",
       "    </tr>\n",
       "    <tr>\n",
       "      <th>2</th>\n",
       "      <td>84.0</td>\n",
       "      <td>Average</td>\n",
       "    </tr>\n",
       "    <tr>\n",
       "      <th>3</th>\n",
       "      <td>90.0</td>\n",
       "      <td>Positive</td>\n",
       "    </tr>\n",
       "    <tr>\n",
       "      <th>4</th>\n",
       "      <td>96.0</td>\n",
       "      <td>Positive</td>\n",
       "    </tr>\n",
       "  </tbody>\n",
       "</table>\n",
       "</div>"
      ],
      "text/plain": [
       "   Meta_score Meta_score_Category\n",
       "0        80.0             Average\n",
       "1       100.0            Positive\n",
       "2        84.0             Average\n",
       "3        90.0            Positive\n",
       "4        96.0            Positive"
      ]
     },
     "execution_count": 38,
     "metadata": {},
     "output_type": "execute_result"
    }
   ],
   "source": [
    "# Define the bin edges and labels\n",
    "bin_edges = [0, 65, 85, 100]\n",
    "bin_labels = ['Negative', 'Average', 'Positive']\n",
    "\n",
    "# New column 'Meta_score_Category' with the assigned categories\n",
    "df['Meta_score_Category'] = pd.cut(df['Meta_score'], bins=bin_edges, labels=bin_labels, include_lowest=True)\n",
    "\n",
    "# Display the updated dataframe\n",
    "df[['Meta_score', 'Meta_score_Category']].head()"
   ]
  },
  {
   "cell_type": "code",
   "execution_count": 39,
   "id": "01d536d2",
   "metadata": {},
   "outputs": [
    {
     "data": {
      "image/png": "[encoded data removed]",
      "text/plain": [
       "<Figure size 800x500 with 1 Axes>"
      ]
     },
     "metadata": {},
     "output_type": "display_data"
    }
   ],
   "source": [
    "# Count of discretized data\n",
    "votes_counts = df['Meta_score_Category'].value_counts()\n",
    "\n",
    "# Sort the value counts in the desired order (Negative, Average, Positive)\n",
    "votes_counts = votes_counts.reindex(['Negative', 'Average', 'Positive'])\n",
    "\n",
    "# Histogram plot\n",
    "plt.figure(figsize=(8, 5))\n",
    "plt.bar(votes_counts.index, votes_counts, color='skyblue')\n",
    "plt.title('Distribution of Movies by Metascore Category')\n",
    "plt.xlabel('Metascore Category')\n",
    "plt.ylabel('Frequency')\n",
    "\n",
    "# Customize x-axis labels based on value counts\n",
    "for i, value in enumerate(votes_counts):\n",
    "    plt.text(i, value + 5, str(value), ha='center', va='bottom')\n",
    "\n",
    "plt.show()"
   ]
  },
  {
   "cell_type": "markdown",
   "id": "89fece7e",
   "metadata": {},
   "source": [
    "The data discretization to the 'Meta_score' column categorizing movie meta score into three distinct categories: 'Negative', 'Average' and 'Positive'. The histogram plot visually represents the distribution of movies across these score categories. In this specific case, there are 128 movies categorized as 'Negative' scores, 621 as 'Average' scores and 250 as 'Positive' scores. This information gives better understanding on patterns in movie meta score and can be informative for decision-making processes related to content creation.\n",
    "\n",
    "It is important to note that the Metascore is not the sole indicator of a movie or TV show's quality or enjoyment. Personal taste and preferences play a significant role in determining whether a particular film or show is enjoyable to an individual viewer. It is always a good idea to read individual reviews, consider the genre and subject matter and watch trailers or previews to form  own opinion."
   ]
  },
  {
   "cell_type": "markdown",
   "id": "77220c7b",
   "metadata": {},
   "source": [
    "<h2 style = \"font-size:23px; font-family:Livvic ; font-weight : bold; background-color:  #023e8a; color :#FEF1FE ; text-align: center; border-radius: 5px 5px; padding: 5px\">Summary</h2>"
   ]
  },
  {
   "cell_type": "markdown",
   "id": "8b647dcb",
   "metadata": {},
   "source": [
    "The analysis of the top 1000 movies on IMDb provides valuable insights for both filmmakers and audiences. Firstly, it highlights genre-specific insights among the top movies, enables a more targeted approach to content creation based on the popularity of particular genres among the audience. Besides, filmmakers also can leverage from movie release trends over the years to strategically plan their movie releases.\n",
    "\n",
    "The insight from financial success and certification could guide filmmakers in making certification decisions to enhance the commercial performance of their movies. Furthermore, from the analysis of average audience and critic ratings, filmmakers can adapt their content to align with changing perspectives and preferences, ensuring resonance with their target audiences.\n",
    "\n",
    "The analysis on average movie runtimes allows filmmakers to tailor their content to meet audience expectations regarding movie duration. The categorization of IMDb ratings offering insights into the distribution of ratings and factors influencing audience perceptions.\n",
    "\n",
    "Overall, these insights empower filmmakers and the film industry to make informed decisions regarding content creation, release strategiesand audience engagement. For audiences, the analysis offers a glimpse into the industry's dynamics and providing a better understanding of the patterns that shape the movies they consume."
   ]
  },
  {
   "cell_type": "markdown",
   "id": "e5fecb3c",
   "metadata": {},
   "source": [
    "[**<span style=\"color:#FEF1FE;background-color:#023e8a;border-radius: 5px;padding: 2px\">Go to Table of Content</span>**](#Content)\n",
    "\n",
    "<a id=\"3\"></a>\n",
    "<h2 style = \"font-size:27px; font-family:Montserrat ; font-weight : bold; background-color: #023e8a; color :#FEF1FE   ; text-align: center; border-radius: 5px 5px; padding: 7px\">3. Data Preparation</h2>"
   ]
  },
  {
   "cell_type": "markdown",
   "id": "f040912a",
   "metadata": {},
   "source": [
    "Data transformation is a crucial preprocessing step to ensure that the input data is suitable for the chosen machine learning algorithm, addressing issues related to scale, format, missing values and distribution characteristics. The choice of transformation techniques depends on the nature of the data and the requirements of the specific machine learning algorithm being used."
   ]
  },
  {
   "cell_type": "code",
   "execution_count": 40,
   "id": "68edc832",
   "metadata": {},
   "outputs": [],
   "source": [
    "# Import libraries\n",
    "from sklearn.preprocessing import MultiLabelBinarizer\n",
    "from sklearn.preprocessing import StandardScaler\n",
    "from sklearn.preprocessing import LabelEncoder"
   ]
  },
  {
   "cell_type": "markdown",
   "id": "d5bd8c1a",
   "metadata": {},
   "source": [
    "<h2 style = \"font-size:23px; font-family:Livvic ; font-weight : bold; background-color:  #023e8a; color :#FEF1FE ; text-align: center; border-radius: 5px 5px; padding: 5px\">Encoding</h2>"
   ]
  },
  {
   "cell_type": "markdown",
   "id": "087032e1",
   "metadata": {},
   "source": [
    "Data encoding refers to the process of converting data from one form or format to another. In the context of machine learning and data analysis, data encoding typically involves transforming categorical or textual data into a numerical format that can be easily processed by machine learning algorithms.\n",
    "\n",
    "There are two types of data encoding that will be applied in this data preparation:\n",
    "\n",
    "1. **Label Encoding:**\n",
    "   - Dealing with nominal categorical labels, where there is a meaningful order among the categories.\n",
    "   - Each unique label is assigned a unique integer. This is often used when the categories have an ordinal relationship.\n",
    "   - For example, categories 'Low,' 'Medium,' and 'High,' converting to 0, 1 and 2, respectively.\n",
    "\n",
    "<br>\n",
    "\n",
    "2. **One-Hot Encoding:**\n",
    "   - Dealing with nominal categorical variables where there is no inherent order among the categories. One-hot encoding is also preferred when dealing with a large number of unique categories in a variable.\n",
    "   - Creates binary columns for each category and represents the presence or absence of that category with 1 or 0, false or true respectively.\n",
    "   - For example, converting [\"dog\", \"cat\", \"dog\"] to a one-hot encoded representation would be [[1, 0], [0, 1], [1, 0]]."
   ]
  },
  {
   "cell_type": "markdown",
   "id": "05196ae2",
   "metadata": {},
   "source": [
    "#### Label Encoding"
   ]
  },
  {
   "cell_type": "code",
   "execution_count": 41,
   "id": "c775ed61",
   "metadata": {},
   "outputs": [],
   "source": [
    "# Create a label encoder instance\n",
    "label_encoder = LabelEncoder()"
   ]
  },
  {
   "cell_type": "code",
   "execution_count": 42,
   "id": "b249fff4",
   "metadata": {},
   "outputs": [],
   "source": [
    "# Apply label encoding to the 'Meta_score_Category' column\n",
    "df['Meta_score_Label'] = label_encoder.fit_transform(df['Meta_score_Category'])"
   ]
  },
  {
   "cell_type": "code",
   "execution_count": 43,
   "id": "f944a069",
   "metadata": {
    "scrolled": true
   },
   "outputs": [
    {
     "data": {
      "text/html": [
       "<div>\n",
       "<style scoped>\n",
       "    .dataframe tbody tr th:only-of-type {\n",
       "        vertical-align: middle;\n",
       "    }\n",
       "\n",
       "    .dataframe tbody tr th {\n",
       "        vertical-align: top;\n",
       "    }\n",
       "\n",
       "    .dataframe thead th {\n",
       "        text-align: right;\n",
       "    }\n",
       "</style>\n",
       "<table border=\"1\" class=\"dataframe\">\n",
       "  <thead>\n",
       "    <tr style=\"text-align: right;\">\n",
       "      <th></th>\n",
       "      <th>Meta_score</th>\n",
       "      <th>Meta_score_Category</th>\n",
       "      <th>Meta_score_Label</th>\n",
       "    </tr>\n",
       "  </thead>\n",
       "  <tbody>\n",
       "    <tr>\n",
       "      <th>0</th>\n",
       "      <td>80.0</td>\n",
       "      <td>Average</td>\n",
       "      <td>0</td>\n",
       "    </tr>\n",
       "    <tr>\n",
       "      <th>1</th>\n",
       "      <td>100.0</td>\n",
       "      <td>Positive</td>\n",
       "      <td>2</td>\n",
       "    </tr>\n",
       "    <tr>\n",
       "      <th>2</th>\n",
       "      <td>84.0</td>\n",
       "      <td>Average</td>\n",
       "      <td>0</td>\n",
       "    </tr>\n",
       "    <tr>\n",
       "      <th>3</th>\n",
       "      <td>90.0</td>\n",
       "      <td>Positive</td>\n",
       "      <td>2</td>\n",
       "    </tr>\n",
       "    <tr>\n",
       "      <th>4</th>\n",
       "      <td>96.0</td>\n",
       "      <td>Positive</td>\n",
       "      <td>2</td>\n",
       "    </tr>\n",
       "  </tbody>\n",
       "</table>\n",
       "</div>"
      ],
      "text/plain": [
       "   Meta_score Meta_score_Category  Meta_score_Label\n",
       "0        80.0             Average                 0\n",
       "1       100.0            Positive                 2\n",
       "2        84.0             Average                 0\n",
       "3        90.0            Positive                 2\n",
       "4        96.0            Positive                 2"
      ]
     },
     "execution_count": 43,
     "metadata": {},
     "output_type": "execute_result"
    }
   ],
   "source": [
    "# Display the first few rows of the DataFrame with the encoded column\n",
    "df[['Meta_score', 'Meta_score_Category', 'Meta_score_Label']].head()"
   ]
  },
  {
   "cell_type": "markdown",
   "id": "a59b9aa9",
   "metadata": {},
   "source": [
    "#### One-Hot Encoding"
   ]
  },
  {
   "cell_type": "markdown",
   "id": "db97ef0b",
   "metadata": {},
   "source": [
    "Both pd.get_dummies and MultiLabelBinarizer from scikit-learn are used for one-hot encoding, but they have some differences in terms of use cases and functionalities.\n",
    "\n",
    "1. **pd.get_dummies:**\n",
    "   - Suitable for one-hot encoding categorical variables where each observation belongs to only one category (single-label).\n",
    "\n",
    "<br>\n",
    "\n",
    "2. **MultiLabelBinarizer:**\n",
    "    - Typically used when dealing with multilabel data where each observation can belong to multiple categories. Can handle situations where a sample has multiple labels across different categories."
   ]
  },
  {
   "cell_type": "markdown",
   "id": "e69185b9",
   "metadata": {},
   "source": [
    "The 'Genre' column contains lists of genres associated with each movie, in the other word each movie can belong to multiple genres. Hence, MultiLabelBinarizer is used to one-hot encode these genres into binary columns, indicating the presence or absence of each genre for each movie."
   ]
  },
  {
   "cell_type": "code",
   "execution_count": 44,
   "id": "c0810f96",
   "metadata": {},
   "outputs": [],
   "source": [
    "# Initialize MultiLabelBinarizer\n",
    "mlb = MultiLabelBinarizer()"
   ]
  },
  {
   "cell_type": "markdown",
   "id": "1fc1b4d3",
   "metadata": {},
   "source": [
    "MultiLabelBinarizer is a utility class in scikit-learn used for transforming a list of lists or an iterable of sets into a binary format suitable for machine learning tasks. It is particularly useful when dealing with multi-label classification problems."
   ]
  },
  {
   "cell_type": "code",
   "execution_count": 45,
   "id": "c0a91db8",
   "metadata": {},
   "outputs": [],
   "source": [
    "# Convert the one-hot encoded array to a dataframe\n",
    "genre_encoded = pd.DataFrame(mlb.fit_transform(df['Genre']), columns=mlb.classes_, index = df.index)"
   ]
  },
  {
   "cell_type": "markdown",
   "id": "bd783a8f",
   "metadata": {},
   "source": [
    "In this case, 'Genre' column is being transformed into into a binary format (one-hot encoded array),  where each genre becomes a binary feature indicating its presence or absence for each movie. This encoded data is in a format that compatible with machine learning models, allowing the models to effectively learn from and make predictions on datasets containing categorical information."
   ]
  },
  {
   "cell_type": "code",
   "execution_count": 46,
   "id": "cefd811d",
   "metadata": {},
   "outputs": [
    {
     "data": {
      "text/html": [
       "<div>\n",
       "<style scoped>\n",
       "    .dataframe tbody tr th:only-of-type {\n",
       "        vertical-align: middle;\n",
       "    }\n",
       "\n",
       "    .dataframe tbody tr th {\n",
       "        vertical-align: top;\n",
       "    }\n",
       "\n",
       "    .dataframe thead th {\n",
       "        text-align: right;\n",
       "    }\n",
       "</style>\n",
       "<table border=\"1\" class=\"dataframe\">\n",
       "  <thead>\n",
       "    <tr style=\"text-align: right;\">\n",
       "      <th></th>\n",
       "      <th>Action</th>\n",
       "      <th>Adventure</th>\n",
       "      <th>Animation</th>\n",
       "      <th>Biography</th>\n",
       "      <th>Comedy</th>\n",
       "      <th>Crime</th>\n",
       "      <th>Drama</th>\n",
       "      <th>Family</th>\n",
       "      <th>Fantasy</th>\n",
       "      <th>Film-Noir</th>\n",
       "      <th>...</th>\n",
       "      <th>Horror</th>\n",
       "      <th>Music</th>\n",
       "      <th>Musical</th>\n",
       "      <th>Mystery</th>\n",
       "      <th>Romance</th>\n",
       "      <th>Sci-Fi</th>\n",
       "      <th>Sport</th>\n",
       "      <th>Thriller</th>\n",
       "      <th>War</th>\n",
       "      <th>Western</th>\n",
       "    </tr>\n",
       "  </thead>\n",
       "  <tbody>\n",
       "    <tr>\n",
       "      <th>0</th>\n",
       "      <td>0</td>\n",
       "      <td>0</td>\n",
       "      <td>0</td>\n",
       "      <td>0</td>\n",
       "      <td>0</td>\n",
       "      <td>0</td>\n",
       "      <td>1</td>\n",
       "      <td>0</td>\n",
       "      <td>0</td>\n",
       "      <td>0</td>\n",
       "      <td>...</td>\n",
       "      <td>0</td>\n",
       "      <td>0</td>\n",
       "      <td>0</td>\n",
       "      <td>0</td>\n",
       "      <td>0</td>\n",
       "      <td>0</td>\n",
       "      <td>0</td>\n",
       "      <td>0</td>\n",
       "      <td>0</td>\n",
       "      <td>0</td>\n",
       "    </tr>\n",
       "    <tr>\n",
       "      <th>1</th>\n",
       "      <td>0</td>\n",
       "      <td>0</td>\n",
       "      <td>0</td>\n",
       "      <td>0</td>\n",
       "      <td>0</td>\n",
       "      <td>1</td>\n",
       "      <td>1</td>\n",
       "      <td>0</td>\n",
       "      <td>0</td>\n",
       "      <td>0</td>\n",
       "      <td>...</td>\n",
       "      <td>0</td>\n",
       "      <td>0</td>\n",
       "      <td>0</td>\n",
       "      <td>0</td>\n",
       "      <td>0</td>\n",
       "      <td>0</td>\n",
       "      <td>0</td>\n",
       "      <td>0</td>\n",
       "      <td>0</td>\n",
       "      <td>0</td>\n",
       "    </tr>\n",
       "    <tr>\n",
       "      <th>2</th>\n",
       "      <td>1</td>\n",
       "      <td>0</td>\n",
       "      <td>0</td>\n",
       "      <td>0</td>\n",
       "      <td>0</td>\n",
       "      <td>1</td>\n",
       "      <td>1</td>\n",
       "      <td>0</td>\n",
       "      <td>0</td>\n",
       "      <td>0</td>\n",
       "      <td>...</td>\n",
       "      <td>0</td>\n",
       "      <td>0</td>\n",
       "      <td>0</td>\n",
       "      <td>0</td>\n",
       "      <td>0</td>\n",
       "      <td>0</td>\n",
       "      <td>0</td>\n",
       "      <td>0</td>\n",
       "      <td>0</td>\n",
       "      <td>0</td>\n",
       "    </tr>\n",
       "    <tr>\n",
       "      <th>3</th>\n",
       "      <td>0</td>\n",
       "      <td>0</td>\n",
       "      <td>0</td>\n",
       "      <td>0</td>\n",
       "      <td>0</td>\n",
       "      <td>1</td>\n",
       "      <td>1</td>\n",
       "      <td>0</td>\n",
       "      <td>0</td>\n",
       "      <td>0</td>\n",
       "      <td>...</td>\n",
       "      <td>0</td>\n",
       "      <td>0</td>\n",
       "      <td>0</td>\n",
       "      <td>0</td>\n",
       "      <td>0</td>\n",
       "      <td>0</td>\n",
       "      <td>0</td>\n",
       "      <td>0</td>\n",
       "      <td>0</td>\n",
       "      <td>0</td>\n",
       "    </tr>\n",
       "    <tr>\n",
       "      <th>4</th>\n",
       "      <td>0</td>\n",
       "      <td>0</td>\n",
       "      <td>0</td>\n",
       "      <td>0</td>\n",
       "      <td>0</td>\n",
       "      <td>1</td>\n",
       "      <td>1</td>\n",
       "      <td>0</td>\n",
       "      <td>0</td>\n",
       "      <td>0</td>\n",
       "      <td>...</td>\n",
       "      <td>0</td>\n",
       "      <td>0</td>\n",
       "      <td>0</td>\n",
       "      <td>0</td>\n",
       "      <td>0</td>\n",
       "      <td>0</td>\n",
       "      <td>0</td>\n",
       "      <td>0</td>\n",
       "      <td>0</td>\n",
       "      <td>0</td>\n",
       "    </tr>\n",
       "    <tr>\n",
       "      <th>...</th>\n",
       "      <td>...</td>\n",
       "      <td>...</td>\n",
       "      <td>...</td>\n",
       "      <td>...</td>\n",
       "      <td>...</td>\n",
       "      <td>...</td>\n",
       "      <td>...</td>\n",
       "      <td>...</td>\n",
       "      <td>...</td>\n",
       "      <td>...</td>\n",
       "      <td>...</td>\n",
       "      <td>...</td>\n",
       "      <td>...</td>\n",
       "      <td>...</td>\n",
       "      <td>...</td>\n",
       "      <td>...</td>\n",
       "      <td>...</td>\n",
       "      <td>...</td>\n",
       "      <td>...</td>\n",
       "      <td>...</td>\n",
       "      <td>...</td>\n",
       "    </tr>\n",
       "    <tr>\n",
       "      <th>995</th>\n",
       "      <td>0</td>\n",
       "      <td>0</td>\n",
       "      <td>0</td>\n",
       "      <td>0</td>\n",
       "      <td>1</td>\n",
       "      <td>0</td>\n",
       "      <td>1</td>\n",
       "      <td>0</td>\n",
       "      <td>0</td>\n",
       "      <td>0</td>\n",
       "      <td>...</td>\n",
       "      <td>0</td>\n",
       "      <td>0</td>\n",
       "      <td>0</td>\n",
       "      <td>0</td>\n",
       "      <td>1</td>\n",
       "      <td>0</td>\n",
       "      <td>0</td>\n",
       "      <td>0</td>\n",
       "      <td>0</td>\n",
       "      <td>0</td>\n",
       "    </tr>\n",
       "    <tr>\n",
       "      <th>996</th>\n",
       "      <td>0</td>\n",
       "      <td>0</td>\n",
       "      <td>0</td>\n",
       "      <td>0</td>\n",
       "      <td>0</td>\n",
       "      <td>0</td>\n",
       "      <td>1</td>\n",
       "      <td>0</td>\n",
       "      <td>0</td>\n",
       "      <td>0</td>\n",
       "      <td>...</td>\n",
       "      <td>0</td>\n",
       "      <td>0</td>\n",
       "      <td>0</td>\n",
       "      <td>0</td>\n",
       "      <td>0</td>\n",
       "      <td>0</td>\n",
       "      <td>0</td>\n",
       "      <td>0</td>\n",
       "      <td>0</td>\n",
       "      <td>1</td>\n",
       "    </tr>\n",
       "    <tr>\n",
       "      <th>997</th>\n",
       "      <td>0</td>\n",
       "      <td>0</td>\n",
       "      <td>0</td>\n",
       "      <td>0</td>\n",
       "      <td>0</td>\n",
       "      <td>0</td>\n",
       "      <td>1</td>\n",
       "      <td>0</td>\n",
       "      <td>0</td>\n",
       "      <td>0</td>\n",
       "      <td>...</td>\n",
       "      <td>0</td>\n",
       "      <td>0</td>\n",
       "      <td>0</td>\n",
       "      <td>0</td>\n",
       "      <td>1</td>\n",
       "      <td>0</td>\n",
       "      <td>0</td>\n",
       "      <td>0</td>\n",
       "      <td>1</td>\n",
       "      <td>0</td>\n",
       "    </tr>\n",
       "    <tr>\n",
       "      <th>998</th>\n",
       "      <td>0</td>\n",
       "      <td>0</td>\n",
       "      <td>0</td>\n",
       "      <td>0</td>\n",
       "      <td>0</td>\n",
       "      <td>0</td>\n",
       "      <td>1</td>\n",
       "      <td>0</td>\n",
       "      <td>0</td>\n",
       "      <td>0</td>\n",
       "      <td>...</td>\n",
       "      <td>0</td>\n",
       "      <td>0</td>\n",
       "      <td>0</td>\n",
       "      <td>0</td>\n",
       "      <td>0</td>\n",
       "      <td>0</td>\n",
       "      <td>0</td>\n",
       "      <td>0</td>\n",
       "      <td>1</td>\n",
       "      <td>0</td>\n",
       "    </tr>\n",
       "    <tr>\n",
       "      <th>999</th>\n",
       "      <td>0</td>\n",
       "      <td>0</td>\n",
       "      <td>0</td>\n",
       "      <td>0</td>\n",
       "      <td>0</td>\n",
       "      <td>1</td>\n",
       "      <td>0</td>\n",
       "      <td>0</td>\n",
       "      <td>0</td>\n",
       "      <td>0</td>\n",
       "      <td>...</td>\n",
       "      <td>0</td>\n",
       "      <td>0</td>\n",
       "      <td>0</td>\n",
       "      <td>1</td>\n",
       "      <td>0</td>\n",
       "      <td>0</td>\n",
       "      <td>0</td>\n",
       "      <td>1</td>\n",
       "      <td>0</td>\n",
       "      <td>0</td>\n",
       "    </tr>\n",
       "  </tbody>\n",
       "</table>\n",
       "<p>999 rows × 21 columns</p>\n",
       "</div>"
      ],
      "text/plain": [
       "     Action  Adventure  Animation  Biography  Comedy  Crime  Drama  Family  \\\n",
       "0         0          0          0          0       0      0      1       0   \n",
       "1         0          0          0          0       0      1      1       0   \n",
       "2         1          0          0          0       0      1      1       0   \n",
       "3         0          0          0          0       0      1      1       0   \n",
       "4         0          0          0          0       0      1      1       0   \n",
       "..      ...        ...        ...        ...     ...    ...    ...     ...   \n",
       "995       0          0          0          0       1      0      1       0   \n",
       "996       0          0          0          0       0      0      1       0   \n",
       "997       0          0          0          0       0      0      1       0   \n",
       "998       0          0          0          0       0      0      1       0   \n",
       "999       0          0          0          0       0      1      0       0   \n",
       "\n",
       "     Fantasy  Film-Noir  ...  Horror  Music  Musical  Mystery  Romance  \\\n",
       "0          0          0  ...       0      0        0        0        0   \n",
       "1          0          0  ...       0      0        0        0        0   \n",
       "2          0          0  ...       0      0        0        0        0   \n",
       "3          0          0  ...       0      0        0        0        0   \n",
       "4          0          0  ...       0      0        0        0        0   \n",
       "..       ...        ...  ...     ...    ...      ...      ...      ...   \n",
       "995        0          0  ...       0      0        0        0        1   \n",
       "996        0          0  ...       0      0        0        0        0   \n",
       "997        0          0  ...       0      0        0        0        1   \n",
       "998        0          0  ...       0      0        0        0        0   \n",
       "999        0          0  ...       0      0        0        1        0   \n",
       "\n",
       "     Sci-Fi  Sport  Thriller  War  Western  \n",
       "0         0      0         0    0        0  \n",
       "1         0      0         0    0        0  \n",
       "2         0      0         0    0        0  \n",
       "3         0      0         0    0        0  \n",
       "4         0      0         0    0        0  \n",
       "..      ...    ...       ...  ...      ...  \n",
       "995       0      0         0    0        0  \n",
       "996       0      0         0    0        1  \n",
       "997       0      0         0    1        0  \n",
       "998       0      0         0    1        0  \n",
       "999       0      0         1    0        0  \n",
       "\n",
       "[999 rows x 21 columns]"
      ]
     },
     "execution_count": 46,
     "metadata": {},
     "output_type": "execute_result"
    }
   ],
   "source": [
    "genre_encoded"
   ]
  },
  {
   "cell_type": "markdown",
   "id": "636d8d64",
   "metadata": {},
   "source": [
    "This indicates a new dataframe (df_encoded) with binary columns for each unique genre using one-hot encoding. The resulting dataframe will have 0s and 1s indicating the presence or absence of each genre for each movie."
   ]
  },
  {
   "cell_type": "code",
   "execution_count": 47,
   "id": "677a0d5d",
   "metadata": {},
   "outputs": [],
   "source": [
    "# Concatenate the original dataframe (df) and the genre_encoded dataframe along the columns axis\n",
    "df = pd.concat([df, genre_encoded], axis=1)"
   ]
  },
  {
   "cell_type": "code",
   "execution_count": 48,
   "id": "1a8601e2",
   "metadata": {},
   "outputs": [],
   "source": [
    "# Convert the one-hot encoded array to a dataframe\n",
    "cert_encoded = pd.DataFrame(mlb.fit_transform(df['Certificate']), columns=mlb.classes_, index=df.index)"
   ]
  },
  {
   "cell_type": "code",
   "execution_count": 49,
   "id": "bdaa688b",
   "metadata": {},
   "outputs": [
    {
     "data": {
      "text/html": [
       "<div>\n",
       "<style scoped>\n",
       "    .dataframe tbody tr th:only-of-type {\n",
       "        vertical-align: middle;\n",
       "    }\n",
       "\n",
       "    .dataframe tbody tr th {\n",
       "        vertical-align: top;\n",
       "    }\n",
       "\n",
       "    .dataframe thead th {\n",
       "        text-align: right;\n",
       "    }\n",
       "</style>\n",
       "<table border=\"1\" class=\"dataframe\">\n",
       "  <thead>\n",
       "    <tr style=\"text-align: right;\">\n",
       "      <th></th>\n",
       "      <th>-</th>\n",
       "      <th>/</th>\n",
       "      <th>1</th>\n",
       "      <th>3</th>\n",
       "      <th>4</th>\n",
       "      <th>6</th>\n",
       "      <th>A</th>\n",
       "      <th>G</th>\n",
       "      <th>M</th>\n",
       "      <th>P</th>\n",
       "      <th>...</th>\n",
       "      <th>a</th>\n",
       "      <th>d</th>\n",
       "      <th>e</th>\n",
       "      <th>n</th>\n",
       "      <th>o</th>\n",
       "      <th>p</th>\n",
       "      <th>r</th>\n",
       "      <th>s</th>\n",
       "      <th>t</th>\n",
       "      <th>v</th>\n",
       "    </tr>\n",
       "  </thead>\n",
       "  <tbody>\n",
       "    <tr>\n",
       "      <th>0</th>\n",
       "      <td>0</td>\n",
       "      <td>0</td>\n",
       "      <td>0</td>\n",
       "      <td>0</td>\n",
       "      <td>0</td>\n",
       "      <td>0</td>\n",
       "      <td>1</td>\n",
       "      <td>0</td>\n",
       "      <td>0</td>\n",
       "      <td>0</td>\n",
       "      <td>...</td>\n",
       "      <td>0</td>\n",
       "      <td>0</td>\n",
       "      <td>0</td>\n",
       "      <td>0</td>\n",
       "      <td>0</td>\n",
       "      <td>0</td>\n",
       "      <td>0</td>\n",
       "      <td>0</td>\n",
       "      <td>0</td>\n",
       "      <td>0</td>\n",
       "    </tr>\n",
       "    <tr>\n",
       "      <th>1</th>\n",
       "      <td>0</td>\n",
       "      <td>0</td>\n",
       "      <td>0</td>\n",
       "      <td>0</td>\n",
       "      <td>0</td>\n",
       "      <td>0</td>\n",
       "      <td>1</td>\n",
       "      <td>0</td>\n",
       "      <td>0</td>\n",
       "      <td>0</td>\n",
       "      <td>...</td>\n",
       "      <td>0</td>\n",
       "      <td>0</td>\n",
       "      <td>0</td>\n",
       "      <td>0</td>\n",
       "      <td>0</td>\n",
       "      <td>0</td>\n",
       "      <td>0</td>\n",
       "      <td>0</td>\n",
       "      <td>0</td>\n",
       "      <td>0</td>\n",
       "    </tr>\n",
       "    <tr>\n",
       "      <th>2</th>\n",
       "      <td>0</td>\n",
       "      <td>0</td>\n",
       "      <td>0</td>\n",
       "      <td>0</td>\n",
       "      <td>0</td>\n",
       "      <td>0</td>\n",
       "      <td>1</td>\n",
       "      <td>0</td>\n",
       "      <td>0</td>\n",
       "      <td>0</td>\n",
       "      <td>...</td>\n",
       "      <td>0</td>\n",
       "      <td>0</td>\n",
       "      <td>0</td>\n",
       "      <td>0</td>\n",
       "      <td>0</td>\n",
       "      <td>0</td>\n",
       "      <td>0</td>\n",
       "      <td>0</td>\n",
       "      <td>0</td>\n",
       "      <td>0</td>\n",
       "    </tr>\n",
       "    <tr>\n",
       "      <th>3</th>\n",
       "      <td>0</td>\n",
       "      <td>0</td>\n",
       "      <td>0</td>\n",
       "      <td>0</td>\n",
       "      <td>0</td>\n",
       "      <td>0</td>\n",
       "      <td>1</td>\n",
       "      <td>0</td>\n",
       "      <td>0</td>\n",
       "      <td>0</td>\n",
       "      <td>...</td>\n",
       "      <td>0</td>\n",
       "      <td>0</td>\n",
       "      <td>0</td>\n",
       "      <td>0</td>\n",
       "      <td>0</td>\n",
       "      <td>0</td>\n",
       "      <td>0</td>\n",
       "      <td>0</td>\n",
       "      <td>0</td>\n",
       "      <td>0</td>\n",
       "    </tr>\n",
       "    <tr>\n",
       "      <th>4</th>\n",
       "      <td>0</td>\n",
       "      <td>0</td>\n",
       "      <td>0</td>\n",
       "      <td>0</td>\n",
       "      <td>0</td>\n",
       "      <td>0</td>\n",
       "      <td>0</td>\n",
       "      <td>0</td>\n",
       "      <td>0</td>\n",
       "      <td>0</td>\n",
       "      <td>...</td>\n",
       "      <td>0</td>\n",
       "      <td>0</td>\n",
       "      <td>0</td>\n",
       "      <td>0</td>\n",
       "      <td>0</td>\n",
       "      <td>0</td>\n",
       "      <td>0</td>\n",
       "      <td>0</td>\n",
       "      <td>0</td>\n",
       "      <td>0</td>\n",
       "    </tr>\n",
       "    <tr>\n",
       "      <th>...</th>\n",
       "      <td>...</td>\n",
       "      <td>...</td>\n",
       "      <td>...</td>\n",
       "      <td>...</td>\n",
       "      <td>...</td>\n",
       "      <td>...</td>\n",
       "      <td>...</td>\n",
       "      <td>...</td>\n",
       "      <td>...</td>\n",
       "      <td>...</td>\n",
       "      <td>...</td>\n",
       "      <td>...</td>\n",
       "      <td>...</td>\n",
       "      <td>...</td>\n",
       "      <td>...</td>\n",
       "      <td>...</td>\n",
       "      <td>...</td>\n",
       "      <td>...</td>\n",
       "      <td>...</td>\n",
       "      <td>...</td>\n",
       "      <td>...</td>\n",
       "    </tr>\n",
       "    <tr>\n",
       "      <th>995</th>\n",
       "      <td>0</td>\n",
       "      <td>0</td>\n",
       "      <td>0</td>\n",
       "      <td>0</td>\n",
       "      <td>0</td>\n",
       "      <td>0</td>\n",
       "      <td>1</td>\n",
       "      <td>0</td>\n",
       "      <td>0</td>\n",
       "      <td>0</td>\n",
       "      <td>...</td>\n",
       "      <td>0</td>\n",
       "      <td>0</td>\n",
       "      <td>0</td>\n",
       "      <td>0</td>\n",
       "      <td>0</td>\n",
       "      <td>0</td>\n",
       "      <td>0</td>\n",
       "      <td>0</td>\n",
       "      <td>0</td>\n",
       "      <td>0</td>\n",
       "    </tr>\n",
       "    <tr>\n",
       "      <th>996</th>\n",
       "      <td>0</td>\n",
       "      <td>0</td>\n",
       "      <td>0</td>\n",
       "      <td>0</td>\n",
       "      <td>0</td>\n",
       "      <td>0</td>\n",
       "      <td>0</td>\n",
       "      <td>1</td>\n",
       "      <td>0</td>\n",
       "      <td>0</td>\n",
       "      <td>...</td>\n",
       "      <td>0</td>\n",
       "      <td>0</td>\n",
       "      <td>0</td>\n",
       "      <td>0</td>\n",
       "      <td>0</td>\n",
       "      <td>0</td>\n",
       "      <td>0</td>\n",
       "      <td>0</td>\n",
       "      <td>0</td>\n",
       "      <td>0</td>\n",
       "    </tr>\n",
       "    <tr>\n",
       "      <th>997</th>\n",
       "      <td>0</td>\n",
       "      <td>0</td>\n",
       "      <td>0</td>\n",
       "      <td>0</td>\n",
       "      <td>0</td>\n",
       "      <td>0</td>\n",
       "      <td>0</td>\n",
       "      <td>0</td>\n",
       "      <td>0</td>\n",
       "      <td>1</td>\n",
       "      <td>...</td>\n",
       "      <td>1</td>\n",
       "      <td>1</td>\n",
       "      <td>1</td>\n",
       "      <td>0</td>\n",
       "      <td>0</td>\n",
       "      <td>0</td>\n",
       "      <td>0</td>\n",
       "      <td>1</td>\n",
       "      <td>0</td>\n",
       "      <td>0</td>\n",
       "    </tr>\n",
       "    <tr>\n",
       "      <th>998</th>\n",
       "      <td>0</td>\n",
       "      <td>0</td>\n",
       "      <td>0</td>\n",
       "      <td>0</td>\n",
       "      <td>0</td>\n",
       "      <td>0</td>\n",
       "      <td>0</td>\n",
       "      <td>0</td>\n",
       "      <td>0</td>\n",
       "      <td>0</td>\n",
       "      <td>...</td>\n",
       "      <td>0</td>\n",
       "      <td>0</td>\n",
       "      <td>0</td>\n",
       "      <td>0</td>\n",
       "      <td>0</td>\n",
       "      <td>0</td>\n",
       "      <td>0</td>\n",
       "      <td>0</td>\n",
       "      <td>0</td>\n",
       "      <td>0</td>\n",
       "    </tr>\n",
       "    <tr>\n",
       "      <th>999</th>\n",
       "      <td>0</td>\n",
       "      <td>0</td>\n",
       "      <td>0</td>\n",
       "      <td>0</td>\n",
       "      <td>0</td>\n",
       "      <td>0</td>\n",
       "      <td>0</td>\n",
       "      <td>0</td>\n",
       "      <td>0</td>\n",
       "      <td>0</td>\n",
       "      <td>...</td>\n",
       "      <td>0</td>\n",
       "      <td>0</td>\n",
       "      <td>0</td>\n",
       "      <td>0</td>\n",
       "      <td>0</td>\n",
       "      <td>0</td>\n",
       "      <td>0</td>\n",
       "      <td>0</td>\n",
       "      <td>0</td>\n",
       "      <td>0</td>\n",
       "    </tr>\n",
       "  </tbody>\n",
       "</table>\n",
       "<p>999 rows × 24 columns</p>\n",
       "</div>"
      ],
      "text/plain": [
       "     -  /  1  3  4  6  A  G  M  P  ...  a  d  e  n  o  p  r  s  t  v\n",
       "0    0  0  0  0  0  0  1  0  0  0  ...  0  0  0  0  0  0  0  0  0  0\n",
       "1    0  0  0  0  0  0  1  0  0  0  ...  0  0  0  0  0  0  0  0  0  0\n",
       "2    0  0  0  0  0  0  1  0  0  0  ...  0  0  0  0  0  0  0  0  0  0\n",
       "3    0  0  0  0  0  0  1  0  0  0  ...  0  0  0  0  0  0  0  0  0  0\n",
       "4    0  0  0  0  0  0  0  0  0  0  ...  0  0  0  0  0  0  0  0  0  0\n",
       "..  .. .. .. .. .. .. .. .. .. ..  ... .. .. .. .. .. .. .. .. .. ..\n",
       "995  0  0  0  0  0  0  1  0  0  0  ...  0  0  0  0  0  0  0  0  0  0\n",
       "996  0  0  0  0  0  0  0  1  0  0  ...  0  0  0  0  0  0  0  0  0  0\n",
       "997  0  0  0  0  0  0  0  0  0  1  ...  1  1  1  0  0  0  0  1  0  0\n",
       "998  0  0  0  0  0  0  0  0  0  0  ...  0  0  0  0  0  0  0  0  0  0\n",
       "999  0  0  0  0  0  0  0  0  0  0  ...  0  0  0  0  0  0  0  0  0  0\n",
       "\n",
       "[999 rows x 24 columns]"
      ]
     },
     "execution_count": 49,
     "metadata": {},
     "output_type": "execute_result"
    }
   ],
   "source": [
    "cert_encoded"
   ]
  },
  {
   "cell_type": "code",
   "execution_count": 50,
   "id": "98d708c6",
   "metadata": {},
   "outputs": [],
   "source": [
    "df = pd.concat([df, cert_encoded], axis=1)"
   ]
  },
  {
   "cell_type": "code",
   "execution_count": 51,
   "id": "3621f2ea",
   "metadata": {},
   "outputs": [],
   "source": [
    "# Drop the original column\n",
    "df.drop(['Certificate','Genre', 'Meta_score', 'Meta_score_Category',], axis=1, inplace=True)"
   ]
  },
  {
   "cell_type": "markdown",
   "id": "efd5f86e",
   "metadata": {},
   "source": [
    "Dropping the original column of an encoded categorical variable is crucial to prevent data leakage."
   ]
  },
  {
   "cell_type": "code",
   "execution_count": 52,
   "id": "fc42573b",
   "metadata": {},
   "outputs": [
    {
     "data": {
      "text/html": [
       "<div>\n",
       "<style scoped>\n",
       "    .dataframe tbody tr th:only-of-type {\n",
       "        vertical-align: middle;\n",
       "    }\n",
       "\n",
       "    .dataframe tbody tr th {\n",
       "        vertical-align: top;\n",
       "    }\n",
       "\n",
       "    .dataframe thead th {\n",
       "        text-align: right;\n",
       "    }\n",
       "</style>\n",
       "<table border=\"1\" class=\"dataframe\">\n",
       "  <thead>\n",
       "    <tr style=\"text-align: right;\">\n",
       "      <th></th>\n",
       "      <th>Released_Year</th>\n",
       "      <th>Runtime</th>\n",
       "      <th>IMDB_Rating</th>\n",
       "      <th>Meta_score_Label</th>\n",
       "      <th>Action</th>\n",
       "      <th>Adventure</th>\n",
       "      <th>Animation</th>\n",
       "      <th>Biography</th>\n",
       "      <th>Comedy</th>\n",
       "      <th>Crime</th>\n",
       "      <th>...</th>\n",
       "      <th>a</th>\n",
       "      <th>d</th>\n",
       "      <th>e</th>\n",
       "      <th>n</th>\n",
       "      <th>o</th>\n",
       "      <th>p</th>\n",
       "      <th>r</th>\n",
       "      <th>s</th>\n",
       "      <th>t</th>\n",
       "      <th>v</th>\n",
       "    </tr>\n",
       "  </thead>\n",
       "  <tbody>\n",
       "    <tr>\n",
       "      <th>0</th>\n",
       "      <td>1994</td>\n",
       "      <td>142.0</td>\n",
       "      <td>87.0</td>\n",
       "      <td>0</td>\n",
       "      <td>0</td>\n",
       "      <td>0</td>\n",
       "      <td>0</td>\n",
       "      <td>0</td>\n",
       "      <td>0</td>\n",
       "      <td>0</td>\n",
       "      <td>...</td>\n",
       "      <td>0</td>\n",
       "      <td>0</td>\n",
       "      <td>0</td>\n",
       "      <td>0</td>\n",
       "      <td>0</td>\n",
       "      <td>0</td>\n",
       "      <td>0</td>\n",
       "      <td>0</td>\n",
       "      <td>0</td>\n",
       "      <td>0</td>\n",
       "    </tr>\n",
       "    <tr>\n",
       "      <th>1</th>\n",
       "      <td>1972</td>\n",
       "      <td>175.0</td>\n",
       "      <td>87.0</td>\n",
       "      <td>2</td>\n",
       "      <td>0</td>\n",
       "      <td>0</td>\n",
       "      <td>0</td>\n",
       "      <td>0</td>\n",
       "      <td>0</td>\n",
       "      <td>1</td>\n",
       "      <td>...</td>\n",
       "      <td>0</td>\n",
       "      <td>0</td>\n",
       "      <td>0</td>\n",
       "      <td>0</td>\n",
       "      <td>0</td>\n",
       "      <td>0</td>\n",
       "      <td>0</td>\n",
       "      <td>0</td>\n",
       "      <td>0</td>\n",
       "      <td>0</td>\n",
       "    </tr>\n",
       "    <tr>\n",
       "      <th>2</th>\n",
       "      <td>2008</td>\n",
       "      <td>152.0</td>\n",
       "      <td>87.0</td>\n",
       "      <td>0</td>\n",
       "      <td>1</td>\n",
       "      <td>0</td>\n",
       "      <td>0</td>\n",
       "      <td>0</td>\n",
       "      <td>0</td>\n",
       "      <td>1</td>\n",
       "      <td>...</td>\n",
       "      <td>0</td>\n",
       "      <td>0</td>\n",
       "      <td>0</td>\n",
       "      <td>0</td>\n",
       "      <td>0</td>\n",
       "      <td>0</td>\n",
       "      <td>0</td>\n",
       "      <td>0</td>\n",
       "      <td>0</td>\n",
       "      <td>0</td>\n",
       "    </tr>\n",
       "    <tr>\n",
       "      <th>3</th>\n",
       "      <td>1974</td>\n",
       "      <td>188.0</td>\n",
       "      <td>87.0</td>\n",
       "      <td>2</td>\n",
       "      <td>0</td>\n",
       "      <td>0</td>\n",
       "      <td>0</td>\n",
       "      <td>0</td>\n",
       "      <td>0</td>\n",
       "      <td>1</td>\n",
       "      <td>...</td>\n",
       "      <td>0</td>\n",
       "      <td>0</td>\n",
       "      <td>0</td>\n",
       "      <td>0</td>\n",
       "      <td>0</td>\n",
       "      <td>0</td>\n",
       "      <td>0</td>\n",
       "      <td>0</td>\n",
       "      <td>0</td>\n",
       "      <td>0</td>\n",
       "    </tr>\n",
       "    <tr>\n",
       "      <th>4</th>\n",
       "      <td>1957</td>\n",
       "      <td>96.0</td>\n",
       "      <td>87.0</td>\n",
       "      <td>2</td>\n",
       "      <td>0</td>\n",
       "      <td>0</td>\n",
       "      <td>0</td>\n",
       "      <td>0</td>\n",
       "      <td>0</td>\n",
       "      <td>1</td>\n",
       "      <td>...</td>\n",
       "      <td>0</td>\n",
       "      <td>0</td>\n",
       "      <td>0</td>\n",
       "      <td>0</td>\n",
       "      <td>0</td>\n",
       "      <td>0</td>\n",
       "      <td>0</td>\n",
       "      <td>0</td>\n",
       "      <td>0</td>\n",
       "      <td>0</td>\n",
       "    </tr>\n",
       "    <tr>\n",
       "      <th>...</th>\n",
       "      <td>...</td>\n",
       "      <td>...</td>\n",
       "      <td>...</td>\n",
       "      <td>...</td>\n",
       "      <td>...</td>\n",
       "      <td>...</td>\n",
       "      <td>...</td>\n",
       "      <td>...</td>\n",
       "      <td>...</td>\n",
       "      <td>...</td>\n",
       "      <td>...</td>\n",
       "      <td>...</td>\n",
       "      <td>...</td>\n",
       "      <td>...</td>\n",
       "      <td>...</td>\n",
       "      <td>...</td>\n",
       "      <td>...</td>\n",
       "      <td>...</td>\n",
       "      <td>...</td>\n",
       "      <td>...</td>\n",
       "      <td>...</td>\n",
       "    </tr>\n",
       "    <tr>\n",
       "      <th>995</th>\n",
       "      <td>1961</td>\n",
       "      <td>115.0</td>\n",
       "      <td>76.0</td>\n",
       "      <td>0</td>\n",
       "      <td>0</td>\n",
       "      <td>0</td>\n",
       "      <td>0</td>\n",
       "      <td>0</td>\n",
       "      <td>1</td>\n",
       "      <td>0</td>\n",
       "      <td>...</td>\n",
       "      <td>0</td>\n",
       "      <td>0</td>\n",
       "      <td>0</td>\n",
       "      <td>0</td>\n",
       "      <td>0</td>\n",
       "      <td>0</td>\n",
       "      <td>0</td>\n",
       "      <td>0</td>\n",
       "      <td>0</td>\n",
       "      <td>0</td>\n",
       "    </tr>\n",
       "    <tr>\n",
       "      <th>996</th>\n",
       "      <td>1956</td>\n",
       "      <td>188.0</td>\n",
       "      <td>76.0</td>\n",
       "      <td>0</td>\n",
       "      <td>0</td>\n",
       "      <td>0</td>\n",
       "      <td>0</td>\n",
       "      <td>0</td>\n",
       "      <td>0</td>\n",
       "      <td>0</td>\n",
       "      <td>...</td>\n",
       "      <td>0</td>\n",
       "      <td>0</td>\n",
       "      <td>0</td>\n",
       "      <td>0</td>\n",
       "      <td>0</td>\n",
       "      <td>0</td>\n",
       "      <td>0</td>\n",
       "      <td>0</td>\n",
       "      <td>0</td>\n",
       "      <td>0</td>\n",
       "    </tr>\n",
       "    <tr>\n",
       "      <th>997</th>\n",
       "      <td>1953</td>\n",
       "      <td>118.0</td>\n",
       "      <td>76.0</td>\n",
       "      <td>0</td>\n",
       "      <td>0</td>\n",
       "      <td>0</td>\n",
       "      <td>0</td>\n",
       "      <td>0</td>\n",
       "      <td>0</td>\n",
       "      <td>0</td>\n",
       "      <td>...</td>\n",
       "      <td>1</td>\n",
       "      <td>1</td>\n",
       "      <td>1</td>\n",
       "      <td>0</td>\n",
       "      <td>0</td>\n",
       "      <td>0</td>\n",
       "      <td>0</td>\n",
       "      <td>1</td>\n",
       "      <td>0</td>\n",
       "      <td>0</td>\n",
       "    </tr>\n",
       "    <tr>\n",
       "      <th>998</th>\n",
       "      <td>1944</td>\n",
       "      <td>97.0</td>\n",
       "      <td>76.0</td>\n",
       "      <td>0</td>\n",
       "      <td>0</td>\n",
       "      <td>0</td>\n",
       "      <td>0</td>\n",
       "      <td>0</td>\n",
       "      <td>0</td>\n",
       "      <td>0</td>\n",
       "      <td>...</td>\n",
       "      <td>0</td>\n",
       "      <td>0</td>\n",
       "      <td>0</td>\n",
       "      <td>0</td>\n",
       "      <td>0</td>\n",
       "      <td>0</td>\n",
       "      <td>0</td>\n",
       "      <td>0</td>\n",
       "      <td>0</td>\n",
       "      <td>0</td>\n",
       "    </tr>\n",
       "    <tr>\n",
       "      <th>999</th>\n",
       "      <td>1935</td>\n",
       "      <td>86.0</td>\n",
       "      <td>76.0</td>\n",
       "      <td>2</td>\n",
       "      <td>0</td>\n",
       "      <td>0</td>\n",
       "      <td>0</td>\n",
       "      <td>0</td>\n",
       "      <td>0</td>\n",
       "      <td>1</td>\n",
       "      <td>...</td>\n",
       "      <td>0</td>\n",
       "      <td>0</td>\n",
       "      <td>0</td>\n",
       "      <td>0</td>\n",
       "      <td>0</td>\n",
       "      <td>0</td>\n",
       "      <td>0</td>\n",
       "      <td>0</td>\n",
       "      <td>0</td>\n",
       "      <td>0</td>\n",
       "    </tr>\n",
       "  </tbody>\n",
       "</table>\n",
       "<p>999 rows × 49 columns</p>\n",
       "</div>"
      ],
      "text/plain": [
       "     Released_Year  Runtime  IMDB_Rating  Meta_score_Label  Action  Adventure  \\\n",
       "0             1994    142.0         87.0                 0       0          0   \n",
       "1             1972    175.0         87.0                 2       0          0   \n",
       "2             2008    152.0         87.0                 0       1          0   \n",
       "3             1974    188.0         87.0                 2       0          0   \n",
       "4             1957     96.0         87.0                 2       0          0   \n",
       "..             ...      ...          ...               ...     ...        ...   \n",
       "995           1961    115.0         76.0                 0       0          0   \n",
       "996           1956    188.0         76.0                 0       0          0   \n",
       "997           1953    118.0         76.0                 0       0          0   \n",
       "998           1944     97.0         76.0                 0       0          0   \n",
       "999           1935     86.0         76.0                 2       0          0   \n",
       "\n",
       "     Animation  Biography  Comedy  Crime  ...  a  d  e  n  o  p  r  s  t  v  \n",
       "0            0          0       0      0  ...  0  0  0  0  0  0  0  0  0  0  \n",
       "1            0          0       0      1  ...  0  0  0  0  0  0  0  0  0  0  \n",
       "2            0          0       0      1  ...  0  0  0  0  0  0  0  0  0  0  \n",
       "3            0          0       0      1  ...  0  0  0  0  0  0  0  0  0  0  \n",
       "4            0          0       0      1  ...  0  0  0  0  0  0  0  0  0  0  \n",
       "..         ...        ...     ...    ...  ... .. .. .. .. .. .. .. .. .. ..  \n",
       "995          0          0       1      0  ...  0  0  0  0  0  0  0  0  0  0  \n",
       "996          0          0       0      0  ...  0  0  0  0  0  0  0  0  0  0  \n",
       "997          0          0       0      0  ...  1  1  1  0  0  0  0  1  0  0  \n",
       "998          0          0       0      0  ...  0  0  0  0  0  0  0  0  0  0  \n",
       "999          0          0       0      1  ...  0  0  0  0  0  0  0  0  0  0  \n",
       "\n",
       "[999 rows x 49 columns]"
      ]
     },
     "execution_count": 52,
     "metadata": {},
     "output_type": "execute_result"
    }
   ],
   "source": [
    "df"
   ]
  },
  {
   "cell_type": "markdown",
   "id": "66d379bd",
   "metadata": {},
   "source": [
    "<h2 style = \"font-size:23px; font-family:Livvic ; font-weight : bold; background-color:  #023e8a; color :#FEF1FE ; text-align: center; border-radius: 5px 5px; padding: 5px\">Data Normalization</h2>"
   ]
  },
  {
   "cell_type": "markdown",
   "id": "91526e7b",
   "metadata": {},
   "source": [
    "Many machine learning algorithms are sensitive to the scale of the input features. Normalizing or standardizing the data ensures that all features have a similar scale, preventing certain features from dominating the learning process. Apply normalization or standardization to both the training and testing sets. "
   ]
  },
  {
   "cell_type": "code",
   "execution_count": 53,
   "id": "b9dedc77",
   "metadata": {},
   "outputs": [],
   "source": [
    "# StandardScaler instance\n",
    "scaler = StandardScaler()"
   ]
  },
  {
   "cell_type": "code",
   "execution_count": 54,
   "id": "eae4317a",
   "metadata": {},
   "outputs": [],
   "source": [
    "# Fit the scaler to the training set and transform both training and test sets\n",
    "df_scaled = scaler.fit_transform(df)"
   ]
  },
  {
   "cell_type": "markdown",
   "id": "9138e10f",
   "metadata": {},
   "source": [
    "The fit_transform method is used on the training set (x_train). This step calculates the mean and standard deviation of each feature in the training set and then scales the features accordingly. While transform method is used on the testing set (x_test) without re-fitting the scaler. This ensures that the same transformation (mean and standard deviation) learned from the training set is applied to the testing set."
   ]
  },
  {
   "cell_type": "markdown",
   "id": "4f0e290a",
   "metadata": {},
   "source": [
    "[**<span style=\"color:#FEF1FE;background-color:#023e8a;border-radius: 5px;padding: 2px\">Go to Table of Content</span>**](#Content)\n",
    "\n",
    "<a id=\"4\"></a>\n",
    "<h2 style = \"font-size:27px; font-family:Montserrat ; font-weight : bold; background-color: #023e8a; color :#FEF1FE ; text-align: center; border-radius: 5px 5px; padding: 7px\">4. Model Training and Evaluation</h2>"
   ]
  },
  {
   "cell_type": "markdown",
   "id": "10660cfa",
   "metadata": {},
   "source": [
    "Clustering is a type of unsupervised machine learning technique where the goal is to group similar data points together based on certain features or characteristics. In other words, clustering aims to find natural groupings or patterns in a dataset without any predefined labels or target values. The primary objective of clustering is to organize a set of observations into groups, or clusters, such that data points within the same cluster are more similar to each other than to those in other clusters. The similarity or dissimilarity between data points is typically determined by a distance metric.\n",
    "\n",
    "There are various clustering algorithms, and one of the most commonly used methods is k-means clustering. In k-means clustering, the algorithm divides the dataset into a specified number of clusters (k) based on the mean (centroid) of data points in each cluster. The algorithm iteratively assigns data points to the nearest centroid and updates the centroids until convergence. Other clustering algorithms include hierarchical clustering, DBSCAN (Density-Based Spatial Clustering of Applications with Noise) and others. Each algorithm has its own strengths and weaknesses and the choice of a specific algorithm depends on the nature of the data and the desired outcomes.\n",
    "\n",
    "Clustering has various applications in different domains, such as customer segmentation in marketing, anomaly detection in cybersecurity, image segmentation in computer vision and many more. It is a valuable tool for exploring patterns within data and gaining insights into the underlying structure of a dataset."
   ]
  },
  {
   "cell_type": "markdown",
   "id": "9315d23c",
   "metadata": {},
   "source": [
    "<h2 style = \"font-size:23px; font-family:Livvic ; font-weight : bold; background-color:  #023e8a; color :#FEF1FE ; text-align: center; border-radius: 5px 5px; padding: 5px\">K-Means Clustering</h2>"
   ]
  },
  {
   "cell_type": "markdown",
   "id": "c4bff716",
   "metadata": {},
   "source": [
    "The K-Means algorithm depends upon finding the number of clusters and data labels for a pre-defined value of K. To find the number of clusters in the data, we need to run the K-Means clustering algorithm for different values of K and compare the results. So, the performance of K-Means algorithm depends upon the value of K. We should choose the optimal value of K that gives us best performance. There are different techniques available to find the optimal value of K. The most common technique are the elbow method and silhouette score calculation which is described below."
   ]
  },
  {
   "cell_type": "code",
   "execution_count": 55,
   "id": "f55f712a",
   "metadata": {},
   "outputs": [],
   "source": [
    "# Import libraries\n",
    "from sklearn.cluster import KMeans\n",
    "from sklearn.metrics import silhouette_score\n",
    "from kneed import KneeLocator"
   ]
  },
  {
   "cell_type": "code",
   "execution_count": 56,
   "id": "f2f17566",
   "metadata": {},
   "outputs": [],
   "source": [
    "inertia = [] # Within-Cluster Sum of Squares\n",
    "silhouette_scores = []"
   ]
  },
  {
   "cell_type": "code",
   "execution_count": 57,
   "id": "efca3857",
   "metadata": {
    "scrolled": true
   },
   "outputs": [],
   "source": [
    "inertia = [] # Within-Cluster Sum of Squares\n",
    "silhouette_scores = []\n",
    "\n",
    "for i in range(2, 11):\n",
    "    kmeans = KMeans(n_clusters=i, init='k-means++', random_state=0)\n",
    "    kmeans.fit(df_scaled)\n",
    "    inertia.append(kmeans.inertia_)\n",
    "    \n",
    "    # Calculate silhouette score\n",
    "    labels = kmeans.labels_\n",
    "    silhouette_scores.append(silhouette_score(df_scaled, labels))"
   ]
  },
  {
   "cell_type": "markdown",
   "id": "4ce96fc1",
   "metadata": {},
   "source": [
    "#### Inertia or Within-Cluster Sum of Squares"
   ]
  },
  {
   "cell_type": "markdown",
   "id": "1b7f286e",
   "metadata": {},
   "source": [
    "Inertia represents the within-cluster sum of squares, and it quantifies how compact the clusters are. Lower inertia values indicate more compact clusters. As the number of clusters increases, inertia tends to decrease because smaller clusters result in smaller within-cluster distances."
   ]
  },
  {
   "cell_type": "code",
   "execution_count": 58,
   "id": "ba8aac50",
   "metadata": {},
   "outputs": [
    {
     "data": {
      "text/plain": [
       "[43873.307653718235,\n",
       " 39906.04921896663,\n",
       " 36265.09431222988,\n",
       " 34927.943464241245,\n",
       " 32421.34031852464,\n",
       " 30753.053014579207,\n",
       " 28822.60065694994,\n",
       " 28845.6993238405,\n",
       " 26785.787119909874]"
      ]
     },
     "execution_count": 58,
     "metadata": {},
     "output_type": "execute_result"
    }
   ],
   "source": [
    "inertia"
   ]
  },
  {
   "cell_type": "markdown",
   "id": "b3a9abf3",
   "metadata": {},
   "source": [
    "The elbow point is the point in the plot where the rate of decrease in inertia starts to slow down. This point is often considered the optimal number of clusters, as it represents a trade-off between capturing the structure in the data and avoiding overfitting."
   ]
  },
  {
   "cell_type": "code",
   "execution_count": 59,
   "id": "057823cb",
   "metadata": {},
   "outputs": [
    {
     "data": {
      "image/png": "[encoded data removed]",
      "text/plain": [
       "<Figure size 640x480 with 1 Axes>"
      ]
     },
     "metadata": {},
     "output_type": "display_data"
    }
   ],
   "source": [
    "# Plot the Elbow Method\n",
    "plt.plot(range(2, 11), inertia, '--o')\n",
    "plt.title('Number of clusters against Inertia')\n",
    "plt.xlabel('Number of clusters (k)')\n",
    "plt.ylabel('Inertia')\n",
    "plt.show()"
   ]
  },
  {
   "cell_type": "markdown",
   "id": "de82a2cb",
   "metadata": {},
   "source": [
    "Based on the elbow method, the optimal number of clusters is often chosen where the rate of decrease in inertia starts to slow down. In this case, while the elbow isn't sharply defined, there's a noticeable change in the slope of the curve after 4 clusters. Hence, we might consider using 4 as the optimal number of clusters for K-means algorithm, as it seems to be the point just before diminishing returns set in."
   ]
  },
  {
   "cell_type": "markdown",
   "id": "dea26728",
   "metadata": {},
   "source": [
    "#### Silhouette score"
   ]
  },
  {
   "cell_type": "markdown",
   "id": "be6ec3f6",
   "metadata": {},
   "source": [
    "The silhouette score is a metric used to calculate the goodness of a clustering technique, indicating how well-separated the clusters are. It ranges from -1 to 1, where a high value indicates that the object is well matched to its own cluster and poorly matched to neighboring clusters.\n",
    "\n",
    "The silhouette score for each data point is a measure of how similar it is to its own cluster (cohesion) compared to other clusters (separation). The silhouette score can be used to determine the optimal number of clusters for a given dataset, similar to the elbow method."
   ]
  },
  {
   "cell_type": "code",
   "execution_count": 60,
   "id": "adeb87be",
   "metadata": {},
   "outputs": [
    {
     "data": {
      "text/plain": [
       "[0.5014375884475406,\n",
       " 0.4340633398714226,\n",
       " 0.4480427158495205,\n",
       " 0.06857282926502521,\n",
       " 0.09420679724608344,\n",
       " 0.10783806907953054,\n",
       " 0.10388706042986687,\n",
       " 0.11574969207636938,\n",
       " 0.1137982978785918]"
      ]
     },
     "execution_count": 60,
     "metadata": {},
     "output_type": "execute_result"
    }
   ],
   "source": [
    "silhouette_scores"
   ]
  },
  {
   "cell_type": "code",
   "execution_count": 61,
   "id": "7abd817d",
   "metadata": {},
   "outputs": [
    {
     "data": {
      "image/png": "[encoded data removed]",
      "text/plain": [
       "<Figure size 640x480 with 1 Axes>"
      ]
     },
     "metadata": {},
     "output_type": "display_data"
    }
   ],
   "source": [
    "# Silhouette score plot\n",
    "plt.plot(range(2, 11), silhouette_scores, '--o', color='red')\n",
    "plt.title('Number of clusters against Silhouette Score')\n",
    "plt.xlabel('Number of clusters (k)')\n",
    "plt.ylabel('Silhouette Score')\n",
    "plt.show()"
   ]
  },
  {
   "cell_type": "markdown",
   "id": "8334bd69",
   "metadata": {},
   "source": [
    "The silhouette scores generally decrease as the number of clusters increases, but the peak (elbow) in the plot is often considered as the optimal k.\n",
    "\n",
    "The highest silhouette score is 0.5014, and it occurs when k is 2. This suggests that when the data is divided into two clusters, the clusters are well-separated.\n",
    "\n",
    "In this case, the silhouette score is relatively high and stable for k=4 (0.4480), indicating that dividing the data into four clusters provides well-defined and separated clusters. k=4 seems to be a reasonable choice as it provides a good balance between well-defined clusters and the number of clusters."
   ]
  },
  {
   "cell_type": "code",
   "execution_count": 62,
   "id": "40a7774d",
   "metadata": {},
   "outputs": [
    {
     "data": {
      "image/png": "[encoded data removed]",
      "text/plain": [
       "<Figure size 640x480 with 2 Axes>"
      ]
     },
     "metadata": {},
     "output_type": "display_data"
    },
    {
     "name": "stdout",
     "output_type": "stream",
     "text": [
      "Optimal Number of Clusters (k): 4\n"
     ]
    }
   ],
   "source": [
    "# Plot the Elbow Method and Silhouette Scores\n",
    "optimal_k = 4\n",
    "\n",
    "fig, ax1 = plt.subplots()\n",
    "\n",
    "color = 'tab:blue'\n",
    "ax1.set_xlabel('Number of clusters (k)')\n",
    "ax1.set_ylabel('Inertia', color=color)\n",
    "ax1.plot(range(2, 11), inertia, '-o', color=color)\n",
    "ax1.tick_params(axis='y', labelcolor=color)\n",
    "ax1.vlines(optimal_k, plt.ylim()[0], plt.ylim()[1], linestyles='dashed', colors='red', label='Optimal k (Elbow)')\n",
    "\n",
    "ax2 = ax1.twinx()\n",
    "color = 'tab:red'\n",
    "ax2.set_ylabel('Silhouette Score', color=color)\n",
    "ax2.plot(range(2, 11), silhouette_scores, '-o', color=color)\n",
    "ax2.tick_params(axis='y', labelcolor=color)\n",
    "\n",
    "plt.title('Elbow Method for Optimal k')\n",
    "plt.show()\n",
    "\n",
    "print(\"Optimal Number of Clusters (k):\", 4)"
   ]
  },
  {
   "cell_type": "markdown",
   "id": "33d77a42",
   "metadata": {},
   "source": [
    "The plot above shows combined plot showing both the Elbow Method (inertia) and Silhouette Scores. These two commonly used metrics are being utilised in this process of determining the optimal number of clusters for a dataset. \n",
    "\n",
    "The elbow method involves fitting a clustering algorithm to the data for different values of k and plotting the within-cluster sum of squares (wcss) or inertia against the number of clusters. The point at which the rate of decrease in wcss slows down, creating an \"elbow\" in the plot, is considered a candidate for the optimal number of clusters. In this case, we can notice that the optimal number of clusters is 4. \n",
    "\n",
    "Additionally, the silhouette score, which measures the cohesion and separation of clusters, provides a quantitative measure of cluster quality. A higher silhouette score indicates well-defined clusters. In our analysis, the silhouette score for k=4 signify a reasonable level of separation and cohesion within the clusters. \n",
    "\n",
    "Therefore, considering both the elbow method and silhouette score, we choose 4 as the optimal number of clusters for our dataset as shown by a vertical dashed line to indicate the optimal k. This aiming to strike a balance between capturing underlying patterns in the data and avoiding over-segmentation or under-segmentation."
   ]
  },
  {
   "cell_type": "code",
   "execution_count": 63,
   "id": "bdab82ff",
   "metadata": {},
   "outputs": [],
   "source": [
    "# Assuming df is a NumPy array\n",
    "kmeans = KMeans(n_clusters=4, init='k-means++', random_state=0)\n",
    "cluster_labels_kmeans = kmeans.fit_predict(df_scaled)"
   ]
  },
  {
   "cell_type": "code",
   "execution_count": 64,
   "id": "2085a835",
   "metadata": {},
   "outputs": [],
   "source": [
    "df['Cluster_kmeans'] = cluster_labels_kmeans"
   ]
  },
  {
   "cell_type": "markdown",
   "id": "ce9480ee",
   "metadata": {},
   "source": [
    "Once we have determined the optimal number of clusters (k=4 in this case), we can proceed with assign cluster labels. After running the K-Means algorithm with the chosen k value, each data point will be assigned to one of the four clusters. A new column named 'Cluster_kmeans' is added to the original data frame which contains the cluster labels obtained from the K-Means Clustering model."
   ]
  },
  {
   "cell_type": "code",
   "execution_count": 65,
   "id": "9194124a",
   "metadata": {},
   "outputs": [
    {
     "data": {
      "text/html": [
       "<div>\n",
       "<style scoped>\n",
       "    .dataframe tbody tr th:only-of-type {\n",
       "        vertical-align: middle;\n",
       "    }\n",
       "\n",
       "    .dataframe tbody tr th {\n",
       "        vertical-align: top;\n",
       "    }\n",
       "\n",
       "    .dataframe thead th {\n",
       "        text-align: right;\n",
       "    }\n",
       "</style>\n",
       "<table border=\"1\" class=\"dataframe\">\n",
       "  <thead>\n",
       "    <tr style=\"text-align: right;\">\n",
       "      <th></th>\n",
       "      <th>Released_Year</th>\n",
       "      <th>Runtime</th>\n",
       "      <th>IMDB_Rating</th>\n",
       "      <th>Meta_score_Label</th>\n",
       "      <th>Action</th>\n",
       "      <th>Adventure</th>\n",
       "      <th>Animation</th>\n",
       "      <th>Biography</th>\n",
       "      <th>Comedy</th>\n",
       "      <th>Crime</th>\n",
       "      <th>...</th>\n",
       "      <th>d</th>\n",
       "      <th>e</th>\n",
       "      <th>n</th>\n",
       "      <th>o</th>\n",
       "      <th>p</th>\n",
       "      <th>r</th>\n",
       "      <th>s</th>\n",
       "      <th>t</th>\n",
       "      <th>v</th>\n",
       "      <th>Cluster_kmeans</th>\n",
       "    </tr>\n",
       "  </thead>\n",
       "  <tbody>\n",
       "    <tr>\n",
       "      <th>0</th>\n",
       "      <td>1994</td>\n",
       "      <td>142.0</td>\n",
       "      <td>87.0</td>\n",
       "      <td>0</td>\n",
       "      <td>0</td>\n",
       "      <td>0</td>\n",
       "      <td>0</td>\n",
       "      <td>0</td>\n",
       "      <td>0</td>\n",
       "      <td>0</td>\n",
       "      <td>...</td>\n",
       "      <td>0</td>\n",
       "      <td>0</td>\n",
       "      <td>0</td>\n",
       "      <td>0</td>\n",
       "      <td>0</td>\n",
       "      <td>0</td>\n",
       "      <td>0</td>\n",
       "      <td>0</td>\n",
       "      <td>0</td>\n",
       "      <td>0</td>\n",
       "    </tr>\n",
       "    <tr>\n",
       "      <th>1</th>\n",
       "      <td>1972</td>\n",
       "      <td>175.0</td>\n",
       "      <td>87.0</td>\n",
       "      <td>2</td>\n",
       "      <td>0</td>\n",
       "      <td>0</td>\n",
       "      <td>0</td>\n",
       "      <td>0</td>\n",
       "      <td>0</td>\n",
       "      <td>1</td>\n",
       "      <td>...</td>\n",
       "      <td>0</td>\n",
       "      <td>0</td>\n",
       "      <td>0</td>\n",
       "      <td>0</td>\n",
       "      <td>0</td>\n",
       "      <td>0</td>\n",
       "      <td>0</td>\n",
       "      <td>0</td>\n",
       "      <td>0</td>\n",
       "      <td>0</td>\n",
       "    </tr>\n",
       "    <tr>\n",
       "      <th>2</th>\n",
       "      <td>2008</td>\n",
       "      <td>152.0</td>\n",
       "      <td>87.0</td>\n",
       "      <td>0</td>\n",
       "      <td>1</td>\n",
       "      <td>0</td>\n",
       "      <td>0</td>\n",
       "      <td>0</td>\n",
       "      <td>0</td>\n",
       "      <td>1</td>\n",
       "      <td>...</td>\n",
       "      <td>0</td>\n",
       "      <td>0</td>\n",
       "      <td>0</td>\n",
       "      <td>0</td>\n",
       "      <td>0</td>\n",
       "      <td>0</td>\n",
       "      <td>0</td>\n",
       "      <td>0</td>\n",
       "      <td>0</td>\n",
       "      <td>0</td>\n",
       "    </tr>\n",
       "    <tr>\n",
       "      <th>3</th>\n",
       "      <td>1974</td>\n",
       "      <td>188.0</td>\n",
       "      <td>87.0</td>\n",
       "      <td>2</td>\n",
       "      <td>0</td>\n",
       "      <td>0</td>\n",
       "      <td>0</td>\n",
       "      <td>0</td>\n",
       "      <td>0</td>\n",
       "      <td>1</td>\n",
       "      <td>...</td>\n",
       "      <td>0</td>\n",
       "      <td>0</td>\n",
       "      <td>0</td>\n",
       "      <td>0</td>\n",
       "      <td>0</td>\n",
       "      <td>0</td>\n",
       "      <td>0</td>\n",
       "      <td>0</td>\n",
       "      <td>0</td>\n",
       "      <td>0</td>\n",
       "    </tr>\n",
       "    <tr>\n",
       "      <th>4</th>\n",
       "      <td>1957</td>\n",
       "      <td>96.0</td>\n",
       "      <td>87.0</td>\n",
       "      <td>2</td>\n",
       "      <td>0</td>\n",
       "      <td>0</td>\n",
       "      <td>0</td>\n",
       "      <td>0</td>\n",
       "      <td>0</td>\n",
       "      <td>1</td>\n",
       "      <td>...</td>\n",
       "      <td>0</td>\n",
       "      <td>0</td>\n",
       "      <td>0</td>\n",
       "      <td>0</td>\n",
       "      <td>0</td>\n",
       "      <td>0</td>\n",
       "      <td>0</td>\n",
       "      <td>0</td>\n",
       "      <td>0</td>\n",
       "      <td>0</td>\n",
       "    </tr>\n",
       "    <tr>\n",
       "      <th>...</th>\n",
       "      <td>...</td>\n",
       "      <td>...</td>\n",
       "      <td>...</td>\n",
       "      <td>...</td>\n",
       "      <td>...</td>\n",
       "      <td>...</td>\n",
       "      <td>...</td>\n",
       "      <td>...</td>\n",
       "      <td>...</td>\n",
       "      <td>...</td>\n",
       "      <td>...</td>\n",
       "      <td>...</td>\n",
       "      <td>...</td>\n",
       "      <td>...</td>\n",
       "      <td>...</td>\n",
       "      <td>...</td>\n",
       "      <td>...</td>\n",
       "      <td>...</td>\n",
       "      <td>...</td>\n",
       "      <td>...</td>\n",
       "      <td>...</td>\n",
       "    </tr>\n",
       "    <tr>\n",
       "      <th>995</th>\n",
       "      <td>1961</td>\n",
       "      <td>115.0</td>\n",
       "      <td>76.0</td>\n",
       "      <td>0</td>\n",
       "      <td>0</td>\n",
       "      <td>0</td>\n",
       "      <td>0</td>\n",
       "      <td>0</td>\n",
       "      <td>1</td>\n",
       "      <td>0</td>\n",
       "      <td>...</td>\n",
       "      <td>0</td>\n",
       "      <td>0</td>\n",
       "      <td>0</td>\n",
       "      <td>0</td>\n",
       "      <td>0</td>\n",
       "      <td>0</td>\n",
       "      <td>0</td>\n",
       "      <td>0</td>\n",
       "      <td>0</td>\n",
       "      <td>0</td>\n",
       "    </tr>\n",
       "    <tr>\n",
       "      <th>996</th>\n",
       "      <td>1956</td>\n",
       "      <td>188.0</td>\n",
       "      <td>76.0</td>\n",
       "      <td>0</td>\n",
       "      <td>0</td>\n",
       "      <td>0</td>\n",
       "      <td>0</td>\n",
       "      <td>0</td>\n",
       "      <td>0</td>\n",
       "      <td>0</td>\n",
       "      <td>...</td>\n",
       "      <td>0</td>\n",
       "      <td>0</td>\n",
       "      <td>0</td>\n",
       "      <td>0</td>\n",
       "      <td>0</td>\n",
       "      <td>0</td>\n",
       "      <td>0</td>\n",
       "      <td>0</td>\n",
       "      <td>0</td>\n",
       "      <td>0</td>\n",
       "    </tr>\n",
       "    <tr>\n",
       "      <th>997</th>\n",
       "      <td>1953</td>\n",
       "      <td>118.0</td>\n",
       "      <td>76.0</td>\n",
       "      <td>0</td>\n",
       "      <td>0</td>\n",
       "      <td>0</td>\n",
       "      <td>0</td>\n",
       "      <td>0</td>\n",
       "      <td>0</td>\n",
       "      <td>0</td>\n",
       "      <td>...</td>\n",
       "      <td>1</td>\n",
       "      <td>1</td>\n",
       "      <td>0</td>\n",
       "      <td>0</td>\n",
       "      <td>0</td>\n",
       "      <td>0</td>\n",
       "      <td>1</td>\n",
       "      <td>0</td>\n",
       "      <td>0</td>\n",
       "      <td>2</td>\n",
       "    </tr>\n",
       "    <tr>\n",
       "      <th>998</th>\n",
       "      <td>1944</td>\n",
       "      <td>97.0</td>\n",
       "      <td>76.0</td>\n",
       "      <td>0</td>\n",
       "      <td>0</td>\n",
       "      <td>0</td>\n",
       "      <td>0</td>\n",
       "      <td>0</td>\n",
       "      <td>0</td>\n",
       "      <td>0</td>\n",
       "      <td>...</td>\n",
       "      <td>0</td>\n",
       "      <td>0</td>\n",
       "      <td>0</td>\n",
       "      <td>0</td>\n",
       "      <td>0</td>\n",
       "      <td>0</td>\n",
       "      <td>0</td>\n",
       "      <td>0</td>\n",
       "      <td>0</td>\n",
       "      <td>0</td>\n",
       "    </tr>\n",
       "    <tr>\n",
       "      <th>999</th>\n",
       "      <td>1935</td>\n",
       "      <td>86.0</td>\n",
       "      <td>76.0</td>\n",
       "      <td>2</td>\n",
       "      <td>0</td>\n",
       "      <td>0</td>\n",
       "      <td>0</td>\n",
       "      <td>0</td>\n",
       "      <td>0</td>\n",
       "      <td>1</td>\n",
       "      <td>...</td>\n",
       "      <td>0</td>\n",
       "      <td>0</td>\n",
       "      <td>0</td>\n",
       "      <td>0</td>\n",
       "      <td>0</td>\n",
       "      <td>0</td>\n",
       "      <td>0</td>\n",
       "      <td>0</td>\n",
       "      <td>0</td>\n",
       "      <td>0</td>\n",
       "    </tr>\n",
       "  </tbody>\n",
       "</table>\n",
       "<p>999 rows × 50 columns</p>\n",
       "</div>"
      ],
      "text/plain": [
       "     Released_Year  Runtime  IMDB_Rating  Meta_score_Label  Action  Adventure  \\\n",
       "0             1994    142.0         87.0                 0       0          0   \n",
       "1             1972    175.0         87.0                 2       0          0   \n",
       "2             2008    152.0         87.0                 0       1          0   \n",
       "3             1974    188.0         87.0                 2       0          0   \n",
       "4             1957     96.0         87.0                 2       0          0   \n",
       "..             ...      ...          ...               ...     ...        ...   \n",
       "995           1961    115.0         76.0                 0       0          0   \n",
       "996           1956    188.0         76.0                 0       0          0   \n",
       "997           1953    118.0         76.0                 0       0          0   \n",
       "998           1944     97.0         76.0                 0       0          0   \n",
       "999           1935     86.0         76.0                 2       0          0   \n",
       "\n",
       "     Animation  Biography  Comedy  Crime  ...  d  e  n  o  p  r  s  t  v  \\\n",
       "0            0          0       0      0  ...  0  0  0  0  0  0  0  0  0   \n",
       "1            0          0       0      1  ...  0  0  0  0  0  0  0  0  0   \n",
       "2            0          0       0      1  ...  0  0  0  0  0  0  0  0  0   \n",
       "3            0          0       0      1  ...  0  0  0  0  0  0  0  0  0   \n",
       "4            0          0       0      1  ...  0  0  0  0  0  0  0  0  0   \n",
       "..         ...        ...     ...    ...  ... .. .. .. .. .. .. .. .. ..   \n",
       "995          0          0       1      0  ...  0  0  0  0  0  0  0  0  0   \n",
       "996          0          0       0      0  ...  0  0  0  0  0  0  0  0  0   \n",
       "997          0          0       0      0  ...  1  1  0  0  0  0  1  0  0   \n",
       "998          0          0       0      0  ...  0  0  0  0  0  0  0  0  0   \n",
       "999          0          0       0      1  ...  0  0  0  0  0  0  0  0  0   \n",
       "\n",
       "     Cluster_kmeans  \n",
       "0                 0  \n",
       "1                 0  \n",
       "2                 0  \n",
       "3                 0  \n",
       "4                 0  \n",
       "..              ...  \n",
       "995               0  \n",
       "996               0  \n",
       "997               2  \n",
       "998               0  \n",
       "999               0  \n",
       "\n",
       "[999 rows x 50 columns]"
      ]
     },
     "execution_count": 65,
     "metadata": {},
     "output_type": "execute_result"
    }
   ],
   "source": [
    "df"
   ]
  },
  {
   "cell_type": "code",
   "execution_count": 66,
   "id": "62848a79",
   "metadata": {},
   "outputs": [
    {
     "name": "stdout",
     "output_type": "stream",
     "text": [
      "The silhouette score for K-Means Clustering with k=4 is 0.4480427158495205\n"
     ]
    }
   ],
   "source": [
    "silhouette_kmeans = silhouette_score(df_scaled, cluster_labels_kmeans)\n",
    "print(f'The silhouette score for K-Means Clustering with k=4 is {silhouette_kmeans}')"
   ]
  },
  {
   "cell_type": "markdown",
   "id": "daaff44a",
   "metadata": {},
   "source": [
    "<h2 style = \"font-size:23px; font-family:Livvic ; font-weight : bold; background-color:  #023e8a; color :#FEF1FE ; text-align: center; border-radius: 5px 5px; padding: 5px\">Hierachical Clustering</h2>"
   ]
  },
  {
   "cell_type": "markdown",
   "id": "93cbb562",
   "metadata": {},
   "source": [
    "Hierarchical clustering is a clustering algorithm that builds a hierarchy of clusters. Unlike partitioning methods like k-means, hierarchical clustering doesn't require specifying the number of clusters beforehand. It starts with each data point as its own cluster and then successively merges or agglomerates clusters until all points belong to a single cluster.\n",
    "\n",
    "Hierarchical clustering has the advantage of providing a hierarchical structure, which allows users to explore different levels of granularity in the clustering solution. However, it can be computationally more expensive than partitioning methods, especially for large datasets. Hierarchical clustering is commonly used in various fields, including biology, social sciences and pattern recognition.\n",
    "\n",
    "There are two main types of hierarchical clustering:\n",
    "\n",
    "1. **Agglomerative Hierarchical Clustering:**\n",
    "   - **Bottom-Up Approach:** Start with each data point as a single cluster and iteratively merge the closest pairs of clusters until only one cluster remains.\n",
    "   - **Dendrogram:** A tree-like structure (dendrogram) is built to represent the hierarchy of clusters.\n",
    "   - **Linkage Methods:** Different methods can be used to measure the distance between clusters, such as complete linkage, average linkage, and Ward's method.\n",
    "   \n",
    "<br>\n",
    "\n",
    "2. **Divisive Hierarchical Clustering:**\n",
    "   - **Top-Down Approach:** Start with all data points in a single cluster and iteratively split clusters until each data point is in its own cluster."
   ]
  },
  {
   "cell_type": "markdown",
   "id": "e8cfed86",
   "metadata": {},
   "source": [
    "Below code utilise Agglomerative Hierarchical Clustering for the clustering."
   ]
  },
  {
   "cell_type": "code",
   "execution_count": 67,
   "id": "fa576778",
   "metadata": {},
   "outputs": [],
   "source": [
    "# Import libraries\n",
    "from sklearn.cluster import AgglomerativeClustering\n",
    "from scipy.cluster.hierarchy import dendrogram, linkage"
   ]
  },
  {
   "cell_type": "code",
   "execution_count": 68,
   "id": "d67ba82d",
   "metadata": {},
   "outputs": [],
   "source": [
    "hierarchi = AgglomerativeClustering(n_clusters=4, linkage='ward')"
   ]
  },
  {
   "cell_type": "markdown",
   "id": "6258ff3b",
   "metadata": {},
   "source": [
    "Forming 4 clusters and using the Ward linkage method."
   ]
  },
  {
   "cell_type": "code",
   "execution_count": 69,
   "id": "eebfe408",
   "metadata": {},
   "outputs": [],
   "source": [
    "cluster_labels_hierarchi = hierarchi.fit_predict(df_scaled)"
   ]
  },
  {
   "cell_type": "code",
   "execution_count": 70,
   "id": "1a9199c9",
   "metadata": {
    "scrolled": true
   },
   "outputs": [],
   "source": [
    "df['Cluster_hierarchi'] = cluster_labels_hierarchi"
   ]
  },
  {
   "cell_type": "markdown",
   "id": "a9c8514c",
   "metadata": {},
   "source": [
    "Adding a new column named 'Cluster_hierarchi' to the original data frame which contains assigned cluster labels obtained from the hierarchical clustering model."
   ]
  },
  {
   "cell_type": "code",
   "execution_count": 71,
   "id": "d845c4c1",
   "metadata": {},
   "outputs": [
    {
     "data": {
      "image/png": "[encoded data removed]",
      "text/plain": [
       "<Figure size 640x480 with 1 Axes>"
      ]
     },
     "metadata": {},
     "output_type": "display_data"
    }
   ],
   "source": [
    "# Perform hierarchical clustering using Ward method and obtain linkage matrix\n",
    "linkage_matrix = linkage(df_scaled, method='ward')\n",
    "\n",
    "# Plot the dendrogram\n",
    "dendrogram(linkage_matrix)\n",
    "\n",
    "# Add labels and title\n",
    "plt.title('Hierarchical Clustering Dendrogram (Ward Method)')\n",
    "plt.xlabel('Data Points')\n",
    "plt.ylabel('Distance')\n",
    "\n",
    "# Show the plot\n",
    "plt.show()"
   ]
  },
  {
   "cell_type": "markdown",
   "id": "5e8ddf90",
   "metadata": {},
   "source": [
    "The plot above shows dendrogram plot based on the linkage matrix, calculated using the Ward method. The dendrogram visually represents the hierarchy of clusters and the order in which they are merged.\n",
    "In the dendrogram, each horizontal line represents a data point or a cluster and the vertical lines represent the merging of clusters. The height at which two clusters merge indicates the distance at which the merge occurred."
   ]
  },
  {
   "cell_type": "code",
   "execution_count": 72,
   "id": "10ce4bad",
   "metadata": {},
   "outputs": [
    {
     "data": {
      "text/html": [
       "<div>\n",
       "<style scoped>\n",
       "    .dataframe tbody tr th:only-of-type {\n",
       "        vertical-align: middle;\n",
       "    }\n",
       "\n",
       "    .dataframe tbody tr th {\n",
       "        vertical-align: top;\n",
       "    }\n",
       "\n",
       "    .dataframe thead th {\n",
       "        text-align: right;\n",
       "    }\n",
       "</style>\n",
       "<table border=\"1\" class=\"dataframe\">\n",
       "  <thead>\n",
       "    <tr style=\"text-align: right;\">\n",
       "      <th></th>\n",
       "      <th>Released_Year</th>\n",
       "      <th>Runtime</th>\n",
       "      <th>IMDB_Rating</th>\n",
       "      <th>Meta_score_Label</th>\n",
       "      <th>Action</th>\n",
       "      <th>Adventure</th>\n",
       "      <th>Animation</th>\n",
       "      <th>Biography</th>\n",
       "      <th>Comedy</th>\n",
       "      <th>Crime</th>\n",
       "      <th>...</th>\n",
       "      <th>e</th>\n",
       "      <th>n</th>\n",
       "      <th>o</th>\n",
       "      <th>p</th>\n",
       "      <th>r</th>\n",
       "      <th>s</th>\n",
       "      <th>t</th>\n",
       "      <th>v</th>\n",
       "      <th>Cluster_kmeans</th>\n",
       "      <th>Cluster_hierarchi</th>\n",
       "    </tr>\n",
       "  </thead>\n",
       "  <tbody>\n",
       "    <tr>\n",
       "      <th>0</th>\n",
       "      <td>1994</td>\n",
       "      <td>142.0</td>\n",
       "      <td>87.0</td>\n",
       "      <td>0</td>\n",
       "      <td>0</td>\n",
       "      <td>0</td>\n",
       "      <td>0</td>\n",
       "      <td>0</td>\n",
       "      <td>0</td>\n",
       "      <td>0</td>\n",
       "      <td>...</td>\n",
       "      <td>0</td>\n",
       "      <td>0</td>\n",
       "      <td>0</td>\n",
       "      <td>0</td>\n",
       "      <td>0</td>\n",
       "      <td>0</td>\n",
       "      <td>0</td>\n",
       "      <td>0</td>\n",
       "      <td>0</td>\n",
       "      <td>2</td>\n",
       "    </tr>\n",
       "    <tr>\n",
       "      <th>1</th>\n",
       "      <td>1972</td>\n",
       "      <td>175.0</td>\n",
       "      <td>87.0</td>\n",
       "      <td>2</td>\n",
       "      <td>0</td>\n",
       "      <td>0</td>\n",
       "      <td>0</td>\n",
       "      <td>0</td>\n",
       "      <td>0</td>\n",
       "      <td>1</td>\n",
       "      <td>...</td>\n",
       "      <td>0</td>\n",
       "      <td>0</td>\n",
       "      <td>0</td>\n",
       "      <td>0</td>\n",
       "      <td>0</td>\n",
       "      <td>0</td>\n",
       "      <td>0</td>\n",
       "      <td>0</td>\n",
       "      <td>0</td>\n",
       "      <td>2</td>\n",
       "    </tr>\n",
       "    <tr>\n",
       "      <th>2</th>\n",
       "      <td>2008</td>\n",
       "      <td>152.0</td>\n",
       "      <td>87.0</td>\n",
       "      <td>0</td>\n",
       "      <td>1</td>\n",
       "      <td>0</td>\n",
       "      <td>0</td>\n",
       "      <td>0</td>\n",
       "      <td>0</td>\n",
       "      <td>1</td>\n",
       "      <td>...</td>\n",
       "      <td>0</td>\n",
       "      <td>0</td>\n",
       "      <td>0</td>\n",
       "      <td>0</td>\n",
       "      <td>0</td>\n",
       "      <td>0</td>\n",
       "      <td>0</td>\n",
       "      <td>0</td>\n",
       "      <td>0</td>\n",
       "      <td>2</td>\n",
       "    </tr>\n",
       "    <tr>\n",
       "      <th>3</th>\n",
       "      <td>1974</td>\n",
       "      <td>188.0</td>\n",
       "      <td>87.0</td>\n",
       "      <td>2</td>\n",
       "      <td>0</td>\n",
       "      <td>0</td>\n",
       "      <td>0</td>\n",
       "      <td>0</td>\n",
       "      <td>0</td>\n",
       "      <td>1</td>\n",
       "      <td>...</td>\n",
       "      <td>0</td>\n",
       "      <td>0</td>\n",
       "      <td>0</td>\n",
       "      <td>0</td>\n",
       "      <td>0</td>\n",
       "      <td>0</td>\n",
       "      <td>0</td>\n",
       "      <td>0</td>\n",
       "      <td>0</td>\n",
       "      <td>2</td>\n",
       "    </tr>\n",
       "    <tr>\n",
       "      <th>4</th>\n",
       "      <td>1957</td>\n",
       "      <td>96.0</td>\n",
       "      <td>87.0</td>\n",
       "      <td>2</td>\n",
       "      <td>0</td>\n",
       "      <td>0</td>\n",
       "      <td>0</td>\n",
       "      <td>0</td>\n",
       "      <td>0</td>\n",
       "      <td>1</td>\n",
       "      <td>...</td>\n",
       "      <td>0</td>\n",
       "      <td>0</td>\n",
       "      <td>0</td>\n",
       "      <td>0</td>\n",
       "      <td>0</td>\n",
       "      <td>0</td>\n",
       "      <td>0</td>\n",
       "      <td>0</td>\n",
       "      <td>0</td>\n",
       "      <td>2</td>\n",
       "    </tr>\n",
       "    <tr>\n",
       "      <th>...</th>\n",
       "      <td>...</td>\n",
       "      <td>...</td>\n",
       "      <td>...</td>\n",
       "      <td>...</td>\n",
       "      <td>...</td>\n",
       "      <td>...</td>\n",
       "      <td>...</td>\n",
       "      <td>...</td>\n",
       "      <td>...</td>\n",
       "      <td>...</td>\n",
       "      <td>...</td>\n",
       "      <td>...</td>\n",
       "      <td>...</td>\n",
       "      <td>...</td>\n",
       "      <td>...</td>\n",
       "      <td>...</td>\n",
       "      <td>...</td>\n",
       "      <td>...</td>\n",
       "      <td>...</td>\n",
       "      <td>...</td>\n",
       "      <td>...</td>\n",
       "    </tr>\n",
       "    <tr>\n",
       "      <th>995</th>\n",
       "      <td>1961</td>\n",
       "      <td>115.0</td>\n",
       "      <td>76.0</td>\n",
       "      <td>0</td>\n",
       "      <td>0</td>\n",
       "      <td>0</td>\n",
       "      <td>0</td>\n",
       "      <td>0</td>\n",
       "      <td>1</td>\n",
       "      <td>0</td>\n",
       "      <td>...</td>\n",
       "      <td>0</td>\n",
       "      <td>0</td>\n",
       "      <td>0</td>\n",
       "      <td>0</td>\n",
       "      <td>0</td>\n",
       "      <td>0</td>\n",
       "      <td>0</td>\n",
       "      <td>0</td>\n",
       "      <td>0</td>\n",
       "      <td>2</td>\n",
       "    </tr>\n",
       "    <tr>\n",
       "      <th>996</th>\n",
       "      <td>1956</td>\n",
       "      <td>188.0</td>\n",
       "      <td>76.0</td>\n",
       "      <td>0</td>\n",
       "      <td>0</td>\n",
       "      <td>0</td>\n",
       "      <td>0</td>\n",
       "      <td>0</td>\n",
       "      <td>0</td>\n",
       "      <td>0</td>\n",
       "      <td>...</td>\n",
       "      <td>0</td>\n",
       "      <td>0</td>\n",
       "      <td>0</td>\n",
       "      <td>0</td>\n",
       "      <td>0</td>\n",
       "      <td>0</td>\n",
       "      <td>0</td>\n",
       "      <td>0</td>\n",
       "      <td>0</td>\n",
       "      <td>2</td>\n",
       "    </tr>\n",
       "    <tr>\n",
       "      <th>997</th>\n",
       "      <td>1953</td>\n",
       "      <td>118.0</td>\n",
       "      <td>76.0</td>\n",
       "      <td>0</td>\n",
       "      <td>0</td>\n",
       "      <td>0</td>\n",
       "      <td>0</td>\n",
       "      <td>0</td>\n",
       "      <td>0</td>\n",
       "      <td>0</td>\n",
       "      <td>...</td>\n",
       "      <td>1</td>\n",
       "      <td>0</td>\n",
       "      <td>0</td>\n",
       "      <td>0</td>\n",
       "      <td>0</td>\n",
       "      <td>1</td>\n",
       "      <td>0</td>\n",
       "      <td>0</td>\n",
       "      <td>2</td>\n",
       "      <td>1</td>\n",
       "    </tr>\n",
       "    <tr>\n",
       "      <th>998</th>\n",
       "      <td>1944</td>\n",
       "      <td>97.0</td>\n",
       "      <td>76.0</td>\n",
       "      <td>0</td>\n",
       "      <td>0</td>\n",
       "      <td>0</td>\n",
       "      <td>0</td>\n",
       "      <td>0</td>\n",
       "      <td>0</td>\n",
       "      <td>0</td>\n",
       "      <td>...</td>\n",
       "      <td>0</td>\n",
       "      <td>0</td>\n",
       "      <td>0</td>\n",
       "      <td>0</td>\n",
       "      <td>0</td>\n",
       "      <td>0</td>\n",
       "      <td>0</td>\n",
       "      <td>0</td>\n",
       "      <td>0</td>\n",
       "      <td>2</td>\n",
       "    </tr>\n",
       "    <tr>\n",
       "      <th>999</th>\n",
       "      <td>1935</td>\n",
       "      <td>86.0</td>\n",
       "      <td>76.0</td>\n",
       "      <td>2</td>\n",
       "      <td>0</td>\n",
       "      <td>0</td>\n",
       "      <td>0</td>\n",
       "      <td>0</td>\n",
       "      <td>0</td>\n",
       "      <td>1</td>\n",
       "      <td>...</td>\n",
       "      <td>0</td>\n",
       "      <td>0</td>\n",
       "      <td>0</td>\n",
       "      <td>0</td>\n",
       "      <td>0</td>\n",
       "      <td>0</td>\n",
       "      <td>0</td>\n",
       "      <td>0</td>\n",
       "      <td>0</td>\n",
       "      <td>2</td>\n",
       "    </tr>\n",
       "  </tbody>\n",
       "</table>\n",
       "<p>999 rows × 51 columns</p>\n",
       "</div>"
      ],
      "text/plain": [
       "     Released_Year  Runtime  IMDB_Rating  Meta_score_Label  Action  Adventure  \\\n",
       "0             1994    142.0         87.0                 0       0          0   \n",
       "1             1972    175.0         87.0                 2       0          0   \n",
       "2             2008    152.0         87.0                 0       1          0   \n",
       "3             1974    188.0         87.0                 2       0          0   \n",
       "4             1957     96.0         87.0                 2       0          0   \n",
       "..             ...      ...          ...               ...     ...        ...   \n",
       "995           1961    115.0         76.0                 0       0          0   \n",
       "996           1956    188.0         76.0                 0       0          0   \n",
       "997           1953    118.0         76.0                 0       0          0   \n",
       "998           1944     97.0         76.0                 0       0          0   \n",
       "999           1935     86.0         76.0                 2       0          0   \n",
       "\n",
       "     Animation  Biography  Comedy  Crime  ...  e  n  o  p  r  s  t  v  \\\n",
       "0            0          0       0      0  ...  0  0  0  0  0  0  0  0   \n",
       "1            0          0       0      1  ...  0  0  0  0  0  0  0  0   \n",
       "2            0          0       0      1  ...  0  0  0  0  0  0  0  0   \n",
       "3            0          0       0      1  ...  0  0  0  0  0  0  0  0   \n",
       "4            0          0       0      1  ...  0  0  0  0  0  0  0  0   \n",
       "..         ...        ...     ...    ...  ... .. .. .. .. .. .. .. ..   \n",
       "995          0          0       1      0  ...  0  0  0  0  0  0  0  0   \n",
       "996          0          0       0      0  ...  0  0  0  0  0  0  0  0   \n",
       "997          0          0       0      0  ...  1  0  0  0  0  1  0  0   \n",
       "998          0          0       0      0  ...  0  0  0  0  0  0  0  0   \n",
       "999          0          0       0      1  ...  0  0  0  0  0  0  0  0   \n",
       "\n",
       "     Cluster_kmeans  Cluster_hierarchi  \n",
       "0                 0                  2  \n",
       "1                 0                  2  \n",
       "2                 0                  2  \n",
       "3                 0                  2  \n",
       "4                 0                  2  \n",
       "..              ...                ...  \n",
       "995               0                  2  \n",
       "996               0                  2  \n",
       "997               2                  1  \n",
       "998               0                  2  \n",
       "999               0                  2  \n",
       "\n",
       "[999 rows x 51 columns]"
      ]
     },
     "execution_count": 72,
     "metadata": {},
     "output_type": "execute_result"
    }
   ],
   "source": [
    "df"
   ]
  },
  {
   "cell_type": "code",
   "execution_count": 73,
   "id": "75b430d6",
   "metadata": {},
   "outputs": [
    {
     "name": "stdout",
     "output_type": "stream",
     "text": [
      "The silhouette score for Agglomerative Hierarchical Clustering with 4 clusters is 0.4480427158495205\n"
     ]
    }
   ],
   "source": [
    "silhouette_hierarchi = silhouette_score(df_scaled, cluster_labels_hierarchi)\n",
    "print(f'The silhouette score for Agglomerative Hierarchical Clustering with 4 clusters is {silhouette_hierarchi}')"
   ]
  }
 ],
 "metadata": {
  "kernelspec": {
   "display_name": "Python [conda env:base] *",
   "language": "python",
   "name": "conda-base-py"
  },
  "language_info": {
   "codemirror_mode": {
    "name": "ipython",
    "version": 3
   },
   "file_extension": ".py",
   "mimetype": "text/x-python",
   "name": "python",
   "nbconvert_exporter": "python",
   "pygments_lexer": "ipython3",
   "version": "3.11.5"
  }
 },
 "nbformat": 4,
 "nbformat_minor": 5
}
