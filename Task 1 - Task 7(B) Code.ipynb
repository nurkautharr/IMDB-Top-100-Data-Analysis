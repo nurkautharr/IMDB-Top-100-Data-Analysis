{
 "cells": [
  {
   "cell_type": "markdown",
   "id": "068dc3a4",
   "metadata": {},
   "source": [
    "# **<a id=\"Content\"></a>**\n",
    "<h2 style = \"font-size:27px; font-family:Montserrat ; font-weight : bold; background-color: #023e8a; color :#FEF1FE ; text-align: center; border-radius: 5px 5px; padding: 7px\">Table of Content</h2>\n",
    "\n",
    "[**<span style=\"color:#023e8a;\">1. Dataset Introduction</span>**](#1)  \n",
    "[**<span style=\"color:#023e8a;\">2. Exploratory Data Analysis</span>**](#2)  \n",
    "[**<span style=\"color:#023e8a;\">3. Data Preparation</span>**](#3)  \n",
    "[**<span style=\"color:#023e8a;\">4. i) Model Training and Evaluation (Manual Tuning)</span>**](#4)  \n",
    "[**<span style=\"color:#023e8a;\">4. ii) Model Training and Evaluation (K Fold and Grid Search)</span>**](#5)"
   ]
  },
  {
   "cell_type": "markdown",
   "id": "998f54bb",
   "metadata": {},
   "source": [
    "<a id=\"1\"></a>\n",
    "<h2 style = \"font-size:27px; font-family:Montserrat ; font-weight : bold; background-color: #023e8a; color :#FEF1FE   ; text-align: center; border-radius: 5px 5px; padding: 7px\">1. Dataset Introduction</h2>"
   ]
  },
  {
   "cell_type": "markdown",
   "id": "22cada25",
   "metadata": {},
   "source": [
    "The dataset contains information about the <b>top 1000 movies listed on the Internet Movie Database</b>, also known as <b>IMDb</b>. This website is the world's most popular and authoritative source for movie, TV and celebrity content. The website also includes ratings and reviews for each movie and TV shows. "
   ]
  },
  {
   "cell_type": "markdown",
   "id": "94cc9e58",
   "metadata": {},
   "source": [
    "<br>\n",
    "<img src = \"Table1.png\", style = \"width: 500px\";>"
   ]
  },
  {
   "cell_type": "markdown",
   "id": "321f26ad",
   "metadata": {},
   "source": [
    "Based on the dataset, here are the attributes that can be classify as categorical and numerical values:\n",
    "\n",
    "- Categorical:\n",
    "\n",
    "    * Certificate\n",
    "    * Genre\n",
    "\n",
    "- Numerical:\n",
    "\n",
    "    * Released_Year\n",
    "    * IMDB_Rating\n",
    "    * No_of_Votes\n",
    "    * Gross"
   ]
  },
  {
   "cell_type": "markdown",
   "id": "aa1bff7d",
   "metadata": {},
   "source": [
    "[**<span style=\"color:#FEF1FE;background-color:#023e8a;border-radius: 5px;padding: 2px\">Go to Table of Content</span>**](#Content)\n",
    "\n",
    "<a id=\"2\"></a>\n",
    "<h2 style = \"font-size:27px; font-family:Montserrat ; font-weight : bold; background-color: #023e8a; color :#FEF1FE   ; text-align: center; border-radius: 5px 5px; padding: 7px\">2. Exploratory Data Analysis</h2>"
   ]
  },
  {
   "cell_type": "code",
   "execution_count": 1,
   "id": "956e3c64",
   "metadata": {},
   "outputs": [],
   "source": [
    "# Import libraries\n",
    "import numpy as np\n",
    "import pandas as pd\n",
    "import seaborn as sns\n",
    "import matplotlib.pyplot as plt"
   ]
  },
  {
   "cell_type": "code",
   "execution_count": 2,
   "id": "be1465ce",
   "metadata": {},
   "outputs": [],
   "source": [
    "# Suppress warnings\n",
    "from warnings import filterwarnings\n",
    "filterwarnings(\"ignore\")"
   ]
  },
  {
   "cell_type": "code",
   "execution_count": 3,
   "id": "57dc3a99",
   "metadata": {},
   "outputs": [],
   "source": [
    "# Load csv file and save as dataframe 'df'\n",
    "df = pd.read_csv('imdb_top_1000.csv')"
   ]
  },
  {
   "cell_type": "code",
   "execution_count": 4,
   "id": "7f656ce3",
   "metadata": {},
   "outputs": [
    {
     "data": {
      "text/html": [
       "<div>\n",
       "<style scoped>\n",
       "    .dataframe tbody tr th:only-of-type {\n",
       "        vertical-align: middle;\n",
       "    }\n",
       "\n",
       "    .dataframe tbody tr th {\n",
       "        vertical-align: top;\n",
       "    }\n",
       "\n",
       "    .dataframe thead th {\n",
       "        text-align: right;\n",
       "    }\n",
       "</style>\n",
       "<table border=\"1\" class=\"dataframe\">\n",
       "  <thead>\n",
       "    <tr style=\"text-align: right;\">\n",
       "      <th></th>\n",
       "      <th>Poster_Link</th>\n",
       "      <th>Series_Title</th>\n",
       "      <th>Released_Year</th>\n",
       "      <th>Certificate</th>\n",
       "      <th>Runtime</th>\n",
       "      <th>Genre</th>\n",
       "      <th>IMDB_Rating</th>\n",
       "      <th>Overview</th>\n",
       "      <th>Meta_score</th>\n",
       "      <th>Director</th>\n",
       "      <th>Star1</th>\n",
       "      <th>Star2</th>\n",
       "      <th>Star3</th>\n",
       "      <th>Star4</th>\n",
       "      <th>No_of_Votes</th>\n",
       "      <th>Gross</th>\n",
       "    </tr>\n",
       "  </thead>\n",
       "  <tbody>\n",
       "    <tr>\n",
       "      <th>0</th>\n",
       "      <td>https://m.media-amazon.com/images/M/MV5BMDFkYT...</td>\n",
       "      <td>The Shawshank Redemption</td>\n",
       "      <td>1994</td>\n",
       "      <td>A</td>\n",
       "      <td>142 min</td>\n",
       "      <td>Drama</td>\n",
       "      <td>9.3</td>\n",
       "      <td>Two imprisoned men bond over a number of years...</td>\n",
       "      <td>80.0</td>\n",
       "      <td>Frank Darabont</td>\n",
       "      <td>Tim Robbins</td>\n",
       "      <td>Morgan Freeman</td>\n",
       "      <td>Bob Gunton</td>\n",
       "      <td>William Sadler</td>\n",
       "      <td>2343110</td>\n",
       "      <td>28,341,469</td>\n",
       "    </tr>\n",
       "    <tr>\n",
       "      <th>1</th>\n",
       "      <td>https://m.media-amazon.com/images/M/MV5BM2MyNj...</td>\n",
       "      <td>The Godfather</td>\n",
       "      <td>1972</td>\n",
       "      <td>A</td>\n",
       "      <td>175 min</td>\n",
       "      <td>Crime, Drama</td>\n",
       "      <td>9.2</td>\n",
       "      <td>An organized crime dynasty's aging patriarch t...</td>\n",
       "      <td>100.0</td>\n",
       "      <td>Francis Ford Coppola</td>\n",
       "      <td>Marlon Brando</td>\n",
       "      <td>Al Pacino</td>\n",
       "      <td>James Caan</td>\n",
       "      <td>Diane Keaton</td>\n",
       "      <td>1620367</td>\n",
       "      <td>134,966,411</td>\n",
       "    </tr>\n",
       "    <tr>\n",
       "      <th>2</th>\n",
       "      <td>https://m.media-amazon.com/images/M/MV5BMTMxNT...</td>\n",
       "      <td>The Dark Knight</td>\n",
       "      <td>2008</td>\n",
       "      <td>UA</td>\n",
       "      <td>152 min</td>\n",
       "      <td>Action, Crime, Drama</td>\n",
       "      <td>9.0</td>\n",
       "      <td>When the menace known as the Joker wreaks havo...</td>\n",
       "      <td>84.0</td>\n",
       "      <td>Christopher Nolan</td>\n",
       "      <td>Christian Bale</td>\n",
       "      <td>Heath Ledger</td>\n",
       "      <td>Aaron Eckhart</td>\n",
       "      <td>Michael Caine</td>\n",
       "      <td>2303232</td>\n",
       "      <td>534,858,444</td>\n",
       "    </tr>\n",
       "    <tr>\n",
       "      <th>3</th>\n",
       "      <td>https://m.media-amazon.com/images/M/MV5BMWMwMG...</td>\n",
       "      <td>The Godfather: Part II</td>\n",
       "      <td>1974</td>\n",
       "      <td>A</td>\n",
       "      <td>202 min</td>\n",
       "      <td>Crime, Drama</td>\n",
       "      <td>9.0</td>\n",
       "      <td>The early life and career of Vito Corleone in ...</td>\n",
       "      <td>90.0</td>\n",
       "      <td>Francis Ford Coppola</td>\n",
       "      <td>Al Pacino</td>\n",
       "      <td>Robert De Niro</td>\n",
       "      <td>Robert Duvall</td>\n",
       "      <td>Diane Keaton</td>\n",
       "      <td>1129952</td>\n",
       "      <td>57,300,000</td>\n",
       "    </tr>\n",
       "    <tr>\n",
       "      <th>4</th>\n",
       "      <td>https://m.media-amazon.com/images/M/MV5BMWU4N2...</td>\n",
       "      <td>12 Angry Men</td>\n",
       "      <td>1957</td>\n",
       "      <td>U</td>\n",
       "      <td>96 min</td>\n",
       "      <td>Crime, Drama</td>\n",
       "      <td>9.0</td>\n",
       "      <td>A jury holdout attempts to prevent a miscarria...</td>\n",
       "      <td>96.0</td>\n",
       "      <td>Sidney Lumet</td>\n",
       "      <td>Henry Fonda</td>\n",
       "      <td>Lee J. Cobb</td>\n",
       "      <td>Martin Balsam</td>\n",
       "      <td>John Fiedler</td>\n",
       "      <td>689845</td>\n",
       "      <td>4,360,000</td>\n",
       "    </tr>\n",
       "  </tbody>\n",
       "</table>\n",
       "</div>"
      ],
      "text/plain": [
       "                                         Poster_Link  \\\n",
       "0  https://m.media-amazon.com/images/M/MV5BMDFkYT...   \n",
       "1  https://m.media-amazon.com/images/M/MV5BM2MyNj...   \n",
       "2  https://m.media-amazon.com/images/M/MV5BMTMxNT...   \n",
       "3  https://m.media-amazon.com/images/M/MV5BMWMwMG...   \n",
       "4  https://m.media-amazon.com/images/M/MV5BMWU4N2...   \n",
       "\n",
       "               Series_Title Released_Year Certificate  Runtime  \\\n",
       "0  The Shawshank Redemption          1994           A  142 min   \n",
       "1             The Godfather          1972           A  175 min   \n",
       "2           The Dark Knight          2008          UA  152 min   \n",
       "3    The Godfather: Part II          1974           A  202 min   \n",
       "4              12 Angry Men          1957           U   96 min   \n",
       "\n",
       "                  Genre  IMDB_Rating  \\\n",
       "0                 Drama          9.3   \n",
       "1          Crime, Drama          9.2   \n",
       "2  Action, Crime, Drama          9.0   \n",
       "3          Crime, Drama          9.0   \n",
       "4          Crime, Drama          9.0   \n",
       "\n",
       "                                            Overview  Meta_score  \\\n",
       "0  Two imprisoned men bond over a number of years...        80.0   \n",
       "1  An organized crime dynasty's aging patriarch t...       100.0   \n",
       "2  When the menace known as the Joker wreaks havo...        84.0   \n",
       "3  The early life and career of Vito Corleone in ...        90.0   \n",
       "4  A jury holdout attempts to prevent a miscarria...        96.0   \n",
       "\n",
       "               Director           Star1           Star2          Star3  \\\n",
       "0        Frank Darabont     Tim Robbins  Morgan Freeman     Bob Gunton   \n",
       "1  Francis Ford Coppola   Marlon Brando       Al Pacino     James Caan   \n",
       "2     Christopher Nolan  Christian Bale    Heath Ledger  Aaron Eckhart   \n",
       "3  Francis Ford Coppola       Al Pacino  Robert De Niro  Robert Duvall   \n",
       "4          Sidney Lumet     Henry Fonda     Lee J. Cobb  Martin Balsam   \n",
       "\n",
       "            Star4  No_of_Votes        Gross  \n",
       "0  William Sadler      2343110   28,341,469  \n",
       "1    Diane Keaton      1620367  134,966,411  \n",
       "2   Michael Caine      2303232  534,858,444  \n",
       "3    Diane Keaton      1129952   57,300,000  \n",
       "4    John Fiedler       689845    4,360,000  "
      ]
     },
     "execution_count": 4,
     "metadata": {},
     "output_type": "execute_result"
    }
   ],
   "source": [
    "# Display the first 5 rows\n",
    "df.head()"
   ]
  },
  {
   "cell_type": "code",
   "execution_count": 5,
   "id": "cea4a204",
   "metadata": {},
   "outputs": [
    {
     "data": {
      "text/plain": [
       "(1000, 16)"
      ]
     },
     "execution_count": 5,
     "metadata": {},
     "output_type": "execute_result"
    }
   ],
   "source": [
    "# Shape of dataframe\n",
    "df.shape"
   ]
  },
  {
   "cell_type": "markdown",
   "id": "1e17fe72",
   "metadata": {},
   "source": [
    "The dataframe consists of 1000 rows and 16 columns."
   ]
  },
  {
   "cell_type": "code",
   "execution_count": 6,
   "id": "767452ad",
   "metadata": {},
   "outputs": [
    {
     "data": {
      "text/plain": [
       "Index(['Poster_Link', 'Series_Title', 'Released_Year', 'Certificate',\n",
       "       'Runtime', 'Genre', 'IMDB_Rating', 'Overview', 'Meta_score', 'Director',\n",
       "       'Star1', 'Star2', 'Star3', 'Star4', 'No_of_Votes', 'Gross'],\n",
       "      dtype='object')"
      ]
     },
     "execution_count": 6,
     "metadata": {},
     "output_type": "execute_result"
    }
   ],
   "source": [
    "# Column names of dataframe\n",
    "df.columns"
   ]
  },
  {
   "cell_type": "code",
   "execution_count": 7,
   "id": "bb320f57",
   "metadata": {},
   "outputs": [],
   "source": [
    "# Drop specified columns from the dataframe\n",
    "df.drop(['Poster_Link', 'Series_Title', 'Overview'], axis=1, inplace=True)"
   ]
  },
  {
   "cell_type": "markdown",
   "id": "ee9e389b",
   "metadata": {},
   "source": [
    "The columns are being dropped as they do not contribute meaningful information to the analysis. This helps to focus on the essential variables and simplify the dataset."
   ]
  },
  {
   "cell_type": "code",
   "execution_count": 8,
   "id": "e0394f9e",
   "metadata": {},
   "outputs": [
    {
     "data": {
      "text/plain": [
       "Index(['Released_Year', 'Certificate', 'Runtime', 'Genre', 'IMDB_Rating',\n",
       "       'Meta_score', 'Director', 'Star1', 'Star2', 'Star3', 'Star4',\n",
       "       'No_of_Votes', 'Gross'],\n",
       "      dtype='object')"
      ]
     },
     "execution_count": 8,
     "metadata": {},
     "output_type": "execute_result"
    }
   ],
   "source": [
    "# Column names of dataframe\n",
    "df.columns"
   ]
  },
  {
   "cell_type": "markdown",
   "id": "92766c7c",
   "metadata": {},
   "source": [
    "These are the columns selected for further analysis."
   ]
  },
  {
   "cell_type": "code",
   "execution_count": 9,
   "id": "1742ffd6",
   "metadata": {
    "scrolled": true
   },
   "outputs": [
    {
     "name": "stdout",
     "output_type": "stream",
     "text": [
      "<class 'pandas.core.frame.DataFrame'>\n",
      "RangeIndex: 1000 entries, 0 to 999\n",
      "Data columns (total 13 columns):\n",
      " #   Column         Non-Null Count  Dtype  \n",
      "---  ------         --------------  -----  \n",
      " 0   Released_Year  1000 non-null   object \n",
      " 1   Certificate    899 non-null    object \n",
      " 2   Runtime        1000 non-null   object \n",
      " 3   Genre          1000 non-null   object \n",
      " 4   IMDB_Rating    1000 non-null   float64\n",
      " 5   Meta_score     843 non-null    float64\n",
      " 6   Director       1000 non-null   object \n",
      " 7   Star1          1000 non-null   object \n",
      " 8   Star2          1000 non-null   object \n",
      " 9   Star3          1000 non-null   object \n",
      " 10  Star4          1000 non-null   object \n",
      " 11  No_of_Votes    1000 non-null   int64  \n",
      " 12  Gross          831 non-null    object \n",
      "dtypes: float64(2), int64(1), object(10)\n",
      "memory usage: 101.7+ KB\n"
     ]
    }
   ],
   "source": [
    "# Summary of dataframe\n",
    "df.info()"
   ]
  },
  {
   "cell_type": "markdown",
   "id": "ca9d87a6",
   "metadata": {},
   "source": [
    "This indicates details such as the number of non-null values, data types of each column and memory usage for a better understanding on the dataframe structure."
   ]
  },
  {
   "cell_type": "code",
   "execution_count": 10,
   "id": "7dfa8b26",
   "metadata": {},
   "outputs": [
    {
     "data": {
      "text/html": [
       "<div>\n",
       "<style scoped>\n",
       "    .dataframe tbody tr th:only-of-type {\n",
       "        vertical-align: middle;\n",
       "    }\n",
       "\n",
       "    .dataframe tbody tr th {\n",
       "        vertical-align: top;\n",
       "    }\n",
       "\n",
       "    .dataframe thead th {\n",
       "        text-align: right;\n",
       "    }\n",
       "</style>\n",
       "<table border=\"1\" class=\"dataframe\">\n",
       "  <thead>\n",
       "    <tr style=\"text-align: right;\">\n",
       "      <th></th>\n",
       "      <th>IMDB_Rating</th>\n",
       "      <th>Meta_score</th>\n",
       "      <th>No_of_Votes</th>\n",
       "    </tr>\n",
       "  </thead>\n",
       "  <tbody>\n",
       "    <tr>\n",
       "      <th>count</th>\n",
       "      <td>1000.000000</td>\n",
       "      <td>843.000000</td>\n",
       "      <td>1.000000e+03</td>\n",
       "    </tr>\n",
       "    <tr>\n",
       "      <th>mean</th>\n",
       "      <td>7.949300</td>\n",
       "      <td>77.971530</td>\n",
       "      <td>2.736929e+05</td>\n",
       "    </tr>\n",
       "    <tr>\n",
       "      <th>std</th>\n",
       "      <td>0.275491</td>\n",
       "      <td>12.376099</td>\n",
       "      <td>3.273727e+05</td>\n",
       "    </tr>\n",
       "    <tr>\n",
       "      <th>min</th>\n",
       "      <td>7.600000</td>\n",
       "      <td>28.000000</td>\n",
       "      <td>2.508800e+04</td>\n",
       "    </tr>\n",
       "    <tr>\n",
       "      <th>25%</th>\n",
       "      <td>7.700000</td>\n",
       "      <td>70.000000</td>\n",
       "      <td>5.552625e+04</td>\n",
       "    </tr>\n",
       "    <tr>\n",
       "      <th>50%</th>\n",
       "      <td>7.900000</td>\n",
       "      <td>79.000000</td>\n",
       "      <td>1.385485e+05</td>\n",
       "    </tr>\n",
       "    <tr>\n",
       "      <th>75%</th>\n",
       "      <td>8.100000</td>\n",
       "      <td>87.000000</td>\n",
       "      <td>3.741612e+05</td>\n",
       "    </tr>\n",
       "    <tr>\n",
       "      <th>max</th>\n",
       "      <td>9.300000</td>\n",
       "      <td>100.000000</td>\n",
       "      <td>2.343110e+06</td>\n",
       "    </tr>\n",
       "  </tbody>\n",
       "</table>\n",
       "</div>"
      ],
      "text/plain": [
       "       IMDB_Rating  Meta_score   No_of_Votes\n",
       "count  1000.000000  843.000000  1.000000e+03\n",
       "mean      7.949300   77.971530  2.736929e+05\n",
       "std       0.275491   12.376099  3.273727e+05\n",
       "min       7.600000   28.000000  2.508800e+04\n",
       "25%       7.700000   70.000000  5.552625e+04\n",
       "50%       7.900000   79.000000  1.385485e+05\n",
       "75%       8.100000   87.000000  3.741612e+05\n",
       "max       9.300000  100.000000  2.343110e+06"
      ]
     },
     "execution_count": 10,
     "metadata": {},
     "output_type": "execute_result"
    }
   ],
   "source": [
    "# Descriptive statistics of dataframe\n",
    "df.describe()"
   ]
  },
  {
   "cell_type": "markdown",
   "id": "f4b8b69b",
   "metadata": {},
   "source": [
    "The descriptive statistics provide a comprehensive overview of three numerical columns in the dataset: 'IMDB_Rating', 'Meta_score' and 'No_of_Votes'. This provide key insights into the distribution and central tendency of these variables.\n",
    "\n",
    "For 'IMDB_Rating,' the statistics reveal that the ratings range from 7.6 to 9.3, with an average rating of approximately 7.95. The majority of movies fall within the interquartile range (25th to 75th percentile) between 7.7 and 8.1.\n",
    "\n",
    "Regarding 'Meta_score,' the scores range from 28 to 100, with an average score of around 77.97. The interquartile range for meta-scores lies between 70 and 87, indicating the central tendency of critical ratings for the majority of movies.\n",
    "\n",
    "For 'No_of_Votes,' the count shows that all 1000 movies have recorded votes. The number of votes ranges from 25088 to 2343110, with an average of approximately 273693. The interquartile range spans from 55526 to 374161, representing the distribution of votes among the movies."
   ]
  },
  {
   "cell_type": "code",
   "execution_count": 11,
   "id": "dd60c723",
   "metadata": {
    "scrolled": true
   },
   "outputs": [
    {
     "data": {
      "text/html": [
       "<div>\n",
       "<style scoped>\n",
       "    .dataframe tbody tr th:only-of-type {\n",
       "        vertical-align: middle;\n",
       "    }\n",
       "\n",
       "    .dataframe tbody tr th {\n",
       "        vertical-align: top;\n",
       "    }\n",
       "\n",
       "    .dataframe thead th {\n",
       "        text-align: right;\n",
       "    }\n",
       "</style>\n",
       "<table border=\"1\" class=\"dataframe\">\n",
       "  <thead>\n",
       "    <tr style=\"text-align: right;\">\n",
       "      <th></th>\n",
       "      <th>Released_Year</th>\n",
       "      <th>Certificate</th>\n",
       "      <th>Runtime</th>\n",
       "      <th>Genre</th>\n",
       "      <th>IMDB_Rating</th>\n",
       "      <th>Meta_score</th>\n",
       "      <th>Director</th>\n",
       "      <th>Star1</th>\n",
       "      <th>Star2</th>\n",
       "      <th>Star3</th>\n",
       "      <th>Star4</th>\n",
       "      <th>No_of_Votes</th>\n",
       "      <th>Gross</th>\n",
       "    </tr>\n",
       "  </thead>\n",
       "  <tbody>\n",
       "  </tbody>\n",
       "</table>\n",
       "</div>"
      ],
      "text/plain": [
       "Empty DataFrame\n",
       "Columns: [Released_Year, Certificate, Runtime, Genre, IMDB_Rating, Meta_score, Director, Star1, Star2, Star3, Star4, No_of_Votes, Gross]\n",
       "Index: []"
      ]
     },
     "execution_count": 11,
     "metadata": {},
     "output_type": "execute_result"
    }
   ],
   "source": [
    "# Check for duplicated rows\n",
    "df[df.duplicated()]"
   ]
  },
  {
   "cell_type": "markdown",
   "id": "bc0b6a6b",
   "metadata": {},
   "source": [
    "There are no rows in the dataframe that are identical to each other across all columns."
   ]
  },
  {
   "cell_type": "code",
   "execution_count": 12,
   "id": "f63a1685",
   "metadata": {
    "scrolled": true
   },
   "outputs": [
    {
     "data": {
      "text/plain": [
       "Released_Year      0\n",
       "Certificate      101\n",
       "Runtime            0\n",
       "Genre              0\n",
       "IMDB_Rating        0\n",
       "Meta_score       157\n",
       "Director           0\n",
       "Star1              0\n",
       "Star2              0\n",
       "Star3              0\n",
       "Star4              0\n",
       "No_of_Votes        0\n",
       "Gross            169\n",
       "dtype: int64"
      ]
     },
     "execution_count": 12,
     "metadata": {},
     "output_type": "execute_result"
    }
   ],
   "source": [
    "# Check for missing values in each column\n",
    "df.isna().sum()"
   ]
  },
  {
   "cell_type": "markdown",
   "id": "bee9f012",
   "metadata": {},
   "source": [
    "This indicates the number of missing values for each respective column of a dataframe. 'Certificate' has 101 missing values, 'Meta_score' has 157 and 'Gross' has 169. "
   ]
  },
  {
   "cell_type": "code",
   "execution_count": 13,
   "id": "0a48c133",
   "metadata": {},
   "outputs": [
    {
     "data": {
      "text/plain": [
       "Released_Year     0.0\n",
       "Certificate      10.1\n",
       "Runtime           0.0\n",
       "Genre             0.0\n",
       "IMDB_Rating       0.0\n",
       "Meta_score       15.7\n",
       "Director          0.0\n",
       "Star1             0.0\n",
       "Star2             0.0\n",
       "Star3             0.0\n",
       "Star4             0.0\n",
       "No_of_Votes       0.0\n",
       "Gross            16.9\n",
       "dtype: float64"
      ]
     },
     "execution_count": 13,
     "metadata": {},
     "output_type": "execute_result"
    }
   ],
   "source": [
    "# Calculate the percentage of missing values in each column\n",
    "(df.isnull().sum() / len(df))*100"
   ]
  },
  {
   "cell_type": "markdown",
   "id": "e5f3fdad",
   "metadata": {},
   "source": [
    "This represents the percentage of missing values in each column which is a useful metric to understand the extent of missing data in dataset."
   ]
  },
  {
   "cell_type": "code",
   "execution_count": 14,
   "id": "90af3f04",
   "metadata": {},
   "outputs": [
    {
     "data": {
      "text/plain": [
       "16"
      ]
     },
     "execution_count": 14,
     "metadata": {},
     "output_type": "execute_result"
    }
   ],
   "source": [
    "# Uniques values in 'Certificate' column\n",
    "df['Certificate'].nunique()"
   ]
  },
  {
   "cell_type": "code",
   "execution_count": 15,
   "id": "aa367b03",
   "metadata": {},
   "outputs": [
    {
     "data": {
      "text/plain": [
       "0    U\n",
       "Name: Certificate, dtype: object"
      ]
     },
     "execution_count": 15,
     "metadata": {},
     "output_type": "execute_result"
    }
   ],
   "source": [
    "# Mode of the 'Certificate' column\n",
    "df['Certificate'].mode()"
   ]
  },
  {
   "cell_type": "code",
   "execution_count": 16,
   "id": "ca2fcb13",
   "metadata": {},
   "outputs": [],
   "source": [
    "# Replace null values with 'U'\n",
    "df['Certificate'].fillna('U', inplace = True)"
   ]
  },
  {
   "cell_type": "markdown",
   "id": "f9361a8c",
   "metadata": {},
   "source": [
    "Since most of the movies or tv shows are 'U' (general viewing for all ages) certified, hence null values in 'Certificate' column are being replaced with 'U'."
   ]
  },
  {
   "cell_type": "code",
   "execution_count": 17,
   "id": "066b07fa",
   "metadata": {},
   "outputs": [],
   "source": [
    "# Remove commas from the 'Gross' column\n",
    "df['Gross'].replace(',', '', regex = True, inplace = True)"
   ]
  },
  {
   "cell_type": "code",
   "execution_count": 18,
   "id": "1dd0044d",
   "metadata": {},
   "outputs": [],
   "source": [
    "# Replace null values with 0\n",
    "df[\"Gross\"].replace(np.nan, 0, inplace = True)"
   ]
  },
  {
   "cell_type": "code",
   "execution_count": 19,
   "id": "12e55473",
   "metadata": {},
   "outputs": [],
   "source": [
    "# Convert the 'Gross' column to integer\n",
    "df['Gross'] = df['Gross'].astype(int)"
   ]
  },
  {
   "cell_type": "code",
   "execution_count": 20,
   "id": "51b836a4",
   "metadata": {},
   "outputs": [],
   "source": [
    "# Replace zero values in the 'Gross' column with its mean value\n",
    "df['Gross'].replace(0, df['Gross'].mean(), inplace = True)"
   ]
  },
  {
   "cell_type": "markdown",
   "id": "24e734da",
   "metadata": {},
   "source": [
    "This sequence of operations aims to clean the 'Gross' column by handling missing values, removing commas from the numerical values, converting data types and imputing zero values with a meaningful estimate based on the mean."
   ]
  },
  {
   "cell_type": "code",
   "execution_count": 21,
   "id": "c628dfc3",
   "metadata": {},
   "outputs": [],
   "source": [
    "# Fill null values in the 'Meta_score' column with its mean value\n",
    "df['Meta_score'].fillna(df['Meta_score'].mean(), inplace=True)"
   ]
  },
  {
   "cell_type": "markdown",
   "id": "7e8da8bb",
   "metadata": {},
   "source": [
    "Fills the null values in this 'Meta_score' column with the mean value of the existing scores, this approach is a common strategy for handling missing data."
   ]
  },
  {
   "cell_type": "code",
   "execution_count": 22,
   "id": "8bce12bd",
   "metadata": {
    "scrolled": true
   },
   "outputs": [
    {
     "data": {
      "text/plain": [
       "Released_Year    0\n",
       "Certificate      0\n",
       "Runtime          0\n",
       "Genre            0\n",
       "IMDB_Rating      0\n",
       "Meta_score       0\n",
       "Director         0\n",
       "Star1            0\n",
       "Star2            0\n",
       "Star3            0\n",
       "Star4            0\n",
       "No_of_Votes      0\n",
       "Gross            0\n",
       "dtype: int64"
      ]
     },
     "execution_count": 22,
     "metadata": {},
     "output_type": "execute_result"
    }
   ],
   "source": [
    "# Check for missing values\n",
    "df.isna().sum()"
   ]
  },
  {
   "cell_type": "markdown",
   "id": "269ebe34",
   "metadata": {},
   "source": [
    "The dataset is already clean from missing values."
   ]
  },
  {
   "cell_type": "code",
   "execution_count": 23,
   "id": "978cc302",
   "metadata": {},
   "outputs": [],
   "source": [
    "# Extract the first word from the 'Runtime' column\n",
    "df['Runtime'] = df['Runtime'].str.extract('([^\\s]+)')"
   ]
  },
  {
   "cell_type": "code",
   "execution_count": 24,
   "id": "6e0ba131",
   "metadata": {},
   "outputs": [],
   "source": [
    "# Convert the 'Runtime' column to integer\n",
    "df['Runtime'] = df['Runtime'].astype(int)"
   ]
  },
  {
   "cell_type": "markdown",
   "id": "fbcb491c",
   "metadata": {},
   "source": [
    "This aims to clean the 'Runtime' column by extracting the first word and converting the data types into integer."
   ]
  },
  {
   "cell_type": "code",
   "execution_count": 25,
   "id": "df3f159e",
   "metadata": {
    "scrolled": true
   },
   "outputs": [
    {
     "data": {
      "text/plain": [
       "array(['1994', '1972', '2008', '1974', '1957', '2003', '1993', '2010',\n",
       "       '1999', '2001', '1966', '2002', '1990', '1980', '1975', '2020',\n",
       "       '2019', '2014', '1998', '1997', '1995', '1991', '1977', '1962',\n",
       "       '1954', '1946', '2011', '2006', '2000', '1988', '1985', '1968',\n",
       "       '1960', '1942', '1936', '1931', '2018', '2017', '2016', '2012',\n",
       "       '2009', '2007', '1984', '1981', '1979', '1971', '1963', '1964',\n",
       "       '1950', '1940', '2013', '2005', '2004', '1992', '1987', '1986',\n",
       "       '1983', '1976', '1973', '1965', '1959', '1958', '1952', '1948',\n",
       "       '1944', '1941', '1927', '1921', '2015', '1996', '1989', '1978',\n",
       "       '1961', '1955', '1953', '1925', '1924', '1982', '1967', '1951',\n",
       "       '1949', '1939', '1937', '1934', '1928', '1926', '1920', '1970',\n",
       "       '1969', '1956', '1947', '1945', '1930', '1938', '1935', '1933',\n",
       "       '1932', '1922', '1943', 'PG'], dtype=object)"
      ]
     },
     "execution_count": 25,
     "metadata": {},
     "output_type": "execute_result"
    }
   ],
   "source": [
    "# Unique values in the 'Released_Year' column\n",
    "df['Released_Year'].unique()"
   ]
  },
  {
   "cell_type": "code",
   "execution_count": 26,
   "id": "33a74c77",
   "metadata": {},
   "outputs": [],
   "source": [
    "# Remove rows where 'Released_Year' is equal to 'PG'\n",
    "df = df[df['Released_Year'] != 'PG']"
   ]
  },
  {
   "cell_type": "code",
   "execution_count": 27,
   "id": "59c94eaa",
   "metadata": {},
   "outputs": [],
   "source": [
    "# Convert the 'Released_Year' column to integer\n",
    "df['Released_Year'] = df['Released_Year'].astype(int)"
   ]
  },
  {
   "cell_type": "markdown",
   "id": "edfb2882",
   "metadata": {},
   "source": [
    "Filter out rows where 'Released_Year' is equal to the string 'PG' since 'PG' is not a valid year and should be excluded. Then, converting the data types into integer."
   ]
  },
  {
   "cell_type": "code",
   "execution_count": 28,
   "id": "d9b220c1",
   "metadata": {},
   "outputs": [],
   "source": [
    "# Split the multiple genres in 'Genre' column into a list of genres\n",
    "df['Genre'] = df['Genre'].str.split(',')"
   ]
  },
  {
   "cell_type": "code",
   "execution_count": 29,
   "id": "315aaacd",
   "metadata": {},
   "outputs": [],
   "source": [
    "# Removed any leading or trailing whitespace from each genre\n",
    "df['Genre'] = df['Genre'].apply(lambda x : [i.strip() for i in x])"
   ]
  },
  {
   "cell_type": "code",
   "execution_count": 30,
   "id": "3a7bb43a",
   "metadata": {},
   "outputs": [],
   "source": [
    "# Explode the lists in the 'Genre' column\n",
    "df_exploded = df.explode('Genre')"
   ]
  },
  {
   "cell_type": "code",
   "execution_count": 31,
   "id": "68603b45",
   "metadata": {},
   "outputs": [],
   "source": [
    "# Count and sort 'Genre'\n",
    "genre_counts = df_exploded['Genre'].value_counts()\n",
    "\n",
    "sorted_genres = genre_counts.sort_values(ascending=False).index"
   ]
  },
  {
   "cell_type": "markdown",
   "id": "39d477db",
   "metadata": {},
   "source": [
    "This sequence of operations on the 'Genre' column begins with splitting the comma-separated genres into lists, removing any leading or trailing whitespaces from each genre label and transform the lists into separate rows, duplicating the original rows as needed. Finally, creating a sorted list based on the genre frequencies in descending order, with the most prevalent genres listed first."
   ]
  },
  {
   "cell_type": "code",
   "execution_count": 32,
   "id": "542920df",
   "metadata": {},
   "outputs": [
    {
     "data": {
      "image/png": "[encoded data removed]",
      "text/plain": [
       "<Figure size 640x480 with 1 Axes>"
      ]
     },
     "metadata": {},
     "output_type": "display_data"
    }
   ],
   "source": [
    "# Count plot of distribution of movie genres\n",
    "color_palette = sns.color_palette(\"viridis\", n_colors = len(sorted_genres))\n",
    "sns.countplot(data = df_exploded, x = 'Genre', order = sorted_genres, palette = color_palette)\n",
    "plt.title('Distribution of Movie Genres')\n",
    "plt.xlabel('Genre')\n",
    "plt.ylabel('Count')\n",
    "plt.xticks(rotation=90)\n",
    "plt.show()"
   ]
  },
  {
   "cell_type": "markdown",
   "id": "70c2b0a3",
   "metadata": {},
   "source": [
    "The histogram plot visually represents the distribution of movie genres in the dataset. Each bar on the graph corresponds to a specific genre, with the x-axis indicating the genres and the y-axis representing the count or frequency of movies belonging to each genre. The histogram reveals that the drama genre has the highest count among the top movies, suggesting it is the most prevalent genre. On the other hand, the musical genre exhibits the lowest count, indicating that it is less represented among the top movies.This information provides insights into the popularity of specific genres among the top movies."
   ]
  },
  {
   "cell_type": "code",
   "execution_count": 33,
   "id": "51a7c77b",
   "metadata": {
    "scrolled": true
   },
   "outputs": [],
   "source": [
    "# 'Released_Year' column in descending order\n",
    "released_year_desc = df['Released_Year'].sort_values(ascending=False)"
   ]
  },
  {
   "cell_type": "code",
   "execution_count": 34,
   "id": "156f9e36",
   "metadata": {},
   "outputs": [
    {
     "data": {
      "text/plain": [
       "613    2020\n",
       "18     2020\n",
       "464    2020\n",
       "205    2020\n",
       "612    2020\n",
       "       ... \n",
       "193    1925\n",
       "194    1924\n",
       "568    1922\n",
       "127    1921\n",
       "321    1920\n",
       "Name: Released_Year, Length: 999, dtype: int32"
      ]
     },
     "execution_count": 34,
     "metadata": {},
     "output_type": "execute_result"
    }
   ],
   "source": [
    "released_year_desc"
   ]
  },
  {
   "cell_type": "markdown",
   "id": "b2eccc3a",
   "metadata": {},
   "source": [
    "Sort the 'Released_Year' column in order to identify the range of year that the movies being released."
   ]
  },
  {
   "cell_type": "code",
   "execution_count": 35,
   "id": "07c4a855",
   "metadata": {},
   "outputs": [
    {
     "data": {
      "image/png": "[encoded data removed]",
      "text/plain": [
       "<Figure size 1200x600 with 1 Axes>"
      ]
     },
     "metadata": {},
     "output_type": "display_data"
    }
   ],
   "source": [
    "# Histogram of Distribution of top movies released over the years\n",
    "plt.figure(figsize=(12, 6))\n",
    "plt.hist(df['Released_Year'], bins=range(1920, 2020), color='c', edgecolor='black', alpha=0.7)\n",
    "plt.title('Distribution of Top Movies Released Over the Years (1920-2020)')\n",
    "plt.xlabel('Released Year')\n",
    "plt.ylabel('Number of Movies')\n",
    "plt.grid(False)\n",
    "plt.show()"
   ]
  },
  {
   "cell_type": "markdown",
   "id": "8e397264",
   "metadata": {},
   "source": [
    "The histogram plot illustrates the distribution of top movies released over the years from 1920 to 2020. Each bar on the graph represents a specific year, with the x-axis denoting the released year and the y-axis representing the number of movies released. The histogram reveals a general increasing trend in the number of top movies released over the specified period, reaching its peak in 2020. This suggests a growth or surge in the production or recognition of noteworthy films in recent years, potentially influenced by evolving trends, technologies or audience preferences."
   ]
  },
  {
   "cell_type": "code",
   "execution_count": 36,
   "id": "6d3aa02e",
   "metadata": {},
   "outputs": [
    {
     "data": {
      "image/png": "[encoded data removed]",
      "text/plain": [
       "<Figure size 1500x800 with 1 Axes>"
      ]
     },
     "metadata": {},
     "output_type": "display_data"
    }
   ],
   "source": [
    "# Bar plot of movies certificate against gross\n",
    "plt.figure(figsize = (15, 8))\n",
    "sns.barplot(x = 'Certificate', y = 'Gross', color = 'darkorange', data = df, ci = False)\n",
    "plt.title('Movies Certificate vs Gross')\n",
    "plt.show()"
   ]
  },
  {
   "cell_type": "markdown",
   "id": "7d8d6df4",
   "metadata": {},
   "source": [
    "The histogram plot compares the gross earnings of movies across different certificates, displaying the relationship between movie certification ratings and their gross earning. The histogram emphasizes that movies with a 'UA' certificate tend to achieve the highest earnings. Conversely, movies labeled as 'Unrated' show the least earnings on average."
   ]
  },
  {
   "cell_type": "code",
   "execution_count": 37,
   "id": "930b7d4d",
   "metadata": {},
   "outputs": [
    {
     "data": {
      "image/png": "[encoded data removed]",
      "text/plain": [
       "<Figure size 640x480 with 1 Axes>"
      ]
     },
     "metadata": {},
     "output_type": "display_data"
    }
   ],
   "source": [
    "# Convert 'IMDB_Rating' column to the same scale as 'Meta_score'\n",
    "df['IMDB_Rating'] = df['IMDB_Rating'] * 10\n",
    "\n",
    "# Line plot of average audience and critic ratings of movies over the years\n",
    "plt.plot('IMDB_Rating',data = df.groupby('Released_Year')[['IMDB_Rating','Meta_score']].mean())\n",
    "plt.plot('Meta_score', data = df[df['Meta_score']!=0].groupby('Released_Year')[['IMDB_Rating','Meta_score']].mean())\n",
    "plt.title('Average Critic and Audience Ratings of Movies Over the Years')\n",
    "plt.xlabel('Released Year')\n",
    "plt.ylabel('Average Rating (0-100)')\n",
    "plt.legend()\n",
    "plt.show()"
   ]
  },
  {
   "cell_type": "markdown",
   "id": "ce77abf1",
   "metadata": {},
   "source": [
    "Metascore and IMDb rating are distinct metrics used to evaluate movies, reflecting the perspectives of professional critics and general audiences, respectively. Metascore aggregates reviews from reputable critics, providing a weighted average score on a scale of 0 to 100. It offers a critical consensus and categorizes movies into bands, such as Universal Acclaim or Generally Favorable Reviews. On the other hand, IMDb rating relies on user-generated scores ranging from 1 to 10, with each user's vote carrying equal weight. IMDb reflects the collective opinion of the general audience and while it lacks predefined categories, it offers a straightforward average of user scores. Filmmakers and viewers often consider both metrics to gain comprehensive insights into a movie's reception, considering the perspectives of both critics and the public.\n",
    "\n",
    "The line plot illustrating the average critic and audience ratings  of movies over the years. The output analysis indicates that over the years, there has been a decline in critic ratings, suggesting a general decrease in critical acclaim for movies. However, the plot reveals a trend in the 20th century, critic ratings began to rise again, potentially indicating a resurgence in critical appreciation for films during that period. On the other hand, audience ratings have remained relatively stable or experienced a positive trend over the years. The observed fluctuations in critic ratings may be indicative of changing critical standards or trends in the film industry, while the stability or improvement in audience ratings suggests consistent or growing appeal to moviegoers."
   ]
  },
  {
   "cell_type": "code",
   "execution_count": 38,
   "id": "af5c2412",
   "metadata": {},
   "outputs": [
    {
     "data": {
      "text/plain": [
       "Released_Year\n",
       "1930    152.0\n",
       "1965    151.5\n",
       "1970    143.0\n",
       "1956    140.8\n",
       "1996    137.2\n",
       "        ...  \n",
       "1932     78.5\n",
       "1920     76.0\n",
       "1921     68.0\n",
       "1926     67.0\n",
       "1924     45.0\n",
       "Name: Runtime, Length: 99, dtype: float64"
      ]
     },
     "execution_count": 38,
     "metadata": {},
     "output_type": "execute_result"
    }
   ],
   "source": [
    "# Calculate and sort the average runtime for each year\n",
    "average_runtime_by_year = df.groupby('Released_Year')['Runtime'].mean()\n",
    "\n",
    "sorted_runtime = average_runtime_by_year.sort_values(ascending=False)\n",
    "\n",
    "sorted_runtime"
   ]
  },
  {
   "cell_type": "code",
   "execution_count": 39,
   "id": "3ca075df",
   "metadata": {
    "scrolled": true
   },
   "outputs": [
    {
     "data": {
      "image/png": "[encoded data removed]",
      "text/plain": [
       "<Figure size 640x480 with 1 Axes>"
      ]
     },
     "metadata": {},
     "output_type": "display_data"
    }
   ],
   "source": [
    "df.groupby('Released_Year')['Runtime'].mean().plot(kind='line')\n",
    "plt.xlabel('Year')\n",
    "plt.ylabel('Average runtime (min)')\n",
    "plt.title('Average Movie Runtimes Over the Years')\n",
    "plt.show()"
   ]
  },
  {
   "cell_type": "markdown",
   "id": "9012a23a",
   "metadata": {},
   "source": [
    "The line plot illustrates the evolution of average movie runtimes over the years. In the early 1900s, films tended to have shorter runtimes, possibly reflecting the cinematic norms and storytelling styles of that era. However, as time progressed there was a notable increase in average runtimes, reaching a peak around 1965 with an average of 149 minutes. From the 1960s onwards, movies generally maintained a consistent average runtime in the range of 120-140 minutes."
   ]
  },
  {
   "cell_type": "markdown",
   "id": "ca895281",
   "metadata": {},
   "source": [
    "<h2 style = \"font-size:23px; font-family:Livvic ; font-weight : bold; background-color:  #023e8a; color :#FEF1FE ; text-align: center; border-radius: 5px 5px; padding: 5px\">Outliers</h2>"
   ]
  },
  {
   "cell_type": "markdown",
   "id": "b8955b94",
   "metadata": {},
   "source": [
    "Outliers are data points that significantly differ from the rest of the data in a dataset. In other words, they are unusually large or small compared to the majority of the data points in a dataset.\n",
    "\n",
    "Identifying and handling outliers is an important step in the data preprocessing and analysis process because they can have a significant impact on statistical measures and machine learning models. Common methods for detecting outliers include statistical measures such as the Interquartile Range (IQR) and visual methods such as box plots or scatter plots."
   ]
  },
  {
   "cell_type": "code",
   "execution_count": 40,
   "id": "88eaf9e6",
   "metadata": {},
   "outputs": [
    {
     "data": {
      "image/png": "[encoded data removed]",
      "text/plain": [
       "<Figure size 1200x800 with 5 Axes>"
      ]
     },
     "metadata": {},
     "output_type": "display_data"
    }
   ],
   "source": [
    "# Selected columns for boxplots\n",
    "columns = ['Runtime', 'IMDB_Rating', 'Meta_score', 'No_of_Votes', 'Gross']\n",
    "\n",
    "plt.figure(figsize = (12, 8))\n",
    "for column in columns:\n",
    "    plt.subplot(2, 3, columns.index(column) + 1)\n",
    "    sns.boxplot(x = df[column])\n",
    "    plt.title(f'Boxplot of {column}')\n",
    "\n",
    "plt.tight_layout()\n",
    "plt.show()"
   ]
  },
  {
   "cell_type": "markdown",
   "id": "233adb89",
   "metadata": {},
   "source": [
    "In a boxplot, the presence of outliers is identified by individual data points that fall outside the \"whiskers\" of the box. Outliers are data values that deviate significantly from the central tendency of the dataset. Visually inspecting each boxplot, one can observe points beyond the whiskers, indicating the existence of outliers in the 'Runtime', 'IMDB_Rating', 'Meta_score', 'No_of_Votes' and 'Gross' columns."
   ]
  },
  {
   "cell_type": "markdown",
   "id": "b36e57fc",
   "metadata": {},
   "source": [
    "There are four techniques for managing outliers:\n",
    "- Complete removal of outliers, which can help maintain a cleaner dataset but may result in the loss of potentially valuable information. \n",
    "\n",
    "- Treating outliers as missing values and applying data imputation techniques offers a way to retain the entire dataset, relying on methods to estimate missing values accurately.\n",
    "\n",
    "- Discretization which involves grouping continuous data into discrete intervals. By applying discretization to the dataset, outliers are incorporated into specific bins, allowing for a balance between outlier inclusion and managing their impact on statistical analyses.\n",
    "\n",
    "- Capping or censoring outliers involves replacing extreme values with predefined upper and lower limits. This method aims to mitigate the influence of outliers without entirely removing them from the dataset."
   ]
  },
  {
   "cell_type": "markdown",
   "id": "654a5894",
   "metadata": {},
   "source": [
    "In this analysis, the capping method which utilizes the lower and upper bounds based on the quartiles and the calculated IQR is used to handle outliers as it provides a practical way by maintaining a balance between outlier removal and preserving the overall distribution of the data."
   ]
  },
  {
   "cell_type": "code",
   "execution_count": 41,
   "id": "1efab9a4",
   "metadata": {},
   "outputs": [],
   "source": [
    "# Handle outliers across multiple columns using IQR method\n",
    "for column in columns:\n",
    "    \n",
    "    # Calculate IQR\n",
    "    IQR = df[column].quantile(0.75) - df[column].quantile(0.25)\n",
    "\n",
    "    # Define lower and upper bounds\n",
    "    lower_limit = df[column].quantile(0.25) - (IQR * 1.5)\n",
    "    upper_limit = df[column].quantile(0.75) + (IQR * 1.5)\n",
    "\n",
    "    # Replace outliers with the upper/lower limit\n",
    "    df[column] = np.where(df[column] > upper_limit, upper_limit, np.where(df[column] < lower_limit, lower_limit, df[column]))"
   ]
  },
  {
   "cell_type": "code",
   "execution_count": 42,
   "id": "ef40bde4",
   "metadata": {},
   "outputs": [
    {
     "data": {
      "image/png": "[encoded data removed]",
      "text/plain": [
       "<Figure size 1200x800 with 5 Axes>"
      ]
     },
     "metadata": {},
     "output_type": "display_data"
    }
   ],
   "source": [
    "# Boxplots after capping outliers\n",
    "columns = ['Runtime', 'IMDB_Rating', 'Meta_score', 'No_of_Votes', 'Gross']\n",
    "\n",
    "plt.figure(figsize=(12, 8))\n",
    "for column in columns:\n",
    "    plt.subplot(2, 3, columns.index(column) + 1)\n",
    "    sns.boxplot(x=df[column])\n",
    "    plt.title(f'Boxplot of {column}')\n",
    "\n",
    "plt.tight_layout()\n",
    "plt.show()"
   ]
  },
  {
   "cell_type": "markdown",
   "id": "1fb4b6f4",
   "metadata": {},
   "source": [
    "The modified boxplots after outlier capping provide a clearer and more accurate representation of the central tendency and variability in the dataset, as extreme values that could skew the interpretation are addressed."
   ]
  },
  {
   "cell_type": "markdown",
   "id": "59d591cf",
   "metadata": {},
   "source": [
    "<h2 style = \"font-size:23px; font-family:Livvic ; font-weight : bold; background-color:  #023e8a; color :#FEF1FE ; text-align: center; border-radius: 5px 5px; padding: 5px\">Data Discretization</h2>"
   ]
  },
  {
   "cell_type": "markdown",
   "id": "441dadaa",
   "metadata": {},
   "source": [
    "Data discretization is a process in data preprocessing that involves converting continuous data into discrete categories or bins. It involves dividing a range of continuous values into a set of intervals or bins and assigning data points to these bins based on their values. This transformation is often done to simplify the analysis, reduce noise or meet the requirements of certain algorithms that work better with categorical or discrete data.\n",
    "\n",
    "There are two main types of data discretization:\n",
    "\n",
    "1. **Equal-Width Discretization (Binning):**\n",
    "   - This method divides the range of values into equal-width intervals or bins. The width of each bin is the same, but the number of data points in each bin may vary.\n",
    "\n",
    "<br>\n",
    "\n",
    "2. **Equal-Frequency Discretization:**\n",
    "   - This method divides data points into intervals in such a way that each bin contains approximately the same number of data points. The width of the intervals may vary, but the goal is to ensure equal frequency in each bin."
   ]
  },
  {
   "cell_type": "code",
   "execution_count": 43,
   "id": "ad8707a9",
   "metadata": {
    "scrolled": true
   },
   "outputs": [
    {
     "data": {
      "text/html": [
       "<div>\n",
       "<style scoped>\n",
       "    .dataframe tbody tr th:only-of-type {\n",
       "        vertical-align: middle;\n",
       "    }\n",
       "\n",
       "    .dataframe tbody tr th {\n",
       "        vertical-align: top;\n",
       "    }\n",
       "\n",
       "    .dataframe thead th {\n",
       "        text-align: right;\n",
       "    }\n",
       "</style>\n",
       "<table border=\"1\" class=\"dataframe\">\n",
       "  <thead>\n",
       "    <tr style=\"text-align: right;\">\n",
       "      <th></th>\n",
       "      <th>Meta_score</th>\n",
       "      <th>Meta_score_Category</th>\n",
       "    </tr>\n",
       "  </thead>\n",
       "  <tbody>\n",
       "    <tr>\n",
       "      <th>0</th>\n",
       "      <td>80.0</td>\n",
       "      <td>Average</td>\n",
       "    </tr>\n",
       "    <tr>\n",
       "      <th>1</th>\n",
       "      <td>100.0</td>\n",
       "      <td>Positive</td>\n",
       "    </tr>\n",
       "    <tr>\n",
       "      <th>2</th>\n",
       "      <td>84.0</td>\n",
       "      <td>Average</td>\n",
       "    </tr>\n",
       "    <tr>\n",
       "      <th>3</th>\n",
       "      <td>90.0</td>\n",
       "      <td>Positive</td>\n",
       "    </tr>\n",
       "    <tr>\n",
       "      <th>4</th>\n",
       "      <td>96.0</td>\n",
       "      <td>Positive</td>\n",
       "    </tr>\n",
       "  </tbody>\n",
       "</table>\n",
       "</div>"
      ],
      "text/plain": [
       "   Meta_score Meta_score_Category\n",
       "0        80.0             Average\n",
       "1       100.0            Positive\n",
       "2        84.0             Average\n",
       "3        90.0            Positive\n",
       "4        96.0            Positive"
      ]
     },
     "execution_count": 43,
     "metadata": {},
     "output_type": "execute_result"
    }
   ],
   "source": [
    "# Define the bin edges and labels\n",
    "bin_edges = [0, 65, 85, 100]\n",
    "bin_labels = ['Negative', 'Average', 'Positive']\n",
    "\n",
    "# New column 'Meta_score_Category' with the assigned categories\n",
    "df['Meta_score_Category'] = pd.cut(df['Meta_score'], bins=bin_edges, labels=bin_labels, include_lowest=True)\n",
    "\n",
    "# Display the updated dataframe\n",
    "df[['Meta_score', 'Meta_score_Category']].head()"
   ]
  },
  {
   "cell_type": "code",
   "execution_count": 44,
   "id": "01d536d2",
   "metadata": {},
   "outputs": [
    {
     "data": {
      "image/png": "[encoded data removed]",
      "text/plain": [
       "<Figure size 800x500 with 1 Axes>"
      ]
     },
     "metadata": {},
     "output_type": "display_data"
    }
   ],
   "source": [
    "# Count of discretized data\n",
    "votes_counts = df['Meta_score_Category'].value_counts()\n",
    "\n",
    "# Sort the value counts in the desired order (Negative, Average, Positive)\n",
    "votes_counts = votes_counts.reindex(['Negative', 'Average', 'Positive'])\n",
    "\n",
    "# Histogram plot\n",
    "plt.figure(figsize=(8, 5))\n",
    "plt.bar(votes_counts.index, votes_counts, color='skyblue')\n",
    "plt.title('Distribution of Movies by Metascore Category')\n",
    "plt.xlabel('Metascore Category')\n",
    "plt.ylabel('Frequency')\n",
    "\n",
    "# Customize x-axis labels based on value counts\n",
    "for i, value in enumerate(votes_counts):\n",
    "    plt.text(i, value + 5, str(value), ha='center', va='bottom')\n",
    "\n",
    "plt.show()"
   ]
  },
  {
   "cell_type": "markdown",
   "id": "89fece7e",
   "metadata": {},
   "source": [
    "The data discretization to the 'Meta_score' column categorizing movie meta score into three distinct categories: 'Negative', 'Average' and 'Positive'. The histogram plot visually represents the distribution of movies across these score categories. In this specific case, there are 128 movies categorized as 'Negative' scores, 621 as 'Average' scores and 250 as 'Positive' scores. This information gives better understanding on patterns in movie meta score and can be informative for decision-making processes related to content creation.\n",
    "\n",
    "It is important to note that the Metascore is not the sole indicator of a movie or TV show's quality or enjoyment. Personal taste and preferences play a significant role in determining whether a particular film or show is enjoyable to an individual viewer. It is always a good idea to read individual reviews, consider the genre and subject matter and watch trailers or previews to form  own opinion."
   ]
  },
  {
   "cell_type": "markdown",
   "id": "77220c7b",
   "metadata": {},
   "source": [
    "<h2 style = \"font-size:23px; font-family:Livvic ; font-weight : bold; background-color:  #023e8a; color :#FEF1FE ; text-align: center; border-radius: 5px 5px; padding: 5px\">Summary</h2>"
   ]
  },
  {
   "cell_type": "markdown",
   "id": "8b647dcb",
   "metadata": {},
   "source": [
    "The analysis of the top 1000 movies on IMDb provides valuable insights for both filmmakers and audiences. Firstly, it highlights genre-specific insights among the top movies, enables a more targeted approach to content creation based on the popularity of particular genres among the audience. Besides, filmmakers also can leverage from movie release trends over the years to strategically plan their movie releases.\n",
    "\n",
    "The insight from financial success and certification could guide filmmakers in making certification decisions to enhance the commercial performance of their movies. Furthermore, from the analysis of average audience and critic ratings, filmmakers can adapt their content to align with changing perspectives and preferences, ensuring resonance with their target audiences.\n",
    "\n",
    "The analysis on average movie runtimes allows filmmakers to tailor their content to meet audience expectations regarding movie duration. The categorization of IMDb ratings offering insights into the distribution of ratings and factors influencing audience perceptions.\n",
    "\n",
    "Overall, these insights empower filmmakers and the film industry to make informed decisions regarding content creation, release strategiesand audience engagement. For audiences, the analysis offers a glimpse into the industry's dynamics and providing a better understanding of the patterns that shape the movies they consume."
   ]
  },
  {
   "cell_type": "markdown",
   "id": "e5fecb3c",
   "metadata": {},
   "source": [
    "[**<span style=\"color:#FEF1FE;background-color:#023e8a;border-radius: 5px;padding: 2px\">Go to Table of Content</span>**](#Content)\n",
    "\n",
    "<a id=\"3\"></a>\n",
    "<h2 style = \"font-size:27px; font-family:Montserrat ; font-weight : bold; background-color: #023e8a; color :#FEF1FE   ; text-align: center; border-radius: 5px 5px; padding: 7px\">3. Data Preparation</h2>"
   ]
  },
  {
   "cell_type": "markdown",
   "id": "f040912a",
   "metadata": {},
   "source": [
    "Data transformation is a crucial preprocessing step to ensure that the input data is suitable for the chosen machine learning algorithm, addressing issues related to scale, format, missing values and distribution characteristics. The choice of transformation techniques depends on the nature of the data and the requirements of the specific machine learning algorithm being used."
   ]
  },
  {
   "cell_type": "code",
   "execution_count": 45,
   "id": "68edc832",
   "metadata": {},
   "outputs": [],
   "source": [
    "# Import libraries\n",
    "from sklearn.preprocessing import MultiLabelBinarizer\n",
    "from imblearn.over_sampling import SMOTE\n",
    "from sklearn.model_selection import train_test_split\n",
    "from sklearn.preprocessing import StandardScaler\n",
    "from sklearn.preprocessing import LabelEncoder"
   ]
  },
  {
   "cell_type": "markdown",
   "id": "64de5832",
   "metadata": {},
   "source": [
    "<h2 style = \"font-size:23px; font-family:Livvic ; font-weight : bold; background-color:  #023e8a; color :#FEF1FE ; text-align: center; border-radius: 5px 5px; padding: 5px\">Target Variable</h2>"
   ]
  },
  {
   "cell_type": "markdown",
   "id": "efe3e6a4",
   "metadata": {},
   "source": [
    "The 'Meta_score_Category' column is used as the target variable for classification model. This categorical target variable represents the classification labels that the model aims to predict based on the given features in the dataset. The goal of the classification model is to learn patterns and relationships within the data to accurately classify movies into these predefined 'Meta_score_Category' classes. \n",
    "\n",
    "The Metascore on IMDb is a weighted average of the scores given by professional critics to a particular movie or TV show. It is calculated by Metacritic, a website that aggregates reviews from a variety of sources and assigns a numerical score to each one. The Metascore is a way to quickly get a sense of what the critical consensus is on a particular piece of media. It is based on a scale of 0-100, with higher scores indicating better reviews.\n",
    "\n",
    "The interpretation of a \"good\" Metascore for a movie or TV show can vary depending on individual preferences and expectations. However, generally speaking, a Metascore above 85 is often considered favorable and indicative of critical acclaim. This suggests that the majority of professional critics have given positive reviews to the film or TV show. Scores in the range of 65-84 are typically considered mixed or average, indicating a more mixed reception among critics. Scores below 65 generally suggest negative reviews or a lack of critical consensus. Hence, the target variable falls into 3 multiple classes:\n",
    "- 'Negative': Meta_score below 65\n",
    "- 'Average': Meta_score between 65 and 85\n",
    "- 'Positive': Meta_score 85 and above"
   ]
  },
  {
   "cell_type": "code",
   "execution_count": 46,
   "id": "a67d19e8",
   "metadata": {
    "scrolled": true
   },
   "outputs": [
    {
     "data": {
      "text/plain": [
       "Meta_score_Category\n",
       "Average     621\n",
       "Positive    250\n",
       "Negative    128\n",
       "Name: count, dtype: int64"
      ]
     },
     "execution_count": 46,
     "metadata": {},
     "output_type": "execute_result"
    }
   ],
   "source": [
    "# Count of each Metascore class\n",
    "df['Meta_score_Category'].value_counts()"
   ]
  },
  {
   "cell_type": "markdown",
   "id": "d5bd8c1a",
   "metadata": {},
   "source": [
    "<h2 style = \"font-size:23px; font-family:Livvic ; font-weight : bold; background-color:  #023e8a; color :#FEF1FE ; text-align: center; border-radius: 5px 5px; padding: 5px\">Encoding</h2>"
   ]
  },
  {
   "cell_type": "markdown",
   "id": "087032e1",
   "metadata": {},
   "source": [
    "Data encoding refers to the process of converting data from one form or format to another. In the context of machine learning and data analysis, data encoding typically involves transforming categorical or textual data into a numerical format that can be easily processed by machine learning algorithms.\n",
    "\n",
    "There are two types of data encoding that will be applied in this data preparation:\n",
    "\n",
    "1. **Label Encoding:**\n",
    "   - Dealing with nominal categorical labels, where there is a meaningful order among the categories.\n",
    "   - Each unique label is assigned a unique integer. This is often used when the categories have an ordinal relationship.\n",
    "   - For example, categories 'Low,' 'Medium,' and 'High,' converting to 0, 1 and 2, respectively.\n",
    "\n",
    "<br>\n",
    "\n",
    "2. **One-Hot Encoding:**\n",
    "   - Dealing with nominal categorical variables where there is no inherent order among the categories. One-hot encoding is also preferred when dealing with a large number of unique categories in a variable.\n",
    "   - Creates binary columns for each category and represents the presence or absence of that category with 1 or 0, false or true respectively.\n",
    "   - For example, converting [\"dog\", \"cat\", \"dog\"] to a one-hot encoded representation would be [[1, 0], [0, 1], [1, 0]]."
   ]
  },
  {
   "cell_type": "markdown",
   "id": "05196ae2",
   "metadata": {},
   "source": [
    "#### Label Encoding"
   ]
  },
  {
   "cell_type": "code",
   "execution_count": 47,
   "id": "c775ed61",
   "metadata": {},
   "outputs": [],
   "source": [
    "# Create a label encoder instance\n",
    "label_encoder = LabelEncoder()"
   ]
  },
  {
   "cell_type": "code",
   "execution_count": 48,
   "id": "b249fff4",
   "metadata": {},
   "outputs": [],
   "source": [
    "# Apply label encoding to the 'Meta_score_Category' column\n",
    "df['Meta_score_Label'] = label_encoder.fit_transform(df['Meta_score_Category'])"
   ]
  },
  {
   "cell_type": "code",
   "execution_count": 49,
   "id": "f944a069",
   "metadata": {
    "scrolled": true
   },
   "outputs": [
    {
     "data": {
      "text/html": [
       "<div>\n",
       "<style scoped>\n",
       "    .dataframe tbody tr th:only-of-type {\n",
       "        vertical-align: middle;\n",
       "    }\n",
       "\n",
       "    .dataframe tbody tr th {\n",
       "        vertical-align: top;\n",
       "    }\n",
       "\n",
       "    .dataframe thead th {\n",
       "        text-align: right;\n",
       "    }\n",
       "</style>\n",
       "<table border=\"1\" class=\"dataframe\">\n",
       "  <thead>\n",
       "    <tr style=\"text-align: right;\">\n",
       "      <th></th>\n",
       "      <th>Meta_score</th>\n",
       "      <th>Meta_score_Category</th>\n",
       "      <th>Meta_score_Label</th>\n",
       "    </tr>\n",
       "  </thead>\n",
       "  <tbody>\n",
       "    <tr>\n",
       "      <th>0</th>\n",
       "      <td>80.0</td>\n",
       "      <td>Average</td>\n",
       "      <td>0</td>\n",
       "    </tr>\n",
       "    <tr>\n",
       "      <th>1</th>\n",
       "      <td>100.0</td>\n",
       "      <td>Positive</td>\n",
       "      <td>2</td>\n",
       "    </tr>\n",
       "    <tr>\n",
       "      <th>2</th>\n",
       "      <td>84.0</td>\n",
       "      <td>Average</td>\n",
       "      <td>0</td>\n",
       "    </tr>\n",
       "    <tr>\n",
       "      <th>3</th>\n",
       "      <td>90.0</td>\n",
       "      <td>Positive</td>\n",
       "      <td>2</td>\n",
       "    </tr>\n",
       "    <tr>\n",
       "      <th>4</th>\n",
       "      <td>96.0</td>\n",
       "      <td>Positive</td>\n",
       "      <td>2</td>\n",
       "    </tr>\n",
       "  </tbody>\n",
       "</table>\n",
       "</div>"
      ],
      "text/plain": [
       "   Meta_score Meta_score_Category  Meta_score_Label\n",
       "0        80.0             Average                 0\n",
       "1       100.0            Positive                 2\n",
       "2        84.0             Average                 0\n",
       "3        90.0            Positive                 2\n",
       "4        96.0            Positive                 2"
      ]
     },
     "execution_count": 49,
     "metadata": {},
     "output_type": "execute_result"
    }
   ],
   "source": [
    "# Display the first few rows of the DataFrame with the encoded column\n",
    "df[['Meta_score', 'Meta_score_Category', 'Meta_score_Label']].head()"
   ]
  },
  {
   "cell_type": "markdown",
   "id": "a59b9aa9",
   "metadata": {},
   "source": [
    "#### One-Hot Encoding"
   ]
  },
  {
   "cell_type": "markdown",
   "id": "db97ef0b",
   "metadata": {},
   "source": [
    "Both pd.get_dummies and MultiLabelBinarizer from scikit-learn are used for one-hot encoding, but they have some differences in terms of use cases and functionalities.\n",
    "\n",
    "1. **pd.get_dummies:**\n",
    "   - Suitable for one-hot encoding categorical variables where each observation belongs to only one category (single-label).\n",
    "\n",
    "<br>\n",
    "\n",
    "2. **MultiLabelBinarizer:**\n",
    "    - Typically used when dealing with multilabel data where each observation can belong to multiple categories. Can handle situations where a sample has multiple labels across different categories."
   ]
  },
  {
   "cell_type": "code",
   "execution_count": 50,
   "id": "985e7e0d",
   "metadata": {},
   "outputs": [],
   "source": [
    "# A list of columns to be one-hot encoded\n",
    "columns = ['Certificate', 'Director', 'Star1', 'Star2', 'Star3', 'Star4']\n",
    "\n",
    "# One-hot encode the specified columns\n",
    "df = pd.get_dummies(df, columns=columns)"
   ]
  },
  {
   "cell_type": "markdown",
   "id": "4d0927b7",
   "metadata": {},
   "source": [
    "One-hot encode of pd.getdummies is used as each observation belong to only one category in each of these columns and there is no multilabel scenario."
   ]
  },
  {
   "cell_type": "code",
   "execution_count": 51,
   "id": "fa98d184",
   "metadata": {},
   "outputs": [
    {
     "data": {
      "text/html": [
       "<div>\n",
       "<style scoped>\n",
       "    .dataframe tbody tr th:only-of-type {\n",
       "        vertical-align: middle;\n",
       "    }\n",
       "\n",
       "    .dataframe tbody tr th {\n",
       "        vertical-align: top;\n",
       "    }\n",
       "\n",
       "    .dataframe thead th {\n",
       "        text-align: right;\n",
       "    }\n",
       "</style>\n",
       "<table border=\"1\" class=\"dataframe\">\n",
       "  <thead>\n",
       "    <tr style=\"text-align: right;\">\n",
       "      <th></th>\n",
       "      <th>Released_Year</th>\n",
       "      <th>Runtime</th>\n",
       "      <th>Genre</th>\n",
       "      <th>IMDB_Rating</th>\n",
       "      <th>Meta_score</th>\n",
       "      <th>No_of_Votes</th>\n",
       "      <th>Gross</th>\n",
       "      <th>Meta_score_Category</th>\n",
       "      <th>Meta_score_Label</th>\n",
       "      <th>Certificate_16</th>\n",
       "      <th>...</th>\n",
       "      <th>Star4_Yûnosuke Itô</th>\n",
       "      <th>Star4_Zac Mattoon O'Brien</th>\n",
       "      <th>Star4_Zach Grenier</th>\n",
       "      <th>Star4_Zarah Jane McKenzie</th>\n",
       "      <th>Star4_Zeppo Marx</th>\n",
       "      <th>Star4_Ziyi Zhang</th>\n",
       "      <th>Star4_Zoe Saldana</th>\n",
       "      <th>Star4_Zoë Kravitz</th>\n",
       "      <th>Star4_Álvaro Guerrero</th>\n",
       "      <th>Star4_Émile Vallée</th>\n",
       "    </tr>\n",
       "  </thead>\n",
       "  <tbody>\n",
       "    <tr>\n",
       "      <th>0</th>\n",
       "      <td>1994</td>\n",
       "      <td>142.0</td>\n",
       "      <td>[Drama]</td>\n",
       "      <td>87.0</td>\n",
       "      <td>80.0</td>\n",
       "      <td>852986.5</td>\n",
       "      <td>2.834147e+07</td>\n",
       "      <td>Average</td>\n",
       "      <td>0</td>\n",
       "      <td>False</td>\n",
       "      <td>...</td>\n",
       "      <td>False</td>\n",
       "      <td>False</td>\n",
       "      <td>False</td>\n",
       "      <td>False</td>\n",
       "      <td>False</td>\n",
       "      <td>False</td>\n",
       "      <td>False</td>\n",
       "      <td>False</td>\n",
       "      <td>False</td>\n",
       "      <td>False</td>\n",
       "    </tr>\n",
       "    <tr>\n",
       "      <th>1</th>\n",
       "      <td>1972</td>\n",
       "      <td>175.0</td>\n",
       "      <td>[Crime, Drama]</td>\n",
       "      <td>87.0</td>\n",
       "      <td>100.0</td>\n",
       "      <td>852986.5</td>\n",
       "      <td>1.349664e+08</td>\n",
       "      <td>Positive</td>\n",
       "      <td>2</td>\n",
       "      <td>False</td>\n",
       "      <td>...</td>\n",
       "      <td>False</td>\n",
       "      <td>False</td>\n",
       "      <td>False</td>\n",
       "      <td>False</td>\n",
       "      <td>False</td>\n",
       "      <td>False</td>\n",
       "      <td>False</td>\n",
       "      <td>False</td>\n",
       "      <td>False</td>\n",
       "      <td>False</td>\n",
       "    </tr>\n",
       "    <tr>\n",
       "      <th>2</th>\n",
       "      <td>2008</td>\n",
       "      <td>152.0</td>\n",
       "      <td>[Action, Crime, Drama]</td>\n",
       "      <td>87.0</td>\n",
       "      <td>84.0</td>\n",
       "      <td>852986.5</td>\n",
       "      <td>1.459574e+08</td>\n",
       "      <td>Average</td>\n",
       "      <td>0</td>\n",
       "      <td>False</td>\n",
       "      <td>...</td>\n",
       "      <td>False</td>\n",
       "      <td>False</td>\n",
       "      <td>False</td>\n",
       "      <td>False</td>\n",
       "      <td>False</td>\n",
       "      <td>False</td>\n",
       "      <td>False</td>\n",
       "      <td>False</td>\n",
       "      <td>False</td>\n",
       "      <td>False</td>\n",
       "    </tr>\n",
       "    <tr>\n",
       "      <th>3</th>\n",
       "      <td>1974</td>\n",
       "      <td>188.0</td>\n",
       "      <td>[Crime, Drama]</td>\n",
       "      <td>87.0</td>\n",
       "      <td>90.0</td>\n",
       "      <td>852986.5</td>\n",
       "      <td>5.730000e+07</td>\n",
       "      <td>Positive</td>\n",
       "      <td>2</td>\n",
       "      <td>False</td>\n",
       "      <td>...</td>\n",
       "      <td>False</td>\n",
       "      <td>False</td>\n",
       "      <td>False</td>\n",
       "      <td>False</td>\n",
       "      <td>False</td>\n",
       "      <td>False</td>\n",
       "      <td>False</td>\n",
       "      <td>False</td>\n",
       "      <td>False</td>\n",
       "      <td>False</td>\n",
       "    </tr>\n",
       "    <tr>\n",
       "      <th>4</th>\n",
       "      <td>1957</td>\n",
       "      <td>96.0</td>\n",
       "      <td>[Crime, Drama]</td>\n",
       "      <td>87.0</td>\n",
       "      <td>96.0</td>\n",
       "      <td>689845.0</td>\n",
       "      <td>4.360000e+06</td>\n",
       "      <td>Positive</td>\n",
       "      <td>2</td>\n",
       "      <td>False</td>\n",
       "      <td>...</td>\n",
       "      <td>False</td>\n",
       "      <td>False</td>\n",
       "      <td>False</td>\n",
       "      <td>False</td>\n",
       "      <td>False</td>\n",
       "      <td>False</td>\n",
       "      <td>False</td>\n",
       "      <td>False</td>\n",
       "      <td>False</td>\n",
       "      <td>False</td>\n",
       "    </tr>\n",
       "    <tr>\n",
       "      <th>...</th>\n",
       "      <td>...</td>\n",
       "      <td>...</td>\n",
       "      <td>...</td>\n",
       "      <td>...</td>\n",
       "      <td>...</td>\n",
       "      <td>...</td>\n",
       "      <td>...</td>\n",
       "      <td>...</td>\n",
       "      <td>...</td>\n",
       "      <td>...</td>\n",
       "      <td>...</td>\n",
       "      <td>...</td>\n",
       "      <td>...</td>\n",
       "      <td>...</td>\n",
       "      <td>...</td>\n",
       "      <td>...</td>\n",
       "      <td>...</td>\n",
       "      <td>...</td>\n",
       "      <td>...</td>\n",
       "      <td>...</td>\n",
       "      <td>...</td>\n",
       "    </tr>\n",
       "    <tr>\n",
       "      <th>995</th>\n",
       "      <td>1961</td>\n",
       "      <td>115.0</td>\n",
       "      <td>[Comedy, Drama, Romance]</td>\n",
       "      <td>76.0</td>\n",
       "      <td>76.0</td>\n",
       "      <td>166544.0</td>\n",
       "      <td>5.653688e+07</td>\n",
       "      <td>Average</td>\n",
       "      <td>0</td>\n",
       "      <td>False</td>\n",
       "      <td>...</td>\n",
       "      <td>False</td>\n",
       "      <td>False</td>\n",
       "      <td>False</td>\n",
       "      <td>False</td>\n",
       "      <td>False</td>\n",
       "      <td>False</td>\n",
       "      <td>False</td>\n",
       "      <td>False</td>\n",
       "      <td>False</td>\n",
       "      <td>False</td>\n",
       "    </tr>\n",
       "    <tr>\n",
       "      <th>996</th>\n",
       "      <td>1956</td>\n",
       "      <td>188.0</td>\n",
       "      <td>[Drama, Western]</td>\n",
       "      <td>76.0</td>\n",
       "      <td>84.0</td>\n",
       "      <td>34075.0</td>\n",
       "      <td>5.653688e+07</td>\n",
       "      <td>Average</td>\n",
       "      <td>0</td>\n",
       "      <td>False</td>\n",
       "      <td>...</td>\n",
       "      <td>False</td>\n",
       "      <td>False</td>\n",
       "      <td>False</td>\n",
       "      <td>False</td>\n",
       "      <td>False</td>\n",
       "      <td>False</td>\n",
       "      <td>False</td>\n",
       "      <td>False</td>\n",
       "      <td>False</td>\n",
       "      <td>False</td>\n",
       "    </tr>\n",
       "    <tr>\n",
       "      <th>997</th>\n",
       "      <td>1953</td>\n",
       "      <td>118.0</td>\n",
       "      <td>[Drama, Romance, War]</td>\n",
       "      <td>76.0</td>\n",
       "      <td>85.0</td>\n",
       "      <td>43374.0</td>\n",
       "      <td>3.050000e+07</td>\n",
       "      <td>Average</td>\n",
       "      <td>0</td>\n",
       "      <td>False</td>\n",
       "      <td>...</td>\n",
       "      <td>False</td>\n",
       "      <td>False</td>\n",
       "      <td>False</td>\n",
       "      <td>False</td>\n",
       "      <td>False</td>\n",
       "      <td>False</td>\n",
       "      <td>False</td>\n",
       "      <td>False</td>\n",
       "      <td>False</td>\n",
       "      <td>False</td>\n",
       "    </tr>\n",
       "    <tr>\n",
       "      <th>998</th>\n",
       "      <td>1944</td>\n",
       "      <td>97.0</td>\n",
       "      <td>[Drama, War]</td>\n",
       "      <td>76.0</td>\n",
       "      <td>78.0</td>\n",
       "      <td>26471.0</td>\n",
       "      <td>5.653688e+07</td>\n",
       "      <td>Average</td>\n",
       "      <td>0</td>\n",
       "      <td>False</td>\n",
       "      <td>...</td>\n",
       "      <td>False</td>\n",
       "      <td>False</td>\n",
       "      <td>False</td>\n",
       "      <td>False</td>\n",
       "      <td>False</td>\n",
       "      <td>False</td>\n",
       "      <td>False</td>\n",
       "      <td>False</td>\n",
       "      <td>False</td>\n",
       "      <td>False</td>\n",
       "    </tr>\n",
       "    <tr>\n",
       "      <th>999</th>\n",
       "      <td>1935</td>\n",
       "      <td>86.0</td>\n",
       "      <td>[Crime, Mystery, Thriller]</td>\n",
       "      <td>76.0</td>\n",
       "      <td>93.0</td>\n",
       "      <td>51853.0</td>\n",
       "      <td>5.653688e+07</td>\n",
       "      <td>Positive</td>\n",
       "      <td>2</td>\n",
       "      <td>False</td>\n",
       "      <td>...</td>\n",
       "      <td>False</td>\n",
       "      <td>False</td>\n",
       "      <td>False</td>\n",
       "      <td>False</td>\n",
       "      <td>False</td>\n",
       "      <td>False</td>\n",
       "      <td>False</td>\n",
       "      <td>False</td>\n",
       "      <td>False</td>\n",
       "      <td>False</td>\n",
       "    </tr>\n",
       "  </tbody>\n",
       "</table>\n",
       "<p>999 rows × 3902 columns</p>\n",
       "</div>"
      ],
      "text/plain": [
       "     Released_Year  Runtime                       Genre  IMDB_Rating  \\\n",
       "0             1994    142.0                     [Drama]         87.0   \n",
       "1             1972    175.0              [Crime, Drama]         87.0   \n",
       "2             2008    152.0      [Action, Crime, Drama]         87.0   \n",
       "3             1974    188.0              [Crime, Drama]         87.0   \n",
       "4             1957     96.0              [Crime, Drama]         87.0   \n",
       "..             ...      ...                         ...          ...   \n",
       "995           1961    115.0    [Comedy, Drama, Romance]         76.0   \n",
       "996           1956    188.0            [Drama, Western]         76.0   \n",
       "997           1953    118.0       [Drama, Romance, War]         76.0   \n",
       "998           1944     97.0                [Drama, War]         76.0   \n",
       "999           1935     86.0  [Crime, Mystery, Thriller]         76.0   \n",
       "\n",
       "     Meta_score  No_of_Votes         Gross Meta_score_Category  \\\n",
       "0          80.0     852986.5  2.834147e+07             Average   \n",
       "1         100.0     852986.5  1.349664e+08            Positive   \n",
       "2          84.0     852986.5  1.459574e+08             Average   \n",
       "3          90.0     852986.5  5.730000e+07            Positive   \n",
       "4          96.0     689845.0  4.360000e+06            Positive   \n",
       "..          ...          ...           ...                 ...   \n",
       "995        76.0     166544.0  5.653688e+07             Average   \n",
       "996        84.0      34075.0  5.653688e+07             Average   \n",
       "997        85.0      43374.0  3.050000e+07             Average   \n",
       "998        78.0      26471.0  5.653688e+07             Average   \n",
       "999        93.0      51853.0  5.653688e+07            Positive   \n",
       "\n",
       "     Meta_score_Label  Certificate_16  ...  Star4_Yûnosuke Itô  \\\n",
       "0                   0           False  ...               False   \n",
       "1                   2           False  ...               False   \n",
       "2                   0           False  ...               False   \n",
       "3                   2           False  ...               False   \n",
       "4                   2           False  ...               False   \n",
       "..                ...             ...  ...                 ...   \n",
       "995                 0           False  ...               False   \n",
       "996                 0           False  ...               False   \n",
       "997                 0           False  ...               False   \n",
       "998                 0           False  ...               False   \n",
       "999                 2           False  ...               False   \n",
       "\n",
       "     Star4_Zac Mattoon O'Brien  Star4_Zach Grenier  Star4_Zarah Jane McKenzie  \\\n",
       "0                        False               False                      False   \n",
       "1                        False               False                      False   \n",
       "2                        False               False                      False   \n",
       "3                        False               False                      False   \n",
       "4                        False               False                      False   \n",
       "..                         ...                 ...                        ...   \n",
       "995                      False               False                      False   \n",
       "996                      False               False                      False   \n",
       "997                      False               False                      False   \n",
       "998                      False               False                      False   \n",
       "999                      False               False                      False   \n",
       "\n",
       "     Star4_Zeppo Marx  Star4_Ziyi Zhang  Star4_Zoe Saldana  Star4_Zoë Kravitz  \\\n",
       "0               False             False              False              False   \n",
       "1               False             False              False              False   \n",
       "2               False             False              False              False   \n",
       "3               False             False              False              False   \n",
       "4               False             False              False              False   \n",
       "..                ...               ...                ...                ...   \n",
       "995             False             False              False              False   \n",
       "996             False             False              False              False   \n",
       "997             False             False              False              False   \n",
       "998             False             False              False              False   \n",
       "999             False             False              False              False   \n",
       "\n",
       "     Star4_Álvaro Guerrero  Star4_Émile Vallée  \n",
       "0                    False               False  \n",
       "1                    False               False  \n",
       "2                    False               False  \n",
       "3                    False               False  \n",
       "4                    False               False  \n",
       "..                     ...                 ...  \n",
       "995                  False               False  \n",
       "996                  False               False  \n",
       "997                  False               False  \n",
       "998                  False               False  \n",
       "999                  False               False  \n",
       "\n",
       "[999 rows x 3902 columns]"
      ]
     },
     "execution_count": 51,
     "metadata": {},
     "output_type": "execute_result"
    }
   ],
   "source": [
    "df"
   ]
  },
  {
   "cell_type": "markdown",
   "id": "e69185b9",
   "metadata": {},
   "source": [
    "The 'Genre' column contains lists of genres associated with each movie, in the other word each movie can belong to multiple genres. Hence, MultiLabelBinarizer is used to one-hot encode these genres into binary columns, indicating the presence or absence of each genre for each movie."
   ]
  },
  {
   "cell_type": "code",
   "execution_count": 52,
   "id": "c0810f96",
   "metadata": {},
   "outputs": [],
   "source": [
    "# Initialize MultiLabelBinarizer\n",
    "mlb = MultiLabelBinarizer()"
   ]
  },
  {
   "cell_type": "markdown",
   "id": "1fc1b4d3",
   "metadata": {},
   "source": [
    "MultiLabelBinarizer is a utility class in scikit-learn used for transforming a list of lists or an iterable of sets into a binary format suitable for machine learning tasks. It is particularly useful when dealing with multi-label classification problems."
   ]
  },
  {
   "cell_type": "code",
   "execution_count": 53,
   "id": "c0a91db8",
   "metadata": {},
   "outputs": [],
   "source": [
    "# Convert the one-hot encoded array to a dataframe\n",
    "genre_encoded = pd.DataFrame(mlb.fit_transform(df['Genre']), columns=mlb.classes_, index = df.index)"
   ]
  },
  {
   "cell_type": "markdown",
   "id": "bd783a8f",
   "metadata": {},
   "source": [
    "In this case, 'Genre' column is being transformed into into a binary format (one-hot encoded array),  where each genre becomes a binary feature indicating its presence or absence for each movie. This encoded data is in a format that compatible with machine learning models, allowing the models to effectively learn from and make predictions on datasets containing categorical information."
   ]
  },
  {
   "cell_type": "code",
   "execution_count": 54,
   "id": "cefd811d",
   "metadata": {},
   "outputs": [
    {
     "data": {
      "text/html": [
       "<div>\n",
       "<style scoped>\n",
       "    .dataframe tbody tr th:only-of-type {\n",
       "        vertical-align: middle;\n",
       "    }\n",
       "\n",
       "    .dataframe tbody tr th {\n",
       "        vertical-align: top;\n",
       "    }\n",
       "\n",
       "    .dataframe thead th {\n",
       "        text-align: right;\n",
       "    }\n",
       "</style>\n",
       "<table border=\"1\" class=\"dataframe\">\n",
       "  <thead>\n",
       "    <tr style=\"text-align: right;\">\n",
       "      <th></th>\n",
       "      <th>Action</th>\n",
       "      <th>Adventure</th>\n",
       "      <th>Animation</th>\n",
       "      <th>Biography</th>\n",
       "      <th>Comedy</th>\n",
       "      <th>Crime</th>\n",
       "      <th>Drama</th>\n",
       "      <th>Family</th>\n",
       "      <th>Fantasy</th>\n",
       "      <th>Film-Noir</th>\n",
       "      <th>...</th>\n",
       "      <th>Horror</th>\n",
       "      <th>Music</th>\n",
       "      <th>Musical</th>\n",
       "      <th>Mystery</th>\n",
       "      <th>Romance</th>\n",
       "      <th>Sci-Fi</th>\n",
       "      <th>Sport</th>\n",
       "      <th>Thriller</th>\n",
       "      <th>War</th>\n",
       "      <th>Western</th>\n",
       "    </tr>\n",
       "  </thead>\n",
       "  <tbody>\n",
       "    <tr>\n",
       "      <th>0</th>\n",
       "      <td>0</td>\n",
       "      <td>0</td>\n",
       "      <td>0</td>\n",
       "      <td>0</td>\n",
       "      <td>0</td>\n",
       "      <td>0</td>\n",
       "      <td>1</td>\n",
       "      <td>0</td>\n",
       "      <td>0</td>\n",
       "      <td>0</td>\n",
       "      <td>...</td>\n",
       "      <td>0</td>\n",
       "      <td>0</td>\n",
       "      <td>0</td>\n",
       "      <td>0</td>\n",
       "      <td>0</td>\n",
       "      <td>0</td>\n",
       "      <td>0</td>\n",
       "      <td>0</td>\n",
       "      <td>0</td>\n",
       "      <td>0</td>\n",
       "    </tr>\n",
       "    <tr>\n",
       "      <th>1</th>\n",
       "      <td>0</td>\n",
       "      <td>0</td>\n",
       "      <td>0</td>\n",
       "      <td>0</td>\n",
       "      <td>0</td>\n",
       "      <td>1</td>\n",
       "      <td>1</td>\n",
       "      <td>0</td>\n",
       "      <td>0</td>\n",
       "      <td>0</td>\n",
       "      <td>...</td>\n",
       "      <td>0</td>\n",
       "      <td>0</td>\n",
       "      <td>0</td>\n",
       "      <td>0</td>\n",
       "      <td>0</td>\n",
       "      <td>0</td>\n",
       "      <td>0</td>\n",
       "      <td>0</td>\n",
       "      <td>0</td>\n",
       "      <td>0</td>\n",
       "    </tr>\n",
       "    <tr>\n",
       "      <th>2</th>\n",
       "      <td>1</td>\n",
       "      <td>0</td>\n",
       "      <td>0</td>\n",
       "      <td>0</td>\n",
       "      <td>0</td>\n",
       "      <td>1</td>\n",
       "      <td>1</td>\n",
       "      <td>0</td>\n",
       "      <td>0</td>\n",
       "      <td>0</td>\n",
       "      <td>...</td>\n",
       "      <td>0</td>\n",
       "      <td>0</td>\n",
       "      <td>0</td>\n",
       "      <td>0</td>\n",
       "      <td>0</td>\n",
       "      <td>0</td>\n",
       "      <td>0</td>\n",
       "      <td>0</td>\n",
       "      <td>0</td>\n",
       "      <td>0</td>\n",
       "    </tr>\n",
       "    <tr>\n",
       "      <th>3</th>\n",
       "      <td>0</td>\n",
       "      <td>0</td>\n",
       "      <td>0</td>\n",
       "      <td>0</td>\n",
       "      <td>0</td>\n",
       "      <td>1</td>\n",
       "      <td>1</td>\n",
       "      <td>0</td>\n",
       "      <td>0</td>\n",
       "      <td>0</td>\n",
       "      <td>...</td>\n",
       "      <td>0</td>\n",
       "      <td>0</td>\n",
       "      <td>0</td>\n",
       "      <td>0</td>\n",
       "      <td>0</td>\n",
       "      <td>0</td>\n",
       "      <td>0</td>\n",
       "      <td>0</td>\n",
       "      <td>0</td>\n",
       "      <td>0</td>\n",
       "    </tr>\n",
       "    <tr>\n",
       "      <th>4</th>\n",
       "      <td>0</td>\n",
       "      <td>0</td>\n",
       "      <td>0</td>\n",
       "      <td>0</td>\n",
       "      <td>0</td>\n",
       "      <td>1</td>\n",
       "      <td>1</td>\n",
       "      <td>0</td>\n",
       "      <td>0</td>\n",
       "      <td>0</td>\n",
       "      <td>...</td>\n",
       "      <td>0</td>\n",
       "      <td>0</td>\n",
       "      <td>0</td>\n",
       "      <td>0</td>\n",
       "      <td>0</td>\n",
       "      <td>0</td>\n",
       "      <td>0</td>\n",
       "      <td>0</td>\n",
       "      <td>0</td>\n",
       "      <td>0</td>\n",
       "    </tr>\n",
       "    <tr>\n",
       "      <th>...</th>\n",
       "      <td>...</td>\n",
       "      <td>...</td>\n",
       "      <td>...</td>\n",
       "      <td>...</td>\n",
       "      <td>...</td>\n",
       "      <td>...</td>\n",
       "      <td>...</td>\n",
       "      <td>...</td>\n",
       "      <td>...</td>\n",
       "      <td>...</td>\n",
       "      <td>...</td>\n",
       "      <td>...</td>\n",
       "      <td>...</td>\n",
       "      <td>...</td>\n",
       "      <td>...</td>\n",
       "      <td>...</td>\n",
       "      <td>...</td>\n",
       "      <td>...</td>\n",
       "      <td>...</td>\n",
       "      <td>...</td>\n",
       "      <td>...</td>\n",
       "    </tr>\n",
       "    <tr>\n",
       "      <th>995</th>\n",
       "      <td>0</td>\n",
       "      <td>0</td>\n",
       "      <td>0</td>\n",
       "      <td>0</td>\n",
       "      <td>1</td>\n",
       "      <td>0</td>\n",
       "      <td>1</td>\n",
       "      <td>0</td>\n",
       "      <td>0</td>\n",
       "      <td>0</td>\n",
       "      <td>...</td>\n",
       "      <td>0</td>\n",
       "      <td>0</td>\n",
       "      <td>0</td>\n",
       "      <td>0</td>\n",
       "      <td>1</td>\n",
       "      <td>0</td>\n",
       "      <td>0</td>\n",
       "      <td>0</td>\n",
       "      <td>0</td>\n",
       "      <td>0</td>\n",
       "    </tr>\n",
       "    <tr>\n",
       "      <th>996</th>\n",
       "      <td>0</td>\n",
       "      <td>0</td>\n",
       "      <td>0</td>\n",
       "      <td>0</td>\n",
       "      <td>0</td>\n",
       "      <td>0</td>\n",
       "      <td>1</td>\n",
       "      <td>0</td>\n",
       "      <td>0</td>\n",
       "      <td>0</td>\n",
       "      <td>...</td>\n",
       "      <td>0</td>\n",
       "      <td>0</td>\n",
       "      <td>0</td>\n",
       "      <td>0</td>\n",
       "      <td>0</td>\n",
       "      <td>0</td>\n",
       "      <td>0</td>\n",
       "      <td>0</td>\n",
       "      <td>0</td>\n",
       "      <td>1</td>\n",
       "    </tr>\n",
       "    <tr>\n",
       "      <th>997</th>\n",
       "      <td>0</td>\n",
       "      <td>0</td>\n",
       "      <td>0</td>\n",
       "      <td>0</td>\n",
       "      <td>0</td>\n",
       "      <td>0</td>\n",
       "      <td>1</td>\n",
       "      <td>0</td>\n",
       "      <td>0</td>\n",
       "      <td>0</td>\n",
       "      <td>...</td>\n",
       "      <td>0</td>\n",
       "      <td>0</td>\n",
       "      <td>0</td>\n",
       "      <td>0</td>\n",
       "      <td>1</td>\n",
       "      <td>0</td>\n",
       "      <td>0</td>\n",
       "      <td>0</td>\n",
       "      <td>1</td>\n",
       "      <td>0</td>\n",
       "    </tr>\n",
       "    <tr>\n",
       "      <th>998</th>\n",
       "      <td>0</td>\n",
       "      <td>0</td>\n",
       "      <td>0</td>\n",
       "      <td>0</td>\n",
       "      <td>0</td>\n",
       "      <td>0</td>\n",
       "      <td>1</td>\n",
       "      <td>0</td>\n",
       "      <td>0</td>\n",
       "      <td>0</td>\n",
       "      <td>...</td>\n",
       "      <td>0</td>\n",
       "      <td>0</td>\n",
       "      <td>0</td>\n",
       "      <td>0</td>\n",
       "      <td>0</td>\n",
       "      <td>0</td>\n",
       "      <td>0</td>\n",
       "      <td>0</td>\n",
       "      <td>1</td>\n",
       "      <td>0</td>\n",
       "    </tr>\n",
       "    <tr>\n",
       "      <th>999</th>\n",
       "      <td>0</td>\n",
       "      <td>0</td>\n",
       "      <td>0</td>\n",
       "      <td>0</td>\n",
       "      <td>0</td>\n",
       "      <td>1</td>\n",
       "      <td>0</td>\n",
       "      <td>0</td>\n",
       "      <td>0</td>\n",
       "      <td>0</td>\n",
       "      <td>...</td>\n",
       "      <td>0</td>\n",
       "      <td>0</td>\n",
       "      <td>0</td>\n",
       "      <td>1</td>\n",
       "      <td>0</td>\n",
       "      <td>0</td>\n",
       "      <td>0</td>\n",
       "      <td>1</td>\n",
       "      <td>0</td>\n",
       "      <td>0</td>\n",
       "    </tr>\n",
       "  </tbody>\n",
       "</table>\n",
       "<p>999 rows × 21 columns</p>\n",
       "</div>"
      ],
      "text/plain": [
       "     Action  Adventure  Animation  Biography  Comedy  Crime  Drama  Family  \\\n",
       "0         0          0          0          0       0      0      1       0   \n",
       "1         0          0          0          0       0      1      1       0   \n",
       "2         1          0          0          0       0      1      1       0   \n",
       "3         0          0          0          0       0      1      1       0   \n",
       "4         0          0          0          0       0      1      1       0   \n",
       "..      ...        ...        ...        ...     ...    ...    ...     ...   \n",
       "995       0          0          0          0       1      0      1       0   \n",
       "996       0          0          0          0       0      0      1       0   \n",
       "997       0          0          0          0       0      0      1       0   \n",
       "998       0          0          0          0       0      0      1       0   \n",
       "999       0          0          0          0       0      1      0       0   \n",
       "\n",
       "     Fantasy  Film-Noir  ...  Horror  Music  Musical  Mystery  Romance  \\\n",
       "0          0          0  ...       0      0        0        0        0   \n",
       "1          0          0  ...       0      0        0        0        0   \n",
       "2          0          0  ...       0      0        0        0        0   \n",
       "3          0          0  ...       0      0        0        0        0   \n",
       "4          0          0  ...       0      0        0        0        0   \n",
       "..       ...        ...  ...     ...    ...      ...      ...      ...   \n",
       "995        0          0  ...       0      0        0        0        1   \n",
       "996        0          0  ...       0      0        0        0        0   \n",
       "997        0          0  ...       0      0        0        0        1   \n",
       "998        0          0  ...       0      0        0        0        0   \n",
       "999        0          0  ...       0      0        0        1        0   \n",
       "\n",
       "     Sci-Fi  Sport  Thriller  War  Western  \n",
       "0         0      0         0    0        0  \n",
       "1         0      0         0    0        0  \n",
       "2         0      0         0    0        0  \n",
       "3         0      0         0    0        0  \n",
       "4         0      0         0    0        0  \n",
       "..      ...    ...       ...  ...      ...  \n",
       "995       0      0         0    0        0  \n",
       "996       0      0         0    0        1  \n",
       "997       0      0         0    1        0  \n",
       "998       0      0         0    1        0  \n",
       "999       0      0         1    0        0  \n",
       "\n",
       "[999 rows x 21 columns]"
      ]
     },
     "execution_count": 54,
     "metadata": {},
     "output_type": "execute_result"
    }
   ],
   "source": [
    "genre_encoded"
   ]
  },
  {
   "cell_type": "markdown",
   "id": "636d8d64",
   "metadata": {},
   "source": [
    "This indicates a new dataframe (df_encoded) with binary columns for each unique genre using one-hot encoding. The resulting dataframe will have 0s and 1s indicating the presence or absence of each genre for each movie."
   ]
  },
  {
   "cell_type": "code",
   "execution_count": 55,
   "id": "677a0d5d",
   "metadata": {},
   "outputs": [],
   "source": [
    "# Concatenate the original dataframe (df) and the genre_encoded dataframe along the columns axis\n",
    "df = pd.concat([df, genre_encoded], axis=1)"
   ]
  },
  {
   "cell_type": "code",
   "execution_count": 56,
   "id": "3621f2ea",
   "metadata": {},
   "outputs": [],
   "source": [
    "# Drop the original column\n",
    "df.drop(['Released_Year', 'Genre', 'Meta_score', 'Meta_score_Category',], axis=1, inplace=True)"
   ]
  },
  {
   "cell_type": "markdown",
   "id": "efd5f86e",
   "metadata": {},
   "source": [
    "Dropping the original column of an encoded categorical variable is crucial to prevent data leakage."
   ]
  },
  {
   "cell_type": "code",
   "execution_count": 57,
   "id": "fc42573b",
   "metadata": {},
   "outputs": [
    {
     "data": {
      "text/html": [
       "<div>\n",
       "<style scoped>\n",
       "    .dataframe tbody tr th:only-of-type {\n",
       "        vertical-align: middle;\n",
       "    }\n",
       "\n",
       "    .dataframe tbody tr th {\n",
       "        vertical-align: top;\n",
       "    }\n",
       "\n",
       "    .dataframe thead th {\n",
       "        text-align: right;\n",
       "    }\n",
       "</style>\n",
       "<table border=\"1\" class=\"dataframe\">\n",
       "  <thead>\n",
       "    <tr style=\"text-align: right;\">\n",
       "      <th></th>\n",
       "      <th>Runtime</th>\n",
       "      <th>IMDB_Rating</th>\n",
       "      <th>No_of_Votes</th>\n",
       "      <th>Gross</th>\n",
       "      <th>Meta_score_Label</th>\n",
       "      <th>Certificate_16</th>\n",
       "      <th>Certificate_A</th>\n",
       "      <th>Certificate_Approved</th>\n",
       "      <th>Certificate_G</th>\n",
       "      <th>Certificate_GP</th>\n",
       "      <th>...</th>\n",
       "      <th>Horror</th>\n",
       "      <th>Music</th>\n",
       "      <th>Musical</th>\n",
       "      <th>Mystery</th>\n",
       "      <th>Romance</th>\n",
       "      <th>Sci-Fi</th>\n",
       "      <th>Sport</th>\n",
       "      <th>Thriller</th>\n",
       "      <th>War</th>\n",
       "      <th>Western</th>\n",
       "    </tr>\n",
       "  </thead>\n",
       "  <tbody>\n",
       "    <tr>\n",
       "      <th>0</th>\n",
       "      <td>142.0</td>\n",
       "      <td>87.0</td>\n",
       "      <td>852986.5</td>\n",
       "      <td>2.834147e+07</td>\n",
       "      <td>0</td>\n",
       "      <td>False</td>\n",
       "      <td>True</td>\n",
       "      <td>False</td>\n",
       "      <td>False</td>\n",
       "      <td>False</td>\n",
       "      <td>...</td>\n",
       "      <td>0</td>\n",
       "      <td>0</td>\n",
       "      <td>0</td>\n",
       "      <td>0</td>\n",
       "      <td>0</td>\n",
       "      <td>0</td>\n",
       "      <td>0</td>\n",
       "      <td>0</td>\n",
       "      <td>0</td>\n",
       "      <td>0</td>\n",
       "    </tr>\n",
       "    <tr>\n",
       "      <th>1</th>\n",
       "      <td>175.0</td>\n",
       "      <td>87.0</td>\n",
       "      <td>852986.5</td>\n",
       "      <td>1.349664e+08</td>\n",
       "      <td>2</td>\n",
       "      <td>False</td>\n",
       "      <td>True</td>\n",
       "      <td>False</td>\n",
       "      <td>False</td>\n",
       "      <td>False</td>\n",
       "      <td>...</td>\n",
       "      <td>0</td>\n",
       "      <td>0</td>\n",
       "      <td>0</td>\n",
       "      <td>0</td>\n",
       "      <td>0</td>\n",
       "      <td>0</td>\n",
       "      <td>0</td>\n",
       "      <td>0</td>\n",
       "      <td>0</td>\n",
       "      <td>0</td>\n",
       "    </tr>\n",
       "    <tr>\n",
       "      <th>2</th>\n",
       "      <td>152.0</td>\n",
       "      <td>87.0</td>\n",
       "      <td>852986.5</td>\n",
       "      <td>1.459574e+08</td>\n",
       "      <td>0</td>\n",
       "      <td>False</td>\n",
       "      <td>False</td>\n",
       "      <td>False</td>\n",
       "      <td>False</td>\n",
       "      <td>False</td>\n",
       "      <td>...</td>\n",
       "      <td>0</td>\n",
       "      <td>0</td>\n",
       "      <td>0</td>\n",
       "      <td>0</td>\n",
       "      <td>0</td>\n",
       "      <td>0</td>\n",
       "      <td>0</td>\n",
       "      <td>0</td>\n",
       "      <td>0</td>\n",
       "      <td>0</td>\n",
       "    </tr>\n",
       "    <tr>\n",
       "      <th>3</th>\n",
       "      <td>188.0</td>\n",
       "      <td>87.0</td>\n",
       "      <td>852986.5</td>\n",
       "      <td>5.730000e+07</td>\n",
       "      <td>2</td>\n",
       "      <td>False</td>\n",
       "      <td>True</td>\n",
       "      <td>False</td>\n",
       "      <td>False</td>\n",
       "      <td>False</td>\n",
       "      <td>...</td>\n",
       "      <td>0</td>\n",
       "      <td>0</td>\n",
       "      <td>0</td>\n",
       "      <td>0</td>\n",
       "      <td>0</td>\n",
       "      <td>0</td>\n",
       "      <td>0</td>\n",
       "      <td>0</td>\n",
       "      <td>0</td>\n",
       "      <td>0</td>\n",
       "    </tr>\n",
       "    <tr>\n",
       "      <th>4</th>\n",
       "      <td>96.0</td>\n",
       "      <td>87.0</td>\n",
       "      <td>689845.0</td>\n",
       "      <td>4.360000e+06</td>\n",
       "      <td>2</td>\n",
       "      <td>False</td>\n",
       "      <td>False</td>\n",
       "      <td>False</td>\n",
       "      <td>False</td>\n",
       "      <td>False</td>\n",
       "      <td>...</td>\n",
       "      <td>0</td>\n",
       "      <td>0</td>\n",
       "      <td>0</td>\n",
       "      <td>0</td>\n",
       "      <td>0</td>\n",
       "      <td>0</td>\n",
       "      <td>0</td>\n",
       "      <td>0</td>\n",
       "      <td>0</td>\n",
       "      <td>0</td>\n",
       "    </tr>\n",
       "    <tr>\n",
       "      <th>...</th>\n",
       "      <td>...</td>\n",
       "      <td>...</td>\n",
       "      <td>...</td>\n",
       "      <td>...</td>\n",
       "      <td>...</td>\n",
       "      <td>...</td>\n",
       "      <td>...</td>\n",
       "      <td>...</td>\n",
       "      <td>...</td>\n",
       "      <td>...</td>\n",
       "      <td>...</td>\n",
       "      <td>...</td>\n",
       "      <td>...</td>\n",
       "      <td>...</td>\n",
       "      <td>...</td>\n",
       "      <td>...</td>\n",
       "      <td>...</td>\n",
       "      <td>...</td>\n",
       "      <td>...</td>\n",
       "      <td>...</td>\n",
       "      <td>...</td>\n",
       "    </tr>\n",
       "    <tr>\n",
       "      <th>995</th>\n",
       "      <td>115.0</td>\n",
       "      <td>76.0</td>\n",
       "      <td>166544.0</td>\n",
       "      <td>5.653688e+07</td>\n",
       "      <td>0</td>\n",
       "      <td>False</td>\n",
       "      <td>True</td>\n",
       "      <td>False</td>\n",
       "      <td>False</td>\n",
       "      <td>False</td>\n",
       "      <td>...</td>\n",
       "      <td>0</td>\n",
       "      <td>0</td>\n",
       "      <td>0</td>\n",
       "      <td>0</td>\n",
       "      <td>1</td>\n",
       "      <td>0</td>\n",
       "      <td>0</td>\n",
       "      <td>0</td>\n",
       "      <td>0</td>\n",
       "      <td>0</td>\n",
       "    </tr>\n",
       "    <tr>\n",
       "      <th>996</th>\n",
       "      <td>188.0</td>\n",
       "      <td>76.0</td>\n",
       "      <td>34075.0</td>\n",
       "      <td>5.653688e+07</td>\n",
       "      <td>0</td>\n",
       "      <td>False</td>\n",
       "      <td>False</td>\n",
       "      <td>False</td>\n",
       "      <td>True</td>\n",
       "      <td>False</td>\n",
       "      <td>...</td>\n",
       "      <td>0</td>\n",
       "      <td>0</td>\n",
       "      <td>0</td>\n",
       "      <td>0</td>\n",
       "      <td>0</td>\n",
       "      <td>0</td>\n",
       "      <td>0</td>\n",
       "      <td>0</td>\n",
       "      <td>0</td>\n",
       "      <td>1</td>\n",
       "    </tr>\n",
       "    <tr>\n",
       "      <th>997</th>\n",
       "      <td>118.0</td>\n",
       "      <td>76.0</td>\n",
       "      <td>43374.0</td>\n",
       "      <td>3.050000e+07</td>\n",
       "      <td>0</td>\n",
       "      <td>False</td>\n",
       "      <td>False</td>\n",
       "      <td>False</td>\n",
       "      <td>False</td>\n",
       "      <td>False</td>\n",
       "      <td>...</td>\n",
       "      <td>0</td>\n",
       "      <td>0</td>\n",
       "      <td>0</td>\n",
       "      <td>0</td>\n",
       "      <td>1</td>\n",
       "      <td>0</td>\n",
       "      <td>0</td>\n",
       "      <td>0</td>\n",
       "      <td>1</td>\n",
       "      <td>0</td>\n",
       "    </tr>\n",
       "    <tr>\n",
       "      <th>998</th>\n",
       "      <td>97.0</td>\n",
       "      <td>76.0</td>\n",
       "      <td>26471.0</td>\n",
       "      <td>5.653688e+07</td>\n",
       "      <td>0</td>\n",
       "      <td>False</td>\n",
       "      <td>False</td>\n",
       "      <td>False</td>\n",
       "      <td>False</td>\n",
       "      <td>False</td>\n",
       "      <td>...</td>\n",
       "      <td>0</td>\n",
       "      <td>0</td>\n",
       "      <td>0</td>\n",
       "      <td>0</td>\n",
       "      <td>0</td>\n",
       "      <td>0</td>\n",
       "      <td>0</td>\n",
       "      <td>0</td>\n",
       "      <td>1</td>\n",
       "      <td>0</td>\n",
       "    </tr>\n",
       "    <tr>\n",
       "      <th>999</th>\n",
       "      <td>86.0</td>\n",
       "      <td>76.0</td>\n",
       "      <td>51853.0</td>\n",
       "      <td>5.653688e+07</td>\n",
       "      <td>2</td>\n",
       "      <td>False</td>\n",
       "      <td>False</td>\n",
       "      <td>False</td>\n",
       "      <td>False</td>\n",
       "      <td>False</td>\n",
       "      <td>...</td>\n",
       "      <td>0</td>\n",
       "      <td>0</td>\n",
       "      <td>0</td>\n",
       "      <td>1</td>\n",
       "      <td>0</td>\n",
       "      <td>0</td>\n",
       "      <td>0</td>\n",
       "      <td>1</td>\n",
       "      <td>0</td>\n",
       "      <td>0</td>\n",
       "    </tr>\n",
       "  </tbody>\n",
       "</table>\n",
       "<p>999 rows × 3919 columns</p>\n",
       "</div>"
      ],
      "text/plain": [
       "     Runtime  IMDB_Rating  No_of_Votes         Gross  Meta_score_Label  \\\n",
       "0      142.0         87.0     852986.5  2.834147e+07                 0   \n",
       "1      175.0         87.0     852986.5  1.349664e+08                 2   \n",
       "2      152.0         87.0     852986.5  1.459574e+08                 0   \n",
       "3      188.0         87.0     852986.5  5.730000e+07                 2   \n",
       "4       96.0         87.0     689845.0  4.360000e+06                 2   \n",
       "..       ...          ...          ...           ...               ...   \n",
       "995    115.0         76.0     166544.0  5.653688e+07                 0   \n",
       "996    188.0         76.0      34075.0  5.653688e+07                 0   \n",
       "997    118.0         76.0      43374.0  3.050000e+07                 0   \n",
       "998     97.0         76.0      26471.0  5.653688e+07                 0   \n",
       "999     86.0         76.0      51853.0  5.653688e+07                 2   \n",
       "\n",
       "     Certificate_16  Certificate_A  Certificate_Approved  Certificate_G  \\\n",
       "0             False           True                 False          False   \n",
       "1             False           True                 False          False   \n",
       "2             False          False                 False          False   \n",
       "3             False           True                 False          False   \n",
       "4             False          False                 False          False   \n",
       "..              ...            ...                   ...            ...   \n",
       "995           False           True                 False          False   \n",
       "996           False          False                 False           True   \n",
       "997           False          False                 False          False   \n",
       "998           False          False                 False          False   \n",
       "999           False          False                 False          False   \n",
       "\n",
       "     Certificate_GP  ...  Horror  Music  Musical  Mystery  Romance  Sci-Fi  \\\n",
       "0             False  ...       0      0        0        0        0       0   \n",
       "1             False  ...       0      0        0        0        0       0   \n",
       "2             False  ...       0      0        0        0        0       0   \n",
       "3             False  ...       0      0        0        0        0       0   \n",
       "4             False  ...       0      0        0        0        0       0   \n",
       "..              ...  ...     ...    ...      ...      ...      ...     ...   \n",
       "995           False  ...       0      0        0        0        1       0   \n",
       "996           False  ...       0      0        0        0        0       0   \n",
       "997           False  ...       0      0        0        0        1       0   \n",
       "998           False  ...       0      0        0        0        0       0   \n",
       "999           False  ...       0      0        0        1        0       0   \n",
       "\n",
       "     Sport  Thriller  War  Western  \n",
       "0        0         0    0        0  \n",
       "1        0         0    0        0  \n",
       "2        0         0    0        0  \n",
       "3        0         0    0        0  \n",
       "4        0         0    0        0  \n",
       "..     ...       ...  ...      ...  \n",
       "995      0         0    0        0  \n",
       "996      0         0    0        1  \n",
       "997      0         0    1        0  \n",
       "998      0         0    1        0  \n",
       "999      0         1    0        0  \n",
       "\n",
       "[999 rows x 3919 columns]"
      ]
     },
     "execution_count": 57,
     "metadata": {},
     "output_type": "execute_result"
    }
   ],
   "source": [
    "df"
   ]
  },
  {
   "cell_type": "markdown",
   "id": "9fbbb7b1",
   "metadata": {},
   "source": [
    "<h2 style = \"font-size:23px; font-family:Livvic ; font-weight : bold; background-color:  #023e8a; color :#FEF1FE ; text-align: center; border-radius: 5px 5px; padding: 5px\">Train Test Split</h2>"
   ]
  },
  {
   "cell_type": "markdown",
   "id": "a04b7084",
   "metadata": {},
   "source": [
    "The \"train-test split\" is a fundamental step in the process of training and evaluating a machine learning model. It involves dividing the available dataset into two subsets: one for training the model and the other for testing its performance."
   ]
  },
  {
   "cell_type": "code",
   "execution_count": 58,
   "id": "12777e09",
   "metadata": {},
   "outputs": [],
   "source": [
    "# 'Meta_score_Category' as the target variable\n",
    "x = df.drop('Meta_score_Label', axis=1)  # Features\n",
    "y = df['Meta_score_Label']  # Target variable"
   ]
  },
  {
   "cell_type": "markdown",
   "id": "75f4de9e",
   "metadata": {},
   "source": [
    "The feature set, x is obtained by dropping the column 'Meta_score_Label' from the dataframe. This assumes that 'Meta_score_Label' is the target variable, hence it is being exclude from the features."
   ]
  },
  {
   "cell_type": "code",
   "execution_count": 59,
   "id": "81435ed8",
   "metadata": {},
   "outputs": [],
   "source": [
    "# Split the data into training and testing sets\n",
    "x_train, x_test, y_train, y_test = train_test_split(x, y, test_size = 0.2, random_state = 1, stratify = y)"
   ]
  },
  {
   "cell_type": "markdown",
   "id": "f839ad9f",
   "metadata": {},
   "source": [
    "20% of the data will be used for testing and the remaining 80% will be used for training. Stratify sampling ensures that the class distribution in the target variable, y is preserved in the train-test split."
   ]
  },
  {
   "cell_type": "markdown",
   "id": "bd766a3b",
   "metadata": {},
   "source": [
    "<h2 style = \"font-size:23px; font-family:Livvic ; font-weight : bold; background-color:  #023e8a; color :#FEF1FE ; text-align: center; border-radius: 5px 5px; padding: 5px\">Data Balancing</h2>"
   ]
  },
  {
   "cell_type": "markdown",
   "id": "fcf438f3",
   "metadata": {},
   "source": [
    "Data balancing is a technique used in machine learning to address class imbalance, where one class significantly outnumbers another in the dataset. Imbalanced datasets can lead to biased model training, where the model tends to favor the majority class and performs poorly on the minority class. Balancing the data involves either oversampling the minority class, undersampling the majority class or a combination of both. This ensures that the model is exposed to an equal representation of different classes during training, improving its ability to generalize across all classes and leading to more robust and fair predictions, particularly in scenarios where minority class samples are crucial but might be underrepresented. Data balancing is essential for achieving better model performance, especially in classification tasks with imbalanced class distributions.\n",
    "\n",
    "Splitting the data into training and testing sets before any preprocessing steps (e.g., normalization, feature scaling) helps prevent data leakage. Data leakage occurs when information from the testing set inadvertently influences the training process, leading to overly optimistic performance estimates."
   ]
  },
  {
   "cell_type": "code",
   "execution_count": 60,
   "id": "527129d4",
   "metadata": {},
   "outputs": [
    {
     "data": {
      "image/png": "[encoded data removed]",
      "text/plain": [
       "<Figure size 800x400 with 1 Axes>"
      ]
     },
     "metadata": {},
     "output_type": "display_data"
    }
   ],
   "source": [
    "# Plot the class distribution before SMOTE\n",
    "plt.figure(figsize=(8, 4))\n",
    "plt.subplot(1, 2, 2)\n",
    "sns.countplot(x = 'Meta_score_Label', data = pd.DataFrame({'Meta_score_Label': y_train}))\n",
    "plt.title('Class Distribution After SMOTE')\n",
    "\n",
    "plt.tight_layout()\n",
    "plt.show()"
   ]
  },
  {
   "cell_type": "code",
   "execution_count": 61,
   "id": "d2a033cd",
   "metadata": {},
   "outputs": [],
   "source": [
    "# SMOTE instance\n",
    "smote = SMOTE(random_state = 1)"
   ]
  },
  {
   "cell_type": "code",
   "execution_count": 62,
   "id": "067869a6",
   "metadata": {},
   "outputs": [],
   "source": [
    "# Apply SMOTE to the training set\n",
    "x_train_resampled, y_train_resampled = smote.fit_resample(x_train, y_train)"
   ]
  },
  {
   "cell_type": "markdown",
   "id": "47815290",
   "metadata": {},
   "source": [
    "Apply the Synthetic Minority Over-sampling Technique (SMOTE) to the training set of a machine learning dataset. SMOTE is used to address class imbalance by generating synthetic samples for the minority class, helping to balance the class distribution."
   ]
  },
  {
   "cell_type": "code",
   "execution_count": 63,
   "id": "4e418044",
   "metadata": {},
   "outputs": [
    {
     "data": {
      "image/png": "[encoded data removed]",
      "text/plain": [
       "<Figure size 800x400 with 1 Axes>"
      ]
     },
     "metadata": {},
     "output_type": "display_data"
    }
   ],
   "source": [
    "# Plot the class distribution after SMOTE\n",
    "plt.figure(figsize=(8, 4))\n",
    "plt.subplot(1, 2, 2)\n",
    "sns.countplot(x = 'Meta_score_Label', data = pd.DataFrame({'Meta_score_Label': y_train_resampled}))\n",
    "plt.title('Class Distribution After SMOTE')\n",
    "\n",
    "plt.tight_layout()\n",
    "plt.show()"
   ]
  },
  {
   "cell_type": "markdown",
   "id": "66d379bd",
   "metadata": {},
   "source": [
    "<h2 style = \"font-size:23px; font-family:Livvic ; font-weight : bold; background-color:  #023e8a; color :#FEF1FE ; text-align: center; border-radius: 5px 5px; padding: 5px\">Data Normalization</h2>"
   ]
  },
  {
   "cell_type": "markdown",
   "id": "91526e7b",
   "metadata": {},
   "source": [
    "Many machine learning algorithms, such as SVM, K-Nearest Neighbors and neural networks, are sensitive to the scale of the input features. Normalizing or standardizing the data ensures that all features have a similar scale, preventing certain features from dominating the learning process. Apply normalization or standardization to both the training and testing sets. "
   ]
  },
  {
   "cell_type": "code",
   "execution_count": 64,
   "id": "b9dedc77",
   "metadata": {},
   "outputs": [],
   "source": [
    "# StandardScaler instance\n",
    "scaler = StandardScaler()"
   ]
  },
  {
   "cell_type": "code",
   "execution_count": 65,
   "id": "eae4317a",
   "metadata": {},
   "outputs": [],
   "source": [
    "# Fit the scaler to the training set and transform both training and test sets\n",
    "normalized_x_train = scaler.fit_transform(x_train_resampled)\n",
    "normalized_x_test = scaler.transform(x_test)"
   ]
  },
  {
   "cell_type": "markdown",
   "id": "9138e10f",
   "metadata": {},
   "source": [
    "The fit_transform method is used on the training set (x_train). This step calculates the mean and standard deviation of each feature in the training set and then scales the features accordingly. While transform method is used on the testing set (x_test) without re-fitting the scaler. This ensures that the same transformation (mean and standard deviation) learned from the training set is applied to the testing set."
   ]
  },
  {
   "cell_type": "markdown",
   "id": "4f0e290a",
   "metadata": {},
   "source": [
    "[**<span style=\"color:#FEF1FE;background-color:#023e8a;border-radius: 5px;padding: 2px\">Go to Table of Content</span>**](#Content)\n",
    "\n",
    "<a id=\"4\"></a>\n",
    "<h2 style = \"font-size:27px; font-family:Montserrat ; font-weight : bold; background-color: #023e8a; color :#FEF1FE ; text-align: center; border-radius: 5px 5px; padding: 7px\">4. i) Model Training and Evaluation (Manual Tuning)</h2>"
   ]
  },
  {
   "cell_type": "markdown",
   "id": "bbb3ab4c",
   "metadata": {},
   "source": [
    "A classification model is a type of machine learning model designed to assign predefined labels or categories to input data based on learned patterns from a labeled training dataset. The primary objective of a classification model is to accurately predict the categorical output for new, unseen instances. Parameter tuning in a classification model involves optimizing the hyperparameters, which are external configuration settings influencing the learning process. These hyperparameters include the learning rate, regularization strength and the number of features or layers in the model. The tuning process aims to find the optimal combination of hyperparameters that maximizes the model's performance metrics, such as accuracy, precision, recall and F1-score, on a validation set. Proper parameter tuning is crucial for enhancing the classification model's ability to generalize well to unseen data and make accurate predictions in real-world scenarios."
   ]
  },
  {
   "cell_type": "code",
   "execution_count": 66,
   "id": "4ff81e70",
   "metadata": {},
   "outputs": [],
   "source": [
    "# Import libraries\n",
    "from sklearn.tree import DecisionTreeClassifier\n",
    "from sklearn.ensemble import RandomForestClassifier\n",
    "from sklearn.naive_bayes import GaussianNB\n",
    "from sklearn.metrics import confusion_matrix, accuracy_score, precision_score, recall_score, f1_score"
   ]
  },
  {
   "cell_type": "markdown",
   "id": "9315d23c",
   "metadata": {},
   "source": [
    "<h2 style = \"font-size:23px; font-family:Livvic ; font-weight : bold; background-color:  #023e8a; color :#FEF1FE ; text-align: center; border-radius: 5px 5px; padding: 5px\">Decision Tree</h2>"
   ]
  },
  {
   "cell_type": "markdown",
   "id": "27ceb648",
   "metadata": {},
   "source": [
    "#### Working Mechanism:\n",
    "\n",
    "- A Decision Tree recursively splits the dataset based on the features, creating a tree-like structure. At each node, the algorithm selects the feature that best separates the data into homogeneous groups, typically using metrics like Gini impurity or entropy. The process continues until a stopping criterion is met, such as a maximum depth or a minimum number of samples in a leaf node. To make a prediction for a new instance, it traverses the tree, following the decisions based on the feature values of the instance until it reaches a leaf node, which represents the predicted class.\n",
    "\n",
    "#### Application:\n",
    "\n",
    "- In a categorical classification task, Decision Trees can handle multiple classes by creating decision rules for each class at the leaf nodes. The final prediction is the majority class of instances reaching a leaf node.\n",
    "\n",
    "#### Parameter Significance for Decision Tree:\n",
    "\n",
    "random_state (int or RandomState, default=None):\n",
    "\n",
    "- Seed for controlling the randomness of the estimator. Ensures that the random operations in the algorithm are reproducible, making it easier to debug and compare results.\n",
    "\n",
    "criterion ({\"gini\", \"entropy\"}, default=\"gini\"):\n",
    "\n",
    "- Defines the quality measure for making splits in the tree. It can be either 'gini' for the Gini impurity or 'entropy' for information gain. Gini impurity and entropy measure the impurity or disorder in the data.\n",
    "\n",
    "max_depth (int or None, default=None):\n",
    "\n",
    "- Limits the depth of the tree, preventing overfitting. A deeper tree may capture more details in the training data but might not generalize well to unseen data. If None, nodes are expanded until they contain less than min_samples_split samples. \n",
    "\n",
    "min_samples_leaf (int or float, default=1):\n",
    "\n",
    "- The minimum number of samples required to be at a leaf node. A split point at any depth will only be considered if it leaves at least min_samples_leaf training samples in each of the left and right branches. This parameter could prevent the creation of nodes that represent noise in the data.\n",
    "\n",
    "min_samples_split (int or float, default=2):\n",
    "\n",
    "- The minimum number of samples required to split an internal node. It helps control the size of the tree and prevent overfitting. If an integer, it represents the minimum number. If a float, it is a fraction and represents the minimum percentage of total samples.\n",
    "\n",
    "splitter ({\"best\", \"random\"}, default=\"best\"):\n",
    "\n",
    "- The strategy used to choose the split at each node. 'best' chooses the best split and 'random' chooses the best random split. This parameter can introduce randomness and diversity in the tree.\n",
    "\n",
    "min_weight_fraction_leaf (float, default=0.0):\n",
    "\n",
    "- Minimum weighted fraction of the sum total of weights (if 'sample_weight' is passed) required to be at a leaf node.\n",
    "\n",
    "max_features ({“auto”, “sqrt”, “log2”}, int, float, or None, default=None):\n",
    "\n",
    "- Number of features to consider for the best split. It can be \"auto\" (sqrt), \"sqrt\" (sqrt), \"log2\" (log2), or a specific integer/float.\n",
    "\n",
    "max_leaf_nodes (int or None, default=None):\n",
    "\n",
    "- Grow trees with 'max_leaf_nodes' in best-first fashion. If None, unlimited number of leaf nodes.\n",
    "\n",
    "min_impurity_decrease (float, default=0.0):\n",
    "\n",
    "- A node will be split if this split induces a decrease of the impurity greater than or equal to this value.\n",
    "\n",
    "min_impurity_split (float, default=None):\n",
    "\n",
    "- Threshold for early stopping in tree growth. If the impurity of a node is above the threshold, the node will be split.\n",
    "\n",
    "ccp_alpha (non-negative float, default=0.0):\n",
    "\n",
    "- Complexity parameter used for Minimal Cost-Complexity Pruning. The subtree with the largest cost complexity that is smaller than '0ccp_alpha will be chosen."
   ]
  },
  {
   "cell_type": "markdown",
   "id": "5f6b5e86",
   "metadata": {},
   "source": [
    "#### Decision Tree classifier with default parameter:\n",
    "\n",
    "The provided code creates a Decision Tree classifier with default values for all parameters since no arguments are passed within the parentheses."
   ]
  },
  {
   "cell_type": "code",
   "execution_count": 67,
   "id": "5feae88d",
   "metadata": {},
   "outputs": [
    {
     "name": "stdout",
     "output_type": "stream",
     "text": [
      "[0 0 2 1 1 2 0 0 1 0 0 0 0 0 2 0 0 0 2 0 2 0 0 0 0 0 0 0 1 0 0 0 0 2 0 2 1\n",
      " 2 0 1 1 2 0 2 1 2 2 0 0 1 0 0 2 2 0 0 2 2 0 2 0 1 0 0 0 0 0 0 0 2 2 0 0 0\n",
      " 0 0 0 0 1 0 2 0 0 2 0 1 0 0 0 0 0 0 0 0 0 2 2 2 0 0 1 2 0 2 0 2 0 1 2 0 1\n",
      " 0 2 0 0 0 2 0 1 0 1 0 0 0 0 0 0 0 0 0 2 2 2 2 2 0 0 2 0 2 2 2 0 0 2 0 2 0\n",
      " 0 0 2 0 2 1 1 0 0 2 0 0 0 0 2 0 2 1 1 1 2 0 0 0 1 0 1 2 0 0 1 0 0 2 0 0 2\n",
      " 0 0 1 2 0 0 0 0 0 0 0 1 0 0 0]\n",
      "Confusion matrix for Decision Tree:\n",
      " [[82 17 25]\n",
      " [15  5  6]\n",
      " [25  5 20]]\n",
      "Accuracy Decision Tree: 0.535\n",
      "Precision Decision Tree: 0.535\n",
      "Recall Decision Tree: 0.535\n",
      "F1-score Decision Tree: 0.535\n"
     ]
    }
   ],
   "source": [
    "# Create a Decision Tree classifier with default parameters\n",
    "dt_classifier = DecisionTreeClassifier()\n",
    "\n",
    "# Fit the model to the training data\n",
    "dt_classifier.fit(normalized_x_train, y_train_resampled)\n",
    "\n",
    "# Predictions on the test data\n",
    "y_pred = dt_classifier.predict(normalized_x_test)\n",
    "print(y_pred)\n",
    "\n",
    "# Performance metrics\n",
    "cm = confusion_matrix(y_test, y_pred)\n",
    "accuracy = accuracy_score(y_test, y_pred)\n",
    "precision = precision_score(y_test, y_pred, average = 'micro')\n",
    "recall = recall_score(y_test, y_pred, average = 'micro')\n",
    "f1 = f1_score(y_test, y_pred, average = 'micro')\n",
    "\n",
    "# Print the results\n",
    "print('Confusion matrix for Decision Tree:\\n', cm)\n",
    "print('Accuracy Decision Tree: %.3f' % accuracy)\n",
    "print('Precision Decision Tree: %.3f' % precision)\n",
    "print('Recall Decision Tree: %.3f' % recall)\n",
    "print('F1-score Decision Tree: %.3f' % f1)"
   ]
  },
  {
   "cell_type": "markdown",
   "id": "29f661da",
   "metadata": {},
   "source": [
    "This initializes a Decision Tree classifier trained on a dataset with normalized features and corresponding target labels. The model is configured with default parameters. The training data is then used to fit the model and predictions are generated for the test set. Subsequently, the code evaluates the performance of the Decision Tree classifier using various metrics.\n",
    "\n",
    "The confusion matrix, a key component of the evaluation, displays the distribution of correct and incorrect predictions across different classes. The three classes in the 'Meta_score_Label' are 'Average' (0), 'Negative' (1) and 'Positive' (2). The resulting confusion matrix illustrates how many instances were correctly or incorrectly classified within each class. Rows represent actual classes and columns represent predicted classes. For example, there are 82 true positives for the 'Average' class, 5 true positive for the 'Negative' class and 20 true positives for the 'Positive' class. 82 instances of 'Average' class were correctly classified, 17 instances of 'Average' class were predicted as 'Negative' class and 25 instances of class 'Average' were predicted as 'Positive' class. \n",
    "\n",
    "The accuracy, precision, recall and F1-score metrics are then calculated to provide a comprehensive assessment of the model's performance. The accuracy of approximately 53.5% indicates the proportion of correctly classified instances out of the total. Precision measures the accuracy of positive predictions, recall assesses the coverage of actual positive instances and F1-score represents the balance between precision and recall. The obtained accuracy, precision, recall and F1-score metrics, all approximately equal to 0.535, indicated moderate overall model performance.\n",
    "\n",
    "While the model achieves a moderate level of accuracy, further exploration could involve tuning hyperparameters or trying different algorithms to enhance performance. The provided evaluation metrics offer valuable insights into the strengths and weaknesses of the Decision Tree classifier within the context of the specific dataset and classification task."
   ]
  },
  {
   "cell_type": "markdown",
   "id": "72e75fe2",
   "metadata": {},
   "source": [
    "#### Decision Tree classifier with parameter tuning:\n",
    "- (random_state = 1, criterion = 'entropy', max_depth = 8, min_samples_leaf = 8, min_samples_split = 10, splitter = 'random')\n",
    "\n",
    "This approach is focus on tuning specific aspects of the model while relying on default values for the remaining parameters."
   ]
  },
  {
   "cell_type": "code",
   "execution_count": 68,
   "id": "7f91043f",
   "metadata": {},
   "outputs": [
    {
     "name": "stdout",
     "output_type": "stream",
     "text": [
      "Confusion matrix for Decision Tree:\n",
      " [[114   9   1]\n",
      " [ 25   1   0]\n",
      " [ 46   3   1]]\n",
      "Accuracy Decision Tree: 0.580\n",
      "Precision Decision Tree: 0.580\n",
      "Recall Decision Tree: 0.580\n",
      "F1-score Decision Tree: 0.580\n"
     ]
    }
   ],
   "source": [
    "# Create a Decision Tree classifier with specific parameters\n",
    "dt_classifier = DecisionTreeClassifier(\n",
    "    random_state = 1,\n",
    "    criterion = 'entropy',\n",
    "    max_depth = 8,\n",
    "    min_samples_leaf = 8,\n",
    "    min_samples_split = 10,\n",
    "    splitter = 'random'\n",
    ")\n",
    "\n",
    "# Fit the model to the training data\n",
    "dt_classifier.fit(normalized_x_train, y_train_resampled)\n",
    "\n",
    "# Predictions on the test data\n",
    "y_pred = dt_classifier.predict(normalized_x_test)\n",
    "\n",
    "# Performance metrics\n",
    "cm = confusion_matrix(y_test, y_pred)\n",
    "accuracy = accuracy_score(y_test, y_pred)\n",
    "precision = precision_score(y_test, y_pred, average =  'micro')\n",
    "recall = recall_score(y_test, y_pred, average = 'micro')\n",
    "f1 = f1_score(y_test, y_pred, average = 'micro')\n",
    "\n",
    "# Print the results\n",
    "print('Confusion matrix for Decision Tree:\\n', cm)\n",
    "print('Accuracy Decision Tree: %.3f' % accuracy)\n",
    "print('Precision Decision Tree: %.3f' % precision)\n",
    "print('Recall Decision Tree: %.3f' % recall)\n",
    "print('F1-score Decision Tree: %.3f' % f1)"
   ]
  },
  {
   "cell_type": "markdown",
   "id": "b1180dbf",
   "metadata": {},
   "source": [
    "The Decision Tree classifier is configured with specific parameters for this iteration. Notably, the max_depth is set to 8, min_samples_leaf is set to 8, min_samples_split is set to 10 and the splitting criterion is set to 'entropy'. These parameters represent a tuned configuration aimed at improving the model's performance.The use of specific parameters in this iteration is intended to influence the decision-making process of the tree.\n",
    "\n",
    "The confusion matrix displays the distribution of correct and incorrect predictions across different classes. There are 114 true positives for the 'Average' class, 1 true positive for the 'Negative' class and 1 true positives for the 'Positive' class. 114 instances of 'Average' class were correctly classified, 9 instances of 'Average' class were predicted as 'Negative' class and 1 instances of class 'Average' were predicted as 'Positive' class.\n",
    "\n",
    "The overall accuracy of the model is 58%, meaning 58% of instances were correctly classified across all classes. The precision for this model is 58%, indicating that 58.0% of instances predicted as positive are indeed positive. The recall for this model is 58%, indicating that 58% of actual positive instances were correctly identified. F1-score represents the balance between precision and recall and the F1-score for this model is 58%.\n",
    "\n",
    "In comparison to the default Decision Tree classifier, the tuned model with specific parameters shows improvements in accuracy, precision, recall and F1-score. The accuracy is now approximately 58%, indicating a better overall performance compared to the default model."
   ]
  },
  {
   "cell_type": "markdown",
   "id": "ed0acf76",
   "metadata": {},
   "source": [
    "<h2 style = \"font-size:23px; font-family:Livvic ; font-weight : bold; background-color:  #023e8a; color :#FEF1FE ; text-align: center; border-radius: 5px 5px; padding: 5px\">Random Forest</h2>"
   ]
  },
  {
   "cell_type": "markdown",
   "id": "6048f3b6",
   "metadata": {},
   "source": [
    "#### Working Mechanism:\n",
    "\n",
    "- Random Forest is an ensemble of Decision Trees. It builds multiple trees by bootstrapping the dataset and selecting a random subset of features for each tree. Each tree in the forest independently makes a prediction and the final prediction is determined by a majority vote (classification) or averaging (regression) of the individual tree predictions. The randomness introduced during training helps reduce overfitting and improves the model's generalization to new data.\n",
    "\n",
    "#### Application:\n",
    "\n",
    "- Random Forest works similarly to Decision Trees for categorical classification tasks but with the advantage of reducing overfitting and improving robustness.\n",
    "\n",
    "#### Parameter Significance for Random Forest:\n",
    "\n",
    "n_estimators (int, default=100):\n",
    "\n",
    "- Number of trees in the forest. It controls the number of base learners (decision trees) in the ensemble.\n",
    "\n",
    "criterion ({\"gini\", \"entropy\"}, default=\"gini\"):\n",
    "\n",
    "- Measure of quality for a split. It can be either 'gini' for the Gini impurity or 'entropy' for information gain.\n",
    "\n",
    "max_depth (int or None, default=None):\n",
    "\n",
    "- Maximum depth of the individual trees. If None, nodes are expanded until they contain less than 'min_samples_split' samples.\n",
    "\n",
    "min_samples_split (int or float, default=2):\n",
    "\n",
    "- Minimum number of samples required to split an internal node. It can be an integer or a fraction representing the minimum proportion of total samples.\n",
    "\n",
    "min_samples_leaf (int or float, default=1):\n",
    "\n",
    "- Minimum number of samples required to be at a leaf node. It can be an integer or a fraction representing the minimum proportion of total samples.\n",
    "\n",
    "min_weight_fraction_leaf (float, default=0.0):\n",
    "\n",
    "- Minimum weighted fraction of the sum total of weights (if 'sample_weight' is passed) required to be at a leaf node.\n",
    "\n",
    "max_features ({“auto”, “sqrt”, “log2”}, int, float, or None, default=\"auto\"):\n",
    "\n",
    "- Number of features to consider for the best split. It can be \"auto\" (sqrt), \"sqrt\" (sqrt), \"log2\" (log2), or a specific integer/float.\n",
    "\n",
    "random_state (int or RandomState, default=None):\n",
    "\n",
    "- Seed for controlling the randomness of the estimator. Ensures that the random operations in the algorithm are reproducible, making it easier to debug and compare results.\n",
    "\n",
    "max_leaf_nodes (int or None, default=None):\n",
    "\n",
    "- Grow trees with 'max_leaf_nodes' in best-first fashion. If None, unlimited number of leaf nodes.\n",
    "\n",
    "min_impurity_decrease (float, default=0.0):\n",
    "\n",
    "- A node will be split if this split induces a decrease of the impurity greater than or equal to this value.\n",
    "\n",
    "min_impurity_split (float, default=None):\n",
    "\n",
    "- Threshold for early stopping in tree growth. If the impurity of a node is above the threshold, the node will be split.\n",
    "\n",
    "bootstrap (bool, default=True):\n",
    "\n",
    "- Whether bootstrap samples are used when building trees. If True, each tree is fit on a bootstrap sample of the training data.\n",
    "\n",
    "oob_score (bool, default=False):\n",
    "\n",
    "- Whether to use out-of-bag samples to estimate the generalization accuracy.\n",
    "\n",
    "n_jobs (int, default=None):\n",
    "\n",
    "- Number of jobs to run in parallel for both fit and predict. If None, 1 job is used. If -1, the number of jobs is set to the number of CPU cores.\n",
    "\n",
    "verbose (int, default=0):\n",
    "\n",
    "- Controls the verbosity when fitting and predicting.\n",
    "\n",
    "warm_start (bool, default=False):\n",
    "\n",
    "- When set to True, reuse the solution of the previous call to fit and add more estimators to the ensemble.\n",
    "\n",
    "class_weight ({\"balanced\", \"balanced_subsample\"}, dict, list of dicts, \"None\", \"balanced\" or \"balanced_subsample\", default=None):\n",
    "\n",
    "- Weights associated with classes. It can be a dictionary, a list of dictionaries, \"balanced\", \"balanced_subsample\", or None.\n",
    "\n",
    "ccp_alpha (non-negative float, default=0.0):\n",
    "\n",
    "- Complexity parameter used for Minimal Cost-Complexity Pruning. The subtree with the largest cost complexity that is smaller than 'ccp_alpha' will be chosen.\n",
    "\n",
    "max_samples (int or float, default=None):\n",
    "\n",
    "- If bootstrap is True, the number of samples to draw from X to train each base estimator. If None, then draw 'X.shape[0] samples.\n"
   ]
  },
  {
   "cell_type": "markdown",
   "id": "45a67260",
   "metadata": {},
   "source": [
    "#### Random Forest classifier with default parameter:\n",
    "\n",
    "The provided code creates a Random Forest classifier with default values for all parameters since no arguments are passed within the parentheses."
   ]
  },
  {
   "cell_type": "code",
   "execution_count": 78,
   "id": "5bf99f0a",
   "metadata": {},
   "outputs": [
    {
     "name": "stdout",
     "output_type": "stream",
     "text": [
      "Confusion matrix for Random Forest:\n",
      " [[120   0   4]\n",
      " [ 26   0   0]\n",
      " [ 46   1   3]]\n",
      "Accuracy Random Forest: 0.615\n",
      "Precision Random Forest: 0.615\n",
      "Recall Random Forest: 0.615\n",
      "F1-score Random Forest: 0.615\n"
     ]
    }
   ],
   "source": [
    "# Create a Random Forest classifier\n",
    "rf = RandomForestClassifier()\n",
    "\n",
    "# Fit the model on the training data\n",
    "rf.fit(normalized_x_train,y_train_resampled)\n",
    "\n",
    "# Predictions on the test set\n",
    "y_pred = rf.predict(normalized_x_test)\n",
    "\n",
    "# Performance metrics\n",
    "cm = confusion_matrix(y_test, y_pred)\n",
    "accuracy = accuracy_score(y_test,y_pred)\n",
    "precision =precision_score(y_test, y_pred,average='micro')\n",
    "recall =  recall_score(y_test, y_pred,average='micro')\n",
    "f1 = f1_score(y_test,y_pred,average='micro')\n",
    "\n",
    "# Print the results\n",
    "print('Confusion matrix for Random Forest:\\n', cm)\n",
    "print('Accuracy Random Forest: %.3f' % accuracy)\n",
    "print('Precision Random Forest: %.3f' % precision)\n",
    "print('Recall Random Forest: %.3f' % recall)\n",
    "print('F1-score Random Forest: %.3f' % f1)"
   ]
  },
  {
   "cell_type": "markdown",
   "id": "5aa73aa3",
   "metadata": {},
   "source": [
    "This initializes a Random Forest classifier trained on a dataset with normalized features and corresponding target labels. The model is configured with default parameters.\n",
    "\n",
    "The confusion matrix, a key component of the evaluation, displays the distribution of correct and incorrect predictions across different classes. The three classes in the 'Meta_score_Label' are 'Average' (0), 'Negative' (1) and 'Positive' (2). The resulting confusion matrix illustrates how many instances were correctly or incorrectly classified within each class. Rows represent actual classes and columns represent predicted classes. For example, there are 120 true positives for the 'Average' class, 0 true positive for the 'Negative' class and 3 true positives for the 'Positive' class. 122 instances of 'Average' class were correctly classified, 0 instances of 'Average' class were predicted as 'Negative' class and 4 instances of class 'Average' were predicted as 'Positive' class. \n",
    "\n",
    "The accuracy, precision, recall and F1-score metrics are then calculated to provide a comprehensive assessment of the model's performance. The accuracy of approximately 61.5% indicates the proportion of correctly classified instances out of the total. Precision measures the accuracy of positive predictions, recall assesses the coverage of actual positive instances and F1-score represents the balance between precision and recall. The obtained accuracy, precision, recall and F1-score metrics, all approximately equal to 0.615, indicated moderate overall model performance. While the model achieves a moderate level of accuracy, further exploration could involve tuning hyperparameters or trying different algorithms to enhance performance."
   ]
  },
  {
   "cell_type": "markdown",
   "id": "9d9108fa",
   "metadata": {},
   "source": [
    "#### Random Forest classifier with parameter tuning:\n",
    "- (random_state = 1, max_depth = 8, max_features = 'sqrt', min_samples_leaf = 8, min_samples_split = 10, n_estimators = 100)\n",
    "\n",
    "This approach is focus on tuning specific aspects of the model while relying on default values for the remaining parameters."
   ]
  },
  {
   "cell_type": "code",
   "execution_count": 70,
   "id": "3ce0c967",
   "metadata": {},
   "outputs": [
    {
     "name": "stdout",
     "output_type": "stream",
     "text": [
      "Confusion matrix for Random Forest:\n",
      " [[103   2  19]\n",
      " [ 22   3   1]\n",
      " [ 34   2  14]]\n",
      "Accuracy Random Forest: 0.600\n",
      "Precision Random Forest: 0.600\n",
      "Recall Random Forest: 0.600\n",
      "F1-score Random Forest: 0.600\n"
     ]
    }
   ],
   "source": [
    "# Create a Random Forest classifier with specific parameters\n",
    "rf = RandomForestClassifier(\n",
    "    random_state = 1,\n",
    "    max_depth = 8,\n",
    "    max_features = 'sqrt',\n",
    "    min_samples_leaf = 8,\n",
    "    min_samples_split = 10,\n",
    "    n_estimators = 100\n",
    ")\n",
    "\n",
    "# Fit the model on the training data\n",
    "rf.fit(normalized_x_train, y_train_resampled)\n",
    "\n",
    "# Predictions on the test set\n",
    "y_pred = rf.predict(normalized_x_test)\n",
    "\n",
    "# Performance metrics\n",
    "cm = confusion_matrix(y_test, y_pred)\n",
    "accuracy = accuracy_score(y_test, y_pred)\n",
    "precision = precision_score(y_test, y_pred, average = 'micro')\n",
    "recall = recall_score(y_test, y_pred, average = 'micro')\n",
    "f1 = f1_score(y_test, y_pred, average = 'micro')\n",
    "\n",
    "# Print the results\n",
    "print('Confusion matrix for Random Forest:\\n', cm)\n",
    "print('Accuracy Random Forest: %.3f' % accuracy)\n",
    "print('Precision Random Forest: %.3f' % precision)\n",
    "print('Recall Random Forest: %.3f' % recall)\n",
    "print('F1-score Random Forest: %.3f' % f1)"
   ]
  },
  {
   "cell_type": "markdown",
   "id": "06ee07f0",
   "metadata": {},
   "source": [
    "The Random Forest classifier is configured with specific parameters for this iteration. Notably, the random_state is set to 1, max_depth is set to 8, max_features is set to 'sqrt', min_samples_leaf is set to 8, min_samples_split is set to 10 and the n_estimators is set to 100. These parameters represent a tuned configuration aimed at improving the model's performance.\n",
    "\n",
    "The confusion matrix displays the distribution of correct and incorrect predictions across different classes. There are 103 true positives for the 'Average' class, 3 true positive for the 'Negative' class and 14 true positives for the 'Positive' class. 103 instances of 'Average' class were correctly classified, 2 instances of 'Average' class were predicted as 'Negative' class and 19 instances of class 'Average' were predicted as 'Positive' class.\n",
    "\n",
    "The overall accuracy of the model is 60%, meaning 60% of instances were correctly classified across all classes. The precision for this model is 60%, indicating that 60% of instances predicted as positive are indeed positive. The recall for this model is 60%, indicating that 60% of actual positive instances were correctly identified. F1-score represents the balance between precision and recall and the F1-score for this model is 60%.\n",
    "\n",
    "In comparison to the default Random Forest classifier, the tuned model with specific parameters shows slighlty lower score in accuracy, precision, recall and F1-score. The accuracy is now approximately 60%, indicating a lower overall performance compared to the default model."
   ]
  },
  {
   "cell_type": "markdown",
   "id": "ccccd01b",
   "metadata": {},
   "source": [
    "<h2 style = \"font-size:23px; font-family:Livvic ; font-weight : bold; background-color:  #023e8a; color :#FEF1FE ; text-align: center; border-radius: 5px 5px; padding: 5px\">Gaussian Naive Bayes</h2>"
   ]
  },
  {
   "cell_type": "markdown",
   "id": "8ac6580d",
   "metadata": {},
   "source": [
    "#### Working Mechanism:\n",
    "\n",
    "- Naive Bayes is a probabilistic model based on Bayes' theorem and makes an assumption of feature independence given the class. It calculates the probability of a class given the observed feature values and selects the class with the highest probability as the prediction. Despite its \"naive\" assumption of feature independence, Naive Bayes often performs well in practice, especially with text classification tasks.\n",
    "\n",
    "#### Application:\n",
    "\n",
    "- In categorical classification, Naive Bayes calculates the probabilities of each class given the observed features using Bayes' theorem. The class with the highest probability is selected as the prediction.\n",
    "\n",
    "#### Parameter Significance for Gaussian Naive Bayes:\n",
    "\n",
    "priors (array-like of shape (n_classes), default=None):\n",
    "\n",
    "- Prior probabilities of the classes. If specified, the priors are not adjusted based on the data.\n",
    "\n",
    "var_smoothing (float, default=1e-09):\n",
    "\n",
    "- Portion of the largest variance of all features added to variances for calculation stability. It ensures that variances are not equal to zero, preventing division by zero during probability estimation."
   ]
  },
  {
   "cell_type": "markdown",
   "id": "09030791",
   "metadata": {},
   "source": [
    "#### Gaussian Naive Bayes classifier with default parameter:\n",
    "\n",
    "The provided code creates a Gaussian Naive Bayes classifier with default values for all parameters since no arguments are passed within the parentheses."
   ]
  },
  {
   "cell_type": "code",
   "execution_count": 71,
   "id": "801d3a1e",
   "metadata": {},
   "outputs": [
    {
     "name": "stdout",
     "output_type": "stream",
     "text": [
      "Confusion matrix for Naive Bayes\n",
      " [[63 30 31]\n",
      " [10 12  4]\n",
      " [17 14 19]]\n",
      "Accuracy Naive Bayes: 0.470\n",
      "Precision Naive Bayes: 0.470\n",
      "Recall Naive Bayes: 0.470\n",
      "F1-score Naive Bayes: 0.470\n"
     ]
    }
   ],
   "source": [
    "# Create a Naive Bayes classifier with specific parameters\n",
    "nb_classifier = GaussianNB()\n",
    "\n",
    "# Fit the model on the training data\n",
    "nb_classifier.fit(normalized_x_train, y_train_resampled)\n",
    "\n",
    "# Predictions on the test set\n",
    "y_pred = nb_classifier.predict(normalized_x_test)\n",
    "\n",
    "# Performance metrics\n",
    "cm = confusion_matrix(y_test, y_pred)\n",
    "accuracy = accuracy_score(y_test, y_pred)\n",
    "precision = precision_score(y_test, y_pred, average = 'micro')\n",
    "recall = recall_score(y_test, y_pred, average = 'micro')\n",
    "f1 = f1_score(y_test, y_pred, average = 'micro')\n",
    "\n",
    "print('Confusion matrix for Naive Bayes\\n', cm)\n",
    "print('Accuracy Naive Bayes: %.3f' % accuracy)\n",
    "print('Precision Naive Bayes: %.3f' % precision)\n",
    "print('Recall Naive Bayes: %.3f' % recall)\n",
    "print('F1-score Naive Bayes: %.3f' % f1)"
   ]
  },
  {
   "cell_type": "markdown",
   "id": "b2caa906",
   "metadata": {},
   "source": [
    "This initializes a Gaussian Naive Bayes classifier trained on a dataset with normalized features and corresponding target labels. The model is configured with default parameters.\n",
    "\n",
    "The confusion matrix, a key component of the evaluation, displays the distribution of correct and incorrect predictions across different classes. The three classes in the 'Meta_score_Label' are 'Average' (0), 'Negative' (1) and 'Positive' (2). The resulting confusion matrix illustrates how many instances were correctly or incorrectly classified within each class. Rows represent actual classes and columns represent predicted classes. For example, there are 63 true positives for the 'Average' class, 12 true positive for the 'Negative' class and 19 true positives for the 'Positive' class. 63 instances of 'Average' class were correctly classified, 30 instances of 'Average' class were predicted as 'Negative' class and 31 instances of class 'Average' were predicted as 'Positive' class. \n",
    "\n",
    "The accuracy, precision, recall and F1-score metrics are then calculated to provide a comprehensive assessment of the model's performance. The accuracy of approximately 47% indicates the proportion of correctly classified instances out of the total. Precision measures the accuracy of positive predictions, recall assesses the coverage of actual positive instances and F1-score represents the balance between precision and recall. The obtained accuracy, precision, recall and F1-score metrics, all approximately equal to 0.470, indicated moderate overall model performance. While the model achieves a moderate level of accuracy, further exploration could involve tuning hyperparameters or trying different algorithms to enhance performance."
   ]
  },
  {
   "cell_type": "markdown",
   "id": "a1907d0a",
   "metadata": {},
   "source": [
    "#### Gaussian Naive Bayes classifier with parameter tuning:\n",
    "- (var_smoothing = 1e-05)\n",
    "\n",
    "This approach is focus on tuning specific aspects of the model while relying on default values for the remaining parameters."
   ]
  },
  {
   "cell_type": "code",
   "execution_count": 72,
   "id": "398ecc68",
   "metadata": {},
   "outputs": [
    {
     "name": "stdout",
     "output_type": "stream",
     "text": [
      "Confusion matrix for Naive Bayes\n",
      " [[63 30 31]\n",
      " [10 12  4]\n",
      " [17 14 19]]\n",
      "Accuracy Naive Bayes: 0.470\n",
      "Precision Naive Bayes: 0.470\n",
      "Recall Naive Bayes: 0.470\n",
      "F1-score Naive Bayes: 0.470\n"
     ]
    }
   ],
   "source": [
    "# Create a Naive Bayes classifier with specific parameters\n",
    "nb_classifier = GaussianNB(var_smoothing = 1e-05)\n",
    "\n",
    "# Fit the model on the training data\n",
    "nb_classifier.fit(normalized_x_train, y_train_resampled)\n",
    "\n",
    "# Predictions on the test set\n",
    "y_pred = nb_classifier.predict(normalized_x_test)\n",
    "\n",
    "# Performance metrics\n",
    "cm = confusion_matrix(y_test, y_pred)\n",
    "accuracy = accuracy_score(y_test, y_pred)\n",
    "precision = precision_score(y_test, y_pred, average = 'micro')\n",
    "recall = recall_score(y_test, y_pred, average = 'micro')\n",
    "f1 = f1_score(y_test, y_pred, average = 'micro')\n",
    "\n",
    "print('Confusion matrix for Naive Bayes\\n', cm)\n",
    "print('Accuracy Naive Bayes: %.3f' % accuracy)\n",
    "print('Precision Naive Bayes: %.3f' % precision)\n",
    "print('Recall Naive Bayes: %.3f' % recall)\n",
    "print('F1-score Naive Bayes: %.3f' % f1)"
   ]
  },
  {
   "cell_type": "markdown",
   "id": "58bf73ec",
   "metadata": {},
   "source": [
    "The Gaussian Naive Bayes classifier is configured with specific parameters which represent a tuned configuration. Notably, the var_smoothing is set to 1e-05.\n",
    "\n",
    "The confusion matrix of this tuned parameters classifier displays the same distribution of correct and incorrect predictions across different classes compared to the Gaussian Naive Bayes classifier with  default parameter. The overall accuracy of the model is 47%, meaning 47% of instances were correctly classified across all classes. The precision for this model is 47%, indicating that 47% of instances predicted as positive are indeed positive. The recall for this model is 47%, indicating that 47% of actual positive instances were correctly identified. F1-score represents the balance between precision and recall and the F1-score for this model is 47%.\n",
    "\n",
    "In comparison to the default Random Forest classifier, the tuned model with specific parameters shows no improvement in accuracy, precision, recall and F1-score, indicating a same overall performance compared to the default model."
   ]
  },
  {
   "cell_type": "markdown",
   "id": "1ad35581",
   "metadata": {},
   "source": [
    "[**<span style=\"color:#FEF1FE;background-color:#023e8a;border-radius: 5px;padding: 2px\">Go to Table of Content</span>**](#Content)\n",
    "\n",
    "<a id=\"5\"></a>\n",
    "<h2 style = \"font-size:27px; font-family:Montserrat ; font-weight : bold; background-color: #023e8a; color :#FEF1FE ; text-align: center; border-radius: 5px 5px; padding: 7px\">4. ii) Model Training and Evaluation (K Fold and Grid Search)</h2>"
   ]
  },
  {
   "cell_type": "code",
   "execution_count": 73,
   "id": "fdabec3c",
   "metadata": {},
   "outputs": [],
   "source": [
    "# Import libraries\n",
    "from sklearn.tree import DecisionTreeClassifier\n",
    "from sklearn.ensemble import RandomForestClassifier\n",
    "from sklearn.naive_bayes import GaussianNB\n",
    "from sklearn.model_selection import GridSearchCV, StratifiedKFold\n",
    "from sklearn.metrics import confusion_matrix, accuracy_score, precision_score, recall_score, f1_score"
   ]
  },
  {
   "cell_type": "markdown",
   "id": "e2bcdb1e",
   "metadata": {},
   "source": [
    "K-Fold Cross-Validation is a resampling procedure used in machine learning to assess the performance and generalizability of a model. The dataset is divided into K subsets, and the learning algorithm is trained K times, each time using a different subset as the test set and the remaining data as the training set.\n",
    "\n",
    "Grid Search is a hyperparameter tuning technique used in machine learning to systematically search through a predefined set of hyperparameter combinations for a given model. The goal is to find the combination of hyperparameters that maximizes the performance of the model on a validation set or during cross-validation.\n",
    "\n",
    "The manual tuning used specific hyperparameter values, while the grid search identified different values as the best. This suggests that the manually chosen hyperparameters may not be optimal.\n",
    "\n",
    "Below algorithms utilise the same classification models and same choosen parameters significance as in model training using manual tuning, in order to allow fair comparisons."
   ]
  },
  {
   "cell_type": "markdown",
   "id": "565953e4",
   "metadata": {},
   "source": [
    "<h2 style = \"font-size:23px; font-family:Livvic ; font-weight : bold; background-color:  #023e8a; color :#FEF1FE ; text-align: center; border-radius: 5px 5px; padding: 5px\">Decision Tree</h2>"
   ]
  },
  {
   "cell_type": "code",
   "execution_count": 74,
   "id": "6d681973",
   "metadata": {},
   "outputs": [
    {
     "name": "stdout",
     "output_type": "stream",
     "text": [
      "Best Hyperparameters: {'criterion': 'gini', 'max_depth': None, 'min_samples_leaf': 1, 'min_samples_split': 5, 'splitter': 'random'}\n",
      "Confusion matrix for Decision Tree:\n",
      " [[98 10 16]\n",
      " [20  4  2]\n",
      " [31  4 15]]\n",
      "Accuracy Decision Tree: 0.585\n",
      "Precision Decision Tree: 0.585\n",
      "Recall Decision Tree: 0.585\n",
      "F1-score Decision Tree: 0.585\n"
     ]
    }
   ],
   "source": [
    "# Define the Decision Tree classifier\n",
    "dt_classifier = DecisionTreeClassifier(random_state=1)\n",
    "\n",
    "# Define the hyperparameters and their possible values for tuning\n",
    "param_grid = {\n",
    "    'criterion': ['gini', 'entropy'],\n",
    "    'max_depth': [None, 5, 10, 15],\n",
    "    'min_samples_split': [2, 5, 10],\n",
    "    'min_samples_leaf': [1, 2, 4, 8],\n",
    "    'splitter': ['best', 'random'],\n",
    "}\n",
    "\n",
    "# Create a StratifiedKFold object for cross-validation\n",
    "k_fold = StratifiedKFold(n_splits=5, shuffle=True, random_state=42)\n",
    "\n",
    "# Use GridSearchCV to find the best hyperparameters\n",
    "grid_search = GridSearchCV(dt_classifier, param_grid, cv=k_fold, scoring='accuracy')\n",
    "grid_search.fit(normalized_x_train, y_train_resampled)\n",
    "\n",
    "# Get the best hyperparameters\n",
    "best_params = grid_search.best_params_\n",
    "\n",
    "# Train a Decision Tree model with the best hyperparameters on the entire training set\n",
    "best_dt_model = DecisionTreeClassifier(**best_params)\n",
    "best_dt_model.fit(normalized_x_train, y_train_resampled)\n",
    "\n",
    "# Predictions on the test data\n",
    "y_pred = best_dt_model.predict(normalized_x_test)\n",
    "\n",
    "# Performance metrics\n",
    "cm = confusion_matrix(y_test, y_pred)\n",
    "accuracy = accuracy_score(y_test, y_pred)\n",
    "precision = precision_score(y_test, y_pred, average='micro')\n",
    "recall = recall_score(y_test, y_pred, average='micro')\n",
    "f1 = f1_score(y_test, y_pred, average='micro')\n",
    "\n",
    "# Print the results\n",
    "print('Best Hyperparameters:', best_params)\n",
    "print('Confusion matrix for Decision Tree:\\n', cm)\n",
    "print('Accuracy Decision Tree: %.3f' % accuracy)\n",
    "print('Precision Decision Tree: %.3f' % precision)\n",
    "print('Recall Decision Tree: %.3f' % recall)\n",
    "print('F1-score Decision Tree: %.3f' % f1)"
   ]
  },
  {
   "cell_type": "markdown",
   "id": "1fada1c7",
   "metadata": {},
   "source": [
    "The Decision Tree classifier was tuned using a 5-fold cross-validation approach and the Grid Search technique. The best hyperparameters obtained from the grid search suggest using 'gini' as the criterion, setting 'max_depth' to None (allowing nodes to expand until containing less than 'min_samples_split' samples), 'min_samples_leaf' as 1, 'min_samples_split' as 5 and 'splitter' as 'random'.\n",
    "\n",
    "Comparison:\n",
    "\n",
    "The performance metrics (accuracy, precision, recall, and F1-score) are slightly different between two approaches, with the the K fold and grid search approach showing a small improvement compared to the manually tuned model. The obtained accuracy, precision, recall and F1-score metrics in this approach, all approximately equal to 0.585, while 0.535 and 0.580 in manual tuning. The tuning process has led to a more optimized set of hyperparameters.\n",
    "\n",
    "In summary, the K-fold cross-validation with Grid Search approach seems to have provided a set of hyperparameters that improved the performance of the Decision Tree model compared to manual tuning. The differences may not be substantial, but the tuned model appears to handle the data better, especially in terms of predicting different classes."
   ]
  },
  {
   "cell_type": "markdown",
   "id": "b76f297b",
   "metadata": {},
   "source": [
    "<h2 style = \"font-size:23px; font-family:Livvic ; font-weight : bold; background-color:  #023e8a; color :#FEF1FE ; text-align: center; border-radius: 5px 5px; padding: 5px\">Random Forest</h2>"
   ]
  },
  {
   "cell_type": "code",
   "execution_count": 75,
   "id": "043cde6d",
   "metadata": {
    "scrolled": true
   },
   "outputs": [
    {
     "name": "stdout",
     "output_type": "stream",
     "text": [
      "Best Hyperparameters: {'max_depth': None, 'max_features': 'log2', 'min_samples_leaf': 1, 'min_samples_split': 10, 'n_estimators': 100}\n",
      "Confusion matrix for Random Forest:\n",
      " [[121   0   3]\n",
      " [ 26   0   0]\n",
      " [ 46   1   3]]\n",
      "Accuracy Random Forest: 0.620\n",
      "Precision Random Forest: 0.620\n",
      "Recall Random Forest: 0.620\n",
      "F1-score Random Forest: 0.620\n"
     ]
    }
   ],
   "source": [
    "# Define the Random Forest classifier\n",
    "rf_classifier = RandomForestClassifier(random_state=1)\n",
    "\n",
    "# Define the hyperparameters and their possible values for tuning\n",
    "param_grid = {\n",
    "    'n_estimators': [50, 100, 150],\n",
    "    'max_depth': [None, 5, 10, 15],\n",
    "    'min_samples_split': [2, 5, 10],\n",
    "    'min_samples_leaf': [1, 2, 4, 8],\n",
    "    'max_features': ['auto', 'sqrt', 'log2'],\n",
    "}\n",
    "\n",
    "# Create a StratifiedKFold object for cross-validation\n",
    "k_fold = StratifiedKFold(n_splits=5, shuffle=True, random_state=42)\n",
    "\n",
    "# Use GridSearchCV to find the best hyperparameters\n",
    "grid_search = GridSearchCV(rf_classifier, param_grid, cv=k_fold, scoring='accuracy')\n",
    "grid_search.fit(normalized_x_train, y_train_resampled)\n",
    "\n",
    "# Get the best hyperparameters\n",
    "best_params = grid_search.best_params_\n",
    "\n",
    "# Train a Random Forest model with the best hyperparameters on the entire training set\n",
    "best_rf_model = RandomForestClassifier(**best_params, random_state=1)\n",
    "best_rf_model.fit(normalized_x_train, y_train_resampled)\n",
    "\n",
    "# Predictions on the test set\n",
    "y_pred = best_rf_model.predict(normalized_x_test)\n",
    "\n",
    "# Performance metrics\n",
    "cm = confusion_matrix(y_test, y_pred)\n",
    "accuracy = accuracy_score(y_test, y_pred)\n",
    "precision = precision_score(y_test, y_pred, average='micro')\n",
    "recall = recall_score(y_test, y_pred, average='micro')\n",
    "f1 = f1_score(y_test, y_pred, average='micro')\n",
    "\n",
    "# Print the results\n",
    "print('Best Hyperparameters:', best_params)\n",
    "print('Confusion matrix for Random Forest:\\n', cm)\n",
    "print('Accuracy Random Forest: %.3f' % accuracy)\n",
    "print('Precision Random Forest: %.3f' % precision)\n",
    "print('Recall Random Forest: %.3f' % recall)\n",
    "print('F1-score Random Forest: %.3f' % f1)"
   ]
  },
  {
   "cell_type": "markdown",
   "id": "cc5d389c",
   "metadata": {},
   "source": [
    "The Random Forest classifier was tuned using a 5-fold cross-validation approach and the Grid Search technique. The best hyperparameters obtained from the grid search suggest using 'max_depth' to None, 'max_features' as 'log2', 'min_samples_leaf' as 1, 'min_samples_split' as 10 and 'n_estimators' as 100.\n",
    "\n",
    "Comparison:\n",
    "\n",
    "The performance metrics (accuracy, precision, recall, and F1-score) are slightly improved after tuning with K-Fold Cross-Validation and Grid Search compared to the manually tuned model. The obtained accuracy, precision, recall and F1-score metrics in this approach, all approximately equal to 0.620, while 0.615 and 0.600 in manual tuning. The tuning process has led to a more optimized set of hyperparameters.\n",
    "\n",
    "In summary, the K-fold cross-validation with Grid Search approach seems to have provided a set of hyperparameters that improved the performance of the Random Forest model compared to manual tuning. The differences may not be substantial, but the tuned model appears to handle the data better, especially in terms of predicting different classes."
   ]
  },
  {
   "cell_type": "markdown",
   "id": "8434213f",
   "metadata": {},
   "source": [
    "<h2 style = \"font-size:23px; font-family:Livvic ; font-weight : bold; background-color:  #023e8a; color :#FEF1FE ; text-align: center; border-radius: 5px 5px; padding: 5px\">Gaussian Naive Bayes</h2>"
   ]
  },
  {
   "cell_type": "code",
   "execution_count": 76,
   "id": "cf743aa2",
   "metadata": {},
   "outputs": [
    {
     "name": "stdout",
     "output_type": "stream",
     "text": [
      "Best Hyperparameters: {'var_smoothing': 1e-09}\n",
      "Confusion matrix for Naive Bayes:\n",
      " [[63 30 31]\n",
      " [10 12  4]\n",
      " [17 14 19]]\n",
      "Accuracy Naive Bayes: 0.470\n",
      "Precision Naive Bayes: 0.470\n",
      "Recall Naive Bayes: 0.470\n",
      "F1-score Naive Bayes: 0.470\n"
     ]
    }
   ],
   "source": [
    "# Define the Naive Bayes classifier\n",
    "nb_classifier = GaussianNB()\n",
    "\n",
    "# Define the hyperparameters and their possible values for tuning\n",
    "param_grid = {\n",
    "    'var_smoothing': [1e-9, 1e-8, 1e-7, 1e-6, 1e-5]\n",
    "}\n",
    "\n",
    "# Use GridSearchCV to find the best hyperparameters\n",
    "grid_search = GridSearchCV(nb_classifier, param_grid, scoring='accuracy', cv=5)\n",
    "grid_search.fit(normalized_x_train, y_train_resampled)\n",
    "\n",
    "# Get the best hyperparameters\n",
    "best_params = grid_search.best_params_\n",
    "\n",
    "# Train a Naive Bayes model with the best hyperparameters on the entire training set\n",
    "best_nb_model = GaussianNB(**best_params)\n",
    "best_nb_model.fit(normalized_x_train, y_train_resampled)\n",
    "\n",
    "# Predictions on the test set\n",
    "y_pred = best_nb_model.predict(normalized_x_test)\n",
    "\n",
    "# Performance metrics\n",
    "cm = confusion_matrix(y_test, y_pred)\n",
    "accuracy = accuracy_score(y_test, y_pred)\n",
    "precision = precision_score(y_test, y_pred, average='micro')\n",
    "recall = recall_score(y_test, y_pred, average='micro') \n",
    "f1 = f1_score(y_test, y_pred, average='micro')\n",
    "\n",
    "# Print the results\n",
    "print('Best Hyperparameters:', best_params)\n",
    "print('Confusion matrix for Naive Bayes:\\n', cm)\n",
    "print('Accuracy Naive Bayes: %.3f' % accuracy)\n",
    "print('Precision Naive Bayes: %.3f' % precision)\n",
    "print('Recall Naive Bayes: %.3f' % recall)\n",
    "print('F1-score Naive Bayes: %.3f' % f1)"
   ]
  },
  {
   "cell_type": "markdown",
   "id": "a0b0c5f0",
   "metadata": {},
   "source": [
    "The Gaussian Naive Bayes classifier was tuned using a 5-fold cross-validation approach and the Grid Search technique. The best hyperparameters obtained from the grid search suggest using var_smoothing as 1e-09.\n",
    "\n",
    "Comparison:\n",
    "\n",
    "The performance metrics remain unchanged after tuning with the Grid Search and K-Fold Cross-Validation approach. The manual tuning and the automated tuning both resulted in the same set of hyperparameters. The confusion matrices and all performance metrics (accuracy, precision, recall, and F1-score) are identical with the score of 0.470.\n",
    "\n",
    "In this case, the Naive Bayes classifier with GaussianNB and the specified hyperparameter (var_smoothing) did not benefit significantly from the tuning process. The chosen hyperparameter value from the grid search matches the one manually specified initially. It's possible that Naive Bayes, being a probabilistic model, may not be highly sensitive to the specific choice of this hyperparameter in this particular dataset.\n",
    "\n",
    "While Grid Search and K-Fold Cross-Validation are powerful tools for hyperparameter tuning, their impact depends on the algorithm and the dataset. Some algorithms may not have many hyperparameters to tune or certain hyperparameters may have minimal impact on performance."
   ]
  }
 ],
 "metadata": {
  "kernelspec": {
   "display_name": "Python [conda env:base] *",
   "language": "python",
   "name": "conda-base-py"
  },
  "language_info": {
   "codemirror_mode": {
    "name": "ipython",
    "version": 3
   },
   "file_extension": ".py",
   "mimetype": "text/x-python",
   "name": "python",
   "nbconvert_exporter": "python",
   "pygments_lexer": "ipython3",
   "version": "3.11.5"
  }
 },
 "nbformat": 4,
 "nbformat_minor": 5
}
